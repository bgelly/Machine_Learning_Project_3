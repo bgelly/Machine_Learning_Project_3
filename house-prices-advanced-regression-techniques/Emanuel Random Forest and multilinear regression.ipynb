{
 "cells": [
  {
   "cell_type": "code",
   "execution_count": 1,
   "metadata": {},
   "outputs": [],
   "source": [
    "import numpy as np\n",
    "import pandas as pd\n",
    "import matplotlib.pyplot as plt\n",
    "import statsmodels.api as sm\n",
    "import sklearn"
   ]
  },
  {
   "cell_type": "code",
   "execution_count": 2,
   "metadata": {},
   "outputs": [],
   "source": [
    "data = pd.read_csv('noOutliers.csv')\n"
   ]
  },
  {
   "cell_type": "code",
   "execution_count": 3,
   "metadata": {},
   "outputs": [],
   "source": [
    "X=data.iloc[:,:-1]\n",
    "y= data.iloc[:,-1]"
   ]
  },
  {
   "cell_type": "code",
   "execution_count": 4,
   "metadata": {},
   "outputs": [
    {
     "ename": "AttributeError",
     "evalue": "'DataFrame' object has no attribute 'totSF'",
     "output_type": "error",
     "traceback": [
      "\u001b[0;31m---------------------------------------------------------------------------\u001b[0m",
      "\u001b[0;31mAttributeError\u001b[0m                            Traceback (most recent call last)",
      "\u001b[0;32m<ipython-input-4-0728819f96ab>\u001b[0m in \u001b[0;36m<module>\u001b[0;34m()\u001b[0m\n\u001b[1;32m      1\u001b[0m \u001b[0mX\u001b[0m\u001b[0;34m.\u001b[0m\u001b[0mLotArea\u001b[0m \u001b[0;34m=\u001b[0m \u001b[0;34m[\u001b[0m\u001b[0mi\u001b[0m\u001b[0;34m**\u001b[0m\u001b[0;34m(\u001b[0m\u001b[0;36m1\u001b[0m\u001b[0;34m/\u001b[0m\u001b[0;36m2\u001b[0m\u001b[0;34m)\u001b[0m \u001b[0;32mfor\u001b[0m \u001b[0mi\u001b[0m \u001b[0;32min\u001b[0m \u001b[0mX\u001b[0m\u001b[0;34m.\u001b[0m\u001b[0mLotArea\u001b[0m\u001b[0;34m]\u001b[0m\u001b[0;34m\u001b[0m\u001b[0m\n\u001b[1;32m      2\u001b[0m \u001b[0mX\u001b[0m\u001b[0;34m.\u001b[0m\u001b[0mOpenPorchSF\u001b[0m \u001b[0;34m=\u001b[0m \u001b[0;34m[\u001b[0m\u001b[0mi\u001b[0m\u001b[0;34m**\u001b[0m\u001b[0;34m(\u001b[0m\u001b[0;36m1\u001b[0m\u001b[0;34m/\u001b[0m\u001b[0;36m2\u001b[0m\u001b[0;34m)\u001b[0m \u001b[0;32mfor\u001b[0m \u001b[0mi\u001b[0m \u001b[0;32min\u001b[0m \u001b[0mX\u001b[0m\u001b[0;34m.\u001b[0m\u001b[0mOpenPorchSF\u001b[0m\u001b[0;34m]\u001b[0m\u001b[0;34m\u001b[0m\u001b[0m\n\u001b[0;32m----> 3\u001b[0;31m \u001b[0mX\u001b[0m\u001b[0;34m.\u001b[0m\u001b[0mtotSF\u001b[0m \u001b[0;34m=\u001b[0m \u001b[0;34m[\u001b[0m\u001b[0mi\u001b[0m\u001b[0;34m**\u001b[0m\u001b[0;34m(\u001b[0m\u001b[0;36m2\u001b[0m\u001b[0;34m)\u001b[0m \u001b[0;32mfor\u001b[0m \u001b[0mi\u001b[0m \u001b[0;32min\u001b[0m \u001b[0mX\u001b[0m\u001b[0;34m.\u001b[0m\u001b[0mtotSF\u001b[0m\u001b[0;34m]\u001b[0m\u001b[0;34m\u001b[0m\u001b[0m\n\u001b[0m\u001b[1;32m      4\u001b[0m \u001b[0mX\u001b[0m\u001b[0;34m.\u001b[0m\u001b[0mOverallQual\u001b[0m \u001b[0;34m=\u001b[0m \u001b[0;34m[\u001b[0m\u001b[0mi\u001b[0m\u001b[0;34m**\u001b[0m\u001b[0;34m(\u001b[0m\u001b[0;36m2\u001b[0m\u001b[0;34m)\u001b[0m \u001b[0;32mfor\u001b[0m \u001b[0mi\u001b[0m \u001b[0;32min\u001b[0m \u001b[0mX\u001b[0m\u001b[0;34m.\u001b[0m\u001b[0mOverallQual\u001b[0m\u001b[0;34m]\u001b[0m\u001b[0;34m\u001b[0m\u001b[0m\n\u001b[1;32m      5\u001b[0m \u001b[0;31m# merged.porchSF = [np.log(i+1)for i in merged.porchSF]\u001b[0m\u001b[0;34m\u001b[0m\u001b[0;34m\u001b[0m\u001b[0m\n",
      "\u001b[0;32m~/anaconda3/lib/python3.6/site-packages/pandas/core/generic.py\u001b[0m in \u001b[0;36m__getattr__\u001b[0;34m(self, name)\u001b[0m\n\u001b[1;32m   3612\u001b[0m             \u001b[0;32mif\u001b[0m \u001b[0mname\u001b[0m \u001b[0;32min\u001b[0m \u001b[0mself\u001b[0m\u001b[0;34m.\u001b[0m\u001b[0m_info_axis\u001b[0m\u001b[0;34m:\u001b[0m\u001b[0;34m\u001b[0m\u001b[0m\n\u001b[1;32m   3613\u001b[0m                 \u001b[0;32mreturn\u001b[0m \u001b[0mself\u001b[0m\u001b[0;34m[\u001b[0m\u001b[0mname\u001b[0m\u001b[0;34m]\u001b[0m\u001b[0;34m\u001b[0m\u001b[0m\n\u001b[0;32m-> 3614\u001b[0;31m             \u001b[0;32mreturn\u001b[0m \u001b[0mobject\u001b[0m\u001b[0;34m.\u001b[0m\u001b[0m__getattribute__\u001b[0m\u001b[0;34m(\u001b[0m\u001b[0mself\u001b[0m\u001b[0;34m,\u001b[0m \u001b[0mname\u001b[0m\u001b[0;34m)\u001b[0m\u001b[0;34m\u001b[0m\u001b[0m\n\u001b[0m\u001b[1;32m   3615\u001b[0m \u001b[0;34m\u001b[0m\u001b[0m\n\u001b[1;32m   3616\u001b[0m     \u001b[0;32mdef\u001b[0m \u001b[0m__setattr__\u001b[0m\u001b[0;34m(\u001b[0m\u001b[0mself\u001b[0m\u001b[0;34m,\u001b[0m \u001b[0mname\u001b[0m\u001b[0;34m,\u001b[0m \u001b[0mvalue\u001b[0m\u001b[0;34m)\u001b[0m\u001b[0;34m:\u001b[0m\u001b[0;34m\u001b[0m\u001b[0m\n",
      "\u001b[0;31mAttributeError\u001b[0m: 'DataFrame' object has no attribute 'totSF'"
     ]
    }
   ],
   "source": [
    "X.LotArea = [i**(1/2) for i in X.LotArea]\n",
    "X.OpenPorchSF = [i**(1/2) for i in X.OpenPorchSF]\n",
    "X.totSF = [i**(2) for i in X.totSF]\n",
    "X.OverallQual = [i**(2) for i in X.OverallQual]\n",
    "# merged.porchSF = [np.log(i+1)for i in merged.porchSF]\n",
    "# merged.WoodDeckSF = [np.log(i+1)for i in merged.WoodDeckSF]\n",
    "# merged.LotArea = [math.sqrt(i)for i in merged.LotArea]\n",
    "# merged.OverallQual = [math.sqrt(i) for i in merged.OverallQual]\n",
    "# merged.TotRmsAbvGrd = [np.log(i) for i in merged.TotRmsAbvGrd]\n",
    "# merged.totSF = [np.log(i) for i in merged.totSF]"
   ]
  },
  {
   "cell_type": "code",
   "execution_count": 227,
   "metadata": {},
   "outputs": [],
   "source": [
    "from sklearn.cross_validation import train_test_split\n",
    "X_train, X_test, y_train, y_test = train_test_split(X, y, test_size = 0.2, random_state = 0)"
   ]
  },
  {
   "cell_type": "code",
   "execution_count": 228,
   "metadata": {},
   "outputs": [
    {
     "data": {
      "text/plain": [
       "RandomForestRegressor(bootstrap=True, criterion='mse', max_depth=None,\n",
       "           max_features='auto', max_leaf_nodes=None,\n",
       "           min_impurity_decrease=0.0, min_impurity_split=None,\n",
       "           min_samples_leaf=1, min_samples_split=2,\n",
       "           min_weight_fraction_leaf=0.0, n_estimators=100, n_jobs=1,\n",
       "           oob_score=False, random_state=0, verbose=0, warm_start=False)"
      ]
     },
     "execution_count": 228,
     "metadata": {},
     "output_type": "execute_result"
    }
   ],
   "source": [
    "# Creating a random forest model\n",
    "\n",
    "from sklearn.ensemble import RandomForestRegressor, GradientBoostingClassifier\n",
    "randomForest = RandomForestRegressor(n_estimators = 100, random_state=0)\n",
    "randomForest.fit(X_train,y_train) "
   ]
  },
  {
   "cell_type": "code",
   "execution_count": 233,
   "metadata": {},
   "outputs": [
    {
     "ename": "NameError",
     "evalue": "name 'rsmle' is not defined",
     "output_type": "error",
     "traceback": [
      "\u001b[0;31m---------------------------------------------------------------------------\u001b[0m",
      "\u001b[0;31mNameError\u001b[0m                                 Traceback (most recent call last)",
      "\u001b[0;32m<ipython-input-233-48b117c25c29>\u001b[0m in \u001b[0;36m<module>\u001b[0;34m()\u001b[0m\n\u001b[1;32m      1\u001b[0m \u001b[0mrand_pred\u001b[0m \u001b[0;34m=\u001b[0m \u001b[0mrandomForest\u001b[0m\u001b[0;34m.\u001b[0m\u001b[0mpredict\u001b[0m\u001b[0;34m(\u001b[0m\u001b[0mX_test\u001b[0m\u001b[0;34m)\u001b[0m\u001b[0;34m\u001b[0m\u001b[0m\n\u001b[1;32m      2\u001b[0m \u001b[0mrand\u001b[0m \u001b[0;34m=\u001b[0m \u001b[0msum\u001b[0m\u001b[0;34m(\u001b[0m\u001b[0;34m(\u001b[0m\u001b[0my_test\u001b[0m \u001b[0;34m-\u001b[0m \u001b[0mrand_pred\u001b[0m\u001b[0;34m)\u001b[0m\u001b[0;34m**\u001b[0m\u001b[0;36m2\u001b[0m\u001b[0;34m)\u001b[0m\u001b[0;34m\u001b[0m\u001b[0m\n\u001b[0;32m----> 3\u001b[0;31m \u001b[0mrsmle\u001b[0m\u001b[0;34m(\u001b[0m\u001b[0mrand_pred\u001b[0m\u001b[0;34m,\u001b[0m\u001b[0my_test\u001b[0m\u001b[0;34m)\u001b[0m\u001b[0;34m\u001b[0m\u001b[0m\n\u001b[0m",
      "\u001b[0;31mNameError\u001b[0m: name 'rsmle' is not defined"
     ]
    }
   ],
   "source": [
    "rand_pred = randomForest.predict(X_test)\n",
    "rand = sum((y_test - rand_pred)**2)\n",
    "rsmle(rand_pred,y_test)"
   ]
  },
  {
   "cell_type": "code",
   "execution_count": null,
   "metadata": {},
   "outputs": [],
   "source": [
    "variance importance plot\n"
   ]
  },
  {
   "cell_type": "code",
   "execution_count": 234,
   "metadata": {},
   "outputs": [],
   "source": [
    "import numpy as np\n",
    "\n",
    "def rmsle(h, y):\n",
    "   \"\"\"\n",
    "   Compute the Root Mean Squared Log Error for hypthesis h and targets y\n",
    "   \n",
    "   Args:\n",
    "       h - numpy array containing predictions with shape (n_samples, n_targets)\n",
    "       y - numpy array containing targets with shape (n_samples, n_targets)\n",
    "   \"\"\"\n",
    "   return np.sqrt(np.square(np.log(h + 1) - np.log(y + 1)).mean())"
   ]
  },
  {
   "cell_type": "code",
   "execution_count": 235,
   "metadata": {},
   "outputs": [
    {
     "data": {
      "text/plain": [
       "0.1630672585619909"
      ]
     },
     "execution_count": 235,
     "metadata": {},
     "output_type": "execute_result"
    }
   ],
   "source": [
    "rmsle(rand_pred,y_test)"
   ]
  },
  {
   "cell_type": "code",
   "execution_count": null,
   "metadata": {},
   "outputs": [],
   "source": []
  },
  {
   "cell_type": "code",
   "execution_count": 133,
   "metadata": {},
   "outputs": [
    {
     "name": "stderr",
     "output_type": "stream",
     "text": [
      "/Users/emanuelkamali/anaconda3/lib/python3.6/site-packages/sklearn/feature_selection/univariate_selection.py:298: RuntimeWarning: invalid value encountered in true_divide\n",
      "  corr /= X_norms\n",
      "/Users/emanuelkamali/anaconda3/lib/python3.6/site-packages/scipy/stats/_distn_infrastructure.py:879: RuntimeWarning: invalid value encountered in greater\n",
      "  return (self.a < x) & (x < self.b)\n",
      "/Users/emanuelkamali/anaconda3/lib/python3.6/site-packages/scipy/stats/_distn_infrastructure.py:879: RuntimeWarning: invalid value encountered in less\n",
      "  return (self.a < x) & (x < self.b)\n",
      "/Users/emanuelkamali/anaconda3/lib/python3.6/site-packages/scipy/stats/_distn_infrastructure.py:1821: RuntimeWarning: invalid value encountered in less_equal\n",
      "  cond2 = cond0 & (x <= self.a)\n"
     ]
    },
    {
     "data": {
      "text/plain": [
       "(1152, 60)"
      ]
     },
     "execution_count": 133,
     "metadata": {},
     "output_type": "execute_result"
    }
   ],
   "source": [
    "import sklearn.feature_selection as fs\n",
    "best60 = fs.SelectKBest(fs.f_regression, k=60).fit_transform(X_train, y_train)\n",
    "best60.shape"
   ]
  },
  {
   "cell_type": "code",
   "execution_count": 96,
   "metadata": {},
   "outputs": [
    {
     "data": {
      "text/plain": [
       "['MSSubClass_20',\n",
       " 'MSSubClass_30',\n",
       " 'MSSubClass_40',\n",
       " 'MSSubClass_45',\n",
       " 'MSSubClass_50',\n",
       " 'MSSubClass_70',\n",
       " 'MSSubClass_75',\n",
       " 'MSSubClass_80',\n",
       " 'MSSubClass_85',\n",
       " 'MSSubClass_90',\n",
       " 'MSSubClass_120',\n",
       " 'MSSubClass_160',\n",
       " 'MSSubClass_180',\n",
       " 'MSSubClass_190',\n",
       " 'MSZoning_C (all)',\n",
       " 'MSZoning_FV',\n",
       " 'MSZoning_RH',\n",
       " 'MSZoning_RM',\n",
       " 'LotShape_IR1',\n",
       " 'LotShape_IR2',\n",
       " 'LotShape_IR3',\n",
       " 'LandContour_Bnk',\n",
       " 'LandContour_HLS',\n",
       " 'LandContour_Low',\n",
       " 'LotConfig_Corner',\n",
       " 'LotConfig_CulDSac',\n",
       " 'LotConfig_FR2',\n",
       " 'LotConfig_FR3',\n",
       " 'Neighborhood_Blmngtn',\n",
       " 'Neighborhood_Blueste',\n",
       " 'Neighborhood_BrDale',\n",
       " 'Neighborhood_BrkSide',\n",
       " 'Neighborhood_ClearCr',\n",
       " 'Neighborhood_Crawfor',\n",
       " 'Neighborhood_Edwards',\n",
       " 'Neighborhood_Gilbert',\n",
       " 'Neighborhood_IDOTRR',\n",
       " 'Neighborhood_MeadowV',\n",
       " 'Neighborhood_Mitchel',\n",
       " 'Neighborhood_NAmes',\n",
       " 'Neighborhood_NPkVill',\n",
       " 'Neighborhood_NWAmes',\n",
       " 'Neighborhood_NoRidge',\n",
       " 'Neighborhood_NridgHt',\n",
       " 'Neighborhood_OldTown',\n",
       " 'Neighborhood_SWISU',\n",
       " 'Neighborhood_Sawyer',\n",
       " 'Neighborhood_SawyerW',\n",
       " 'Neighborhood_Somerst',\n",
       " 'Neighborhood_StoneBr',\n",
       " 'Neighborhood_Timber',\n",
       " 'Neighborhood_Veenker',\n",
       " 'Condition1_Artery',\n",
       " 'Condition1_Feedr',\n",
       " 'Condition1_PosA',\n",
       " 'Condition1_PosN',\n",
       " 'Condition1_RRAe',\n",
       " 'Condition1_RRAn',\n",
       " 'Condition1_RRNe',\n",
       " 'Condition1_RRNn',\n",
       " 'Condition2_Artery',\n",
       " 'Condition2_Feedr',\n",
       " 'Condition2_PosA',\n",
       " 'Condition2_PosN',\n",
       " 'Condition2_RRAe',\n",
       " 'Condition2_RRAn',\n",
       " 'Condition2_RRNn',\n",
       " 'BldgType_2fmCon',\n",
       " 'BldgType_Duplex',\n",
       " 'BldgType_Twnhs',\n",
       " 'BldgType_TwnhsE',\n",
       " 'HouseStyle_1.5Fin',\n",
       " 'HouseStyle_1.5Unf',\n",
       " 'HouseStyle_1Story',\n",
       " 'HouseStyle_2.5Fin',\n",
       " 'HouseStyle_2.5Unf',\n",
       " 'HouseStyle_SFoyer',\n",
       " 'HouseStyle_SLvl',\n",
       " 'RoofStyle_Flat',\n",
       " 'RoofStyle_Gambrel',\n",
       " 'RoofStyle_Hip',\n",
       " 'RoofStyle_Mansard',\n",
       " 'RoofStyle_Shed',\n",
       " 'RoofMatl_ClyTile',\n",
       " 'RoofMatl_Membran',\n",
       " 'RoofMatl_Metal',\n",
       " 'RoofMatl_Roll',\n",
       " 'RoofMatl_Tar&Grv',\n",
       " 'RoofMatl_WdShake',\n",
       " 'RoofMatl_WdShngl',\n",
       " 'Exterior1st_AsbShng',\n",
       " 'Exterior1st_AsphShn',\n",
       " 'Exterior1st_BrkComm',\n",
       " 'Exterior1st_BrkFace',\n",
       " 'Exterior1st_CBlock',\n",
       " 'Exterior1st_CemntBd',\n",
       " 'Exterior1st_HdBoard',\n",
       " 'Exterior1st_ImStucc',\n",
       " 'Exterior1st_MetalSd',\n",
       " 'Exterior1st_Plywood',\n",
       " 'Exterior1st_Stone',\n",
       " 'Exterior1st_Stucco',\n",
       " 'Exterior1st_Wd Sdng',\n",
       " 'Exterior1st_WdShing',\n",
       " 'Exterior2nd_AsbShng',\n",
       " 'Exterior2nd_AsphShn',\n",
       " 'Exterior2nd_Brk Cmn',\n",
       " 'Exterior2nd_BrkFace',\n",
       " 'Exterior2nd_CBlock',\n",
       " 'Exterior2nd_CmentBd',\n",
       " 'Exterior2nd_HdBoard',\n",
       " 'Exterior2nd_ImStucc',\n",
       " 'Exterior2nd_MetalSd',\n",
       " 'Exterior2nd_Other',\n",
       " 'Exterior2nd_Plywood',\n",
       " 'Exterior2nd_Stone',\n",
       " 'Exterior2nd_Stucco',\n",
       " 'Exterior2nd_Wd Sdng',\n",
       " 'Exterior2nd_Wd Shng',\n",
       " 'MasVnrType_BrkCmn',\n",
       " 'MasVnrType_No',\n",
       " 'MasVnrType_None',\n",
       " 'MasVnrType_Stone',\n",
       " 'Foundation_BrkTil',\n",
       " 'Foundation_CBlock',\n",
       " 'Foundation_Slab',\n",
       " 'Foundation_Stone',\n",
       " 'Foundation_Wood',\n",
       " 'Heating_Floor',\n",
       " 'Heating_GasW',\n",
       " 'Heating_Grav',\n",
       " 'Heating_OthW',\n",
       " 'Heating_Wall',\n",
       " 'GarageType_2Types',\n",
       " 'GarageType_Basment',\n",
       " 'GarageType_BuiltIn',\n",
       " 'GarageType_CarPort',\n",
       " 'GarageType_Detchd',\n",
       " 'GarageType_No',\n",
       " 'SaleType_COD',\n",
       " 'SaleType_CWD',\n",
       " 'SaleType_Con',\n",
       " 'SaleType_ConLD',\n",
       " 'SaleType_ConLI',\n",
       " 'SaleType_ConLw',\n",
       " 'SaleType_New',\n",
       " 'SaleType_Oth',\n",
       " 'SaleCondition_Abnorml',\n",
       " 'SaleCondition_AdjLand',\n",
       " 'SaleCondition_Alloca',\n",
       " 'SaleCondition_Family',\n",
       " 'SaleCondition_Partial',\n",
       " 'Fence_GdPrv',\n",
       " 'Fence_GdWo',\n",
       " 'Fence_MnPrv',\n",
       " 'Fence_MnWw',\n",
       " 'Electrical_FuseA',\n",
       " 'Electrical_FuseF',\n",
       " 'Electrical_FuseP',\n",
       " 'Electrical_Mix',\n",
       " 'Electrical_No',\n",
       " 'LotFrontage',\n",
       " 'LotArea',\n",
       " 'Street',\n",
       " 'Alley',\n",
       " 'LandSlope',\n",
       " 'OverallQual',\n",
       " 'OverallCond',\n",
       " 'YearBuilt',\n",
       " 'YearRemodAdd',\n",
       " 'MasVnrArea',\n",
       " 'ExterQual',\n",
       " 'ExterCond',\n",
       " 'BsmtQual',\n",
       " 'BsmtCond',\n",
       " 'BsmtExposure',\n",
       " 'BsmtFinType1',\n",
       " 'BsmtFinSF1',\n",
       " 'BsmtFinType2',\n",
       " 'BsmtFinSF2',\n",
       " 'BsmtUnfSF',\n",
       " 'TotalBsmtSF',\n",
       " 'HeatingQC',\n",
       " 'CentralAir',\n",
       " '1stFlrSF',\n",
       " '2ndFlrSF',\n",
       " 'LowQualFinSF',\n",
       " 'GrLivArea',\n",
       " 'BsmtFullBath',\n",
       " 'BsmtHalfBath',\n",
       " 'FullBath',\n",
       " 'HalfBath',\n",
       " 'BedroomAbvGr',\n",
       " 'KitchenAbvGr',\n",
       " 'KitchenQual',\n",
       " 'TotRmsAbvGrd',\n",
       " 'Functional',\n",
       " 'Fireplaces',\n",
       " 'FireplaceQu',\n",
       " 'GarageFinish',\n",
       " 'GarageCars',\n",
       " 'GarageArea',\n",
       " 'GarageQual',\n",
       " 'GarageCond',\n",
       " 'PavedDrive',\n",
       " 'WoodDeckSF',\n",
       " 'OpenPorchSF',\n",
       " 'EnclosedPorch',\n",
       " '3SsnPorch',\n",
       " 'ScreenPorch',\n",
       " 'Pool',\n",
       " 'PoolQC',\n",
       " 'Shed',\n",
       " 'MiscVal',\n",
       " 'MoSold',\n",
       " 'YrSold']"
      ]
     },
     "execution_count": 96,
     "metadata": {},
     "output_type": "execute_result"
    }
   ],
   "source": [
    "names = [i for i in list(X)]\n",
    "names"
   ]
  },
  {
   "cell_type": "raw",
   "metadata": {},
   "source": []
  },
  {
   "cell_type": "code",
   "execution_count": 211,
   "metadata": {},
   "outputs": [
    {
     "data": {
      "text/plain": [
       "LinearRegression(copy_X=True, fit_intercept=True, n_jobs=1, normalize=False)"
      ]
     },
     "execution_count": 211,
     "metadata": {},
     "output_type": "execute_result"
    }
   ],
   "source": [
    "# Creating a multilinear regression model\n",
    "from sklearn.linear_model import LinearRegression\n",
    "regressor = LinearRegression()\n",
    "regressor.fit(X_train, y_train)"
   ]
  },
  {
   "cell_type": "code",
   "execution_count": 214,
   "metadata": {},
   "outputs": [
    {
     "data": {
      "text/plain": [
       "10057347366.455322"
      ]
     },
     "execution_count": 214,
     "metadata": {},
     "output_type": "execute_result"
    }
   ],
   "source": [
    "y_pred = regressor.predict(X_test)\n",
    "rss1 = sum((y_pred - y_test)**2)\n",
    "rss1\n",
    "(191900000000- rss1)/"
   ]
  },
  {
   "cell_type": "code",
   "execution_count": 112,
   "metadata": {},
   "outputs": [
    {
     "name": "stdout",
     "output_type": "stream",
     "text": [
      "Coefficients: \n",
      " [ 3.13589007e+03  5.64822221e+03 -2.59731114e+03 -8.40279830e+03\n",
      "  1.99749419e+03  3.87667962e+03  2.15241633e+04 -1.86619890e+04\n",
      " -1.30415012e+04 -6.14698070e+03 -7.90840718e+03 -1.82387587e+04\n",
      " -2.00716800e+04 -1.89096294e+04 -1.32286708e+04  9.59494053e+02\n",
      "  6.16435098e+02 -2.06244159e+03 -1.37911762e+03  5.28385091e+03\n",
      " -2.41130896e+03  6.93861992e+02 -3.80520620e+03 -1.23216138e+04\n",
      " -1.94730981e+01  6.59042111e+03 -2.87227381e+03 -1.44554553e+04\n",
      "  1.44594589e+04  5.00878622e+04  2.28180683e+04  1.67075240e+04\n",
      "  2.14993647e+03  2.57175251e+04 -7.82436677e+02 -1.32471598e+03\n",
      "  1.87502461e+03  1.45743767e+04  2.17220721e+03  8.36655754e+02\n",
      "  2.68668253e+04 -2.08810103e+03  2.76714886e+04  3.94797246e+04\n",
      "  1.08207632e+03  2.71049830e+03  9.70135728e+03  1.00748071e+04\n",
      "  1.81309562e+04  5.74091938e+04  1.17211168e+03  1.58601330e+04\n",
      " -9.24049855e+03 -6.78810425e+03 -7.00621525e+03  5.60893827e+02\n",
      " -3.71995786e+04 -4.29579279e+03 -2.08127133e+04 -1.65978316e+03\n",
      "  3.54702934e-09 -1.70998633e+03  4.86996830e+04 -3.74650603e+04\n",
      " -1.21121957e-09 -5.49334800e-09  1.56396645e+04  1.26929251e+04\n",
      " -6.14698069e+03 -1.80754281e+04 -1.35252627e+04  1.83205239e+03\n",
      "  1.69357977e+04  8.13269275e+03 -1.96215065e+04 -2.52782749e+04\n",
      "  9.18722130e+03  2.33181875e+04  3.09423209e+04 -1.35431103e+03\n",
      "  2.55576262e+03  9.04780928e+03  3.42247757e+04 -6.29370334e-10\n",
      " -2.00696619e+03 -2.51099664e+04 -2.74912614e+04 -5.10271788e+04\n",
      " -1.85841113e+04  3.59124069e+04  2.14858107e+03 -1.39612149e+04\n",
      " -1.26678154e+04  7.42673129e+03  2.30546514e+03 -4.05353892e+04\n",
      " -7.47578453e+03 -1.38476184e+04  2.63617009e+03 -6.77777849e+03\n",
      "  2.08433631e+04  7.38987061e+03 -5.09159183e+03  3.25035360e+03\n",
      "  7.07608909e+02  7.69706262e+03  1.17167557e+04  3.81522628e+03\n",
      "  2.30546514e+03  4.79510257e+04  2.86459082e+03  2.94419347e+03\n",
      " -8.91499105e+02 -4.22589927e+04  2.41376998e+02 -8.40582147e+03\n",
      " -4.57701812e+03  3.65447890e+03 -8.10912900e+03 -4.67701766e+03\n",
      " -1.85916237e+04  4.41961918e+03  5.49556553e+03 -4.46221810e+03\n",
      " -5.35498947e+02  1.35810565e+04  3.94374698e+03  5.85694799e+03\n",
      " -2.77395884e-11  2.50945551e+03  9.84249980e+02 -2.63542171e+04\n",
      "  3.28241638e+03 -1.92654263e+04  4.47667373e+03  5.37236631e+03\n",
      " -2.76806864e+03  6.67241352e+03  3.47896643e+04 -3.01046826e+03\n",
      "  1.89335073e+04  2.54570241e+04  2.52117880e+04 -1.19886951e+04\n",
      "  4.14754546e+02  7.07399719e+04  1.01395571e+04 -5.83225333e+03\n",
      "  1.95134690e+04 -1.73457459e+04 -2.53667158e+03 -5.11085584e+04\n",
      " -6.57538842e+03  1.16856162e+03 -6.55982038e+02 -1.62275495e+03\n",
      "  4.42119706e+03  9.91832665e+03  4.35573284e+03  2.30876403e+04\n",
      "  9.54720910e+03  6.29267235e+00  1.32779740e+00  2.75501750e+04\n",
      "  2.64535766e+03 -3.20149350e+03  8.43014389e+03  6.30182317e+03\n",
      "  3.77607342e+02  1.77204888e+01  2.96473607e+01  3.58314302e+03\n",
      " -8.60508879e+02  2.98047882e+03 -5.68024376e+03  7.31783267e+03\n",
      "  3.39973689e+02  1.61343868e+01 -5.43999690e+02  1.84617631e+00\n",
      " -2.76232247e-01  1.77043273e+01  1.11247642e+03  1.60073387e+03\n",
      "  1.04480400e+01  2.02097872e+01  2.35987141e+00  3.30176678e+01\n",
      "  2.59725771e+03 -2.26597858e+03  1.58759111e+03  3.47416024e+03\n",
      " -6.74831473e+03 -7.30057156e+03  5.56744068e+03  3.89563391e+03\n",
      "  5.15059416e+03  5.70096451e+03 -1.66698848e+03  1.07758644e+02\n",
      "  6.19350862e+03  8.61878375e+00  7.18884255e+03 -1.47370920e+03\n",
      "  1.17641785e+03  8.55950840e+00  2.19022177e+01  1.77155158e+01\n",
      "  2.25280721e+01  4.89347710e+01  5.77164963e+02 -3.31232217e+05\n",
      "  1.62430566e+03  4.40661073e-01 -3.68358798e+02  1.28941412e+01]\n",
      "Mean Squared Error: 667336107.61\n",
      "Variance Score: 0.89\n"
     ]
    }
   ],
   "source": [
    "print(\"Coefficients: \\n\", regressor.coef_)\n",
    "print(\"Mean Squared Error: %.2f\" % np.mean((y_test-y_pred)**2))\n",
    "print('Variance Score: %.2f' % regressor.score(X_test, y_test))"
   ]
  },
  {
   "cell_type": "code",
   "execution_count": 115,
   "metadata": {},
   "outputs": [],
   "source": [
    "coefficients = regressor.coef_.tolist()\n",
    "# pd.DataFrame(zip(names,coefficients), columns = ['names','coefficients'])"
   ]
  },
  {
   "cell_type": "code",
   "execution_count": 122,
   "metadata": {},
   "outputs": [
    {
     "name": "stdout",
     "output_type": "stream",
     "text": [
      "----------------------- CREAT A correlation plot -----------------------\n"
     ]
    },
    {
     "data": {
      "image/png": "[encoded data removed]",
      "text/plain": [
       "<matplotlib.figure.Figure at 0x1c22dfb080>"
      ]
     },
     "metadata": {},
     "output_type": "display_data"
    }
   ],
   "source": []
  },
  {
   "cell_type": "code",
   "execution_count": 131,
   "metadata": {
    "scrolled": true
   },
   "outputs": [
    {
     "name": "stdout",
     "output_type": "stream",
     "text": [
      "Top Absolute Correlations\n",
      "Exterior1st_CBlock   Exterior2nd_CBlock       1.000000\n",
      "MSSubClass_90        BldgType_Duplex          1.000000\n",
      "Pool                 PoolQC                   0.990000\n",
      "SaleType_New         SaleCondition_Partial    0.989206\n",
      "MSSubClass_190       BldgType_2fmCon          0.977586\n",
      "Exterior1st_CemntBd  Exterior2nd_CmentBd      0.975842\n",
      "MSSubClass_80        HouseStyle_SLvl          0.969404\n",
      "Exterior1st_MetalSd  Exterior2nd_MetalSd      0.969315\n",
      "GarageQual           GarageCond               0.957747\n",
      "MSSubClass_45        HouseStyle_1.5Unf        0.948268\n",
      "MSSubClass_50        HouseStyle_1.5Fin        0.947352\n",
      "GarageType_No        GarageCond               0.940842\n",
      "                     GarageQual               0.936817\n",
      "Exterior1st_AsbShng  Exterior2nd_AsbShng      0.911666\n",
      "Exterior1st_HdBoard  Exterior2nd_HdBoard      0.882494\n",
      "GarageCars           GarageArea               0.876530\n",
      "Fireplaces           FireplaceQu              0.867345\n",
      "RoofStyle_Flat       RoofMatl_Tar&Grv         0.851684\n",
      "Exterior1st_Wd Sdng  Exterior2nd_Wd Sdng      0.851278\n",
      "MSZoning_FV          Neighborhood_Somerst     0.837450\n",
      "GrLivArea            TotRmsAbvGrd             0.827462\n",
      "Exterior1st_Stucco   Exterior2nd_Stucco       0.826432\n",
      "TotalBsmtSF          1stFlrSF                 0.808581\n",
      "HouseStyle_1Story    2ndFlrSF                 0.798466\n",
      "MSSubClass_120       BldgType_TwnhsE          0.795683\n",
      "BsmtFinType2         BsmtFinSF2               0.793842\n",
      "MSSubClass_20        HouseStyle_1Story        0.754181\n",
      "Exterior1st_Plywood  Exterior2nd_Plywood      0.748289\n",
      "Foundation_Slab      BsmtCond                 0.739780\n",
      "MSSubClass_85        HouseStyle_SFoyer        0.724037\n",
      "BsmtFinType1         BsmtFinSF1               0.722874\n",
      "OverallQual          ExterQual                0.722050\n",
      "ExterQual            KitchenQual              0.718425\n",
      "Exterior1st_BrkFace  Exterior2nd_BrkFace      0.710328\n",
      "MasVnrType_None      MasVnrArea               0.702472\n",
      "2ndFlrSF             GrLivArea                0.697583\n",
      "BedroomAbvGr         TotRmsAbvGrd             0.682992\n",
      "MSSubClass_90        KitchenAbvGr             0.678852\n",
      "BldgType_Duplex      KitchenAbvGr             0.678852\n",
      "OverallQual          KitchenQual              0.673444\n",
      "BsmtFinSF1           BsmtFullBath             0.670159\n",
      "YearBuilt            BsmtQual                 0.661071\n",
      "OverallQual          BsmtQual                 0.650253\n",
      "MSSubClass_75        HouseStyle_2.5Unf        0.636710\n",
      "MSSubClass_160       BldgType_Twnhs           0.632681\n",
      "dtype: float64\n"
     ]
    }
   ],
   "source": []
  },
  {
   "cell_type": "code",
   "execution_count": 125,
   "metadata": {},
   "outputs": [
    {
     "data": {
      "text/plain": [
       "<bound method DataFrame.corr of       MSSubClass_20  MSSubClass_30  MSSubClass_40  MSSubClass_45  \\\n",
       "482               0              0              0              0   \n",
       "1050              0              0              0              0   \n",
       "670               0              0              0              0   \n",
       "1239              1              0              0              0   \n",
       "530               0              0              0              0   \n",
       "1010              1              0              0              0   \n",
       "353               0              0              0              0   \n",
       "1440              1              0              0              0   \n",
       "1086              1              0              0              0   \n",
       "1368              0              0              0              0   \n",
       "390               1              0              0              0   \n",
       "826               0              0              0              0   \n",
       "312               0              0              0              0   \n",
       "438               1              0              0              0   \n",
       "950               0              0              0              0   \n",
       "546               0              0              0              0   \n",
       "1437              1              0              0              0   \n",
       "473               0              0              0              0   \n",
       "674               0              0              0              0   \n",
       "506               0              0              0              0   \n",
       "445               0              0              0              0   \n",
       "879               1              0              0              0   \n",
       "528               1              0              0              0   \n",
       "446               0              0              0              0   \n",
       "526               1              0              0              0   \n",
       "632               0              0              0              0   \n",
       "648               1              0              0              0   \n",
       "1366              0              0              0              0   \n",
       "1304              0              0              0              0   \n",
       "461               0              0              0              0   \n",
       "...             ...            ...            ...            ...   \n",
       "1416              1              0              0              0   \n",
       "1201              0              0              0              0   \n",
       "99                1              0              0              0   \n",
       "850               1              0              0              0   \n",
       "448               0              0              0              0   \n",
       "755               1              0              0              0   \n",
       "976               0              0              0              0   \n",
       "115               0              0              0              0   \n",
       "777               0              0              0              0   \n",
       "72                0              0              0              0   \n",
       "845               0              0              0              0   \n",
       "537               1              0              0              0   \n",
       "849               1              0              0              0   \n",
       "174               1              0              0              0   \n",
       "87                0              0              0              0   \n",
       "551               0              1              0              0   \n",
       "705               0              0              0              0   \n",
       "314               0              0              0              0   \n",
       "1420              0              0              0              0   \n",
       "600               0              0              0              0   \n",
       "1094              1              0              0              0   \n",
       "599               0              0              0              0   \n",
       "277               0              0              0              0   \n",
       "1033              1              0              0              0   \n",
       "1383              1              0              0              0   \n",
       "763               1              0              0              0   \n",
       "835               0              0              0              0   \n",
       "1216              1              0              0              0   \n",
       "559               0              0              0              0   \n",
       "684               0              1              0              0   \n",
       "\n",
       "      MSSubClass_50  MSSubClass_70  MSSubClass_75  MSSubClass_80  \\\n",
       "482               1              0              0              0   \n",
       "1050              0              0              0              0   \n",
       "670               1              0              0              0   \n",
       "1239              0              0              0              0   \n",
       "530               0              0              0              0   \n",
       "1010              0              0              0              0   \n",
       "353               0              0              0              1   \n",
       "1440              0              0              0              0   \n",
       "1086              0              0              0              0   \n",
       "1368              0              0              0              0   \n",
       "390               0              0              0              0   \n",
       "826               0              1              0              0   \n",
       "312               0              0              0              0   \n",
       "438               0              0              0              0   \n",
       "950               0              0              0              0   \n",
       "546               1              0              0              0   \n",
       "1437              0              0              0              0   \n",
       "473               0              1              0              0   \n",
       "674               0              0              0              0   \n",
       "506               0              0              0              1   \n",
       "445               0              0              0              0   \n",
       "879               0              0              0              0   \n",
       "528               0              0              0              0   \n",
       "446               0              0              0              0   \n",
       "526               0              0              0              0   \n",
       "632               0              0              0              0   \n",
       "648               0              0              0              0   \n",
       "1366              1              0              0              0   \n",
       "1304              0              0              0              0   \n",
       "461               0              0              0              0   \n",
       "...             ...            ...            ...            ...   \n",
       "1416              0              0              0              0   \n",
       "1201              1              0              0              0   \n",
       "99                0              0              0              0   \n",
       "850               0              0              0              0   \n",
       "448               0              1              0              0   \n",
       "755               0              0              0              0   \n",
       "976               0              0              0              0   \n",
       "115               0              0              0              0   \n",
       "777               0              0              0              1   \n",
       "72                0              0              0              0   \n",
       "845               0              0              0              0   \n",
       "537               0              0              0              0   \n",
       "849               0              0              0              0   \n",
       "174               0              0              0              0   \n",
       "87                0              0              0              0   \n",
       "551               0              0              0              0   \n",
       "705               0              0              0              0   \n",
       "314               0              0              0              0   \n",
       "1420              0              0              0              0   \n",
       "600               0              0              0              1   \n",
       "1094              0              0              0              0   \n",
       "599               0              0              0              0   \n",
       "277               0              0              0              0   \n",
       "1033              0              0              0              0   \n",
       "1383              0              0              0              0   \n",
       "763               0              0              0              0   \n",
       "835               0              0              0              1   \n",
       "1216              0              0              0              0   \n",
       "559               0              0              0              0   \n",
       "684               0              0              0              0   \n",
       "\n",
       "      MSSubClass_85  MSSubClass_90   ...    OpenPorchSF  EnclosedPorch  \\\n",
       "482               0              0   ...              0             32   \n",
       "1050              0              0   ...             44              0   \n",
       "670               0              0   ...              0             56   \n",
       "1239              0              0   ...             36              0   \n",
       "530               0              0   ...             56              0   \n",
       "1010              0              0   ...              0              0   \n",
       "353               0              0   ...              0            294   \n",
       "1440              0              0   ...             68              0   \n",
       "1086              0              0   ...              0              0   \n",
       "1368              0              0   ...            112              0   \n",
       "390               0              0   ...              0              0   \n",
       "826               0              0   ...              0            254   \n",
       "312               0              0   ...             51              0   \n",
       "438               0              0   ...              0              0   \n",
       "950               0              0   ...             40              0   \n",
       "546               0              0   ...             47            120   \n",
       "1437              0              0   ...              0              0   \n",
       "473               0              0   ...              0              0   \n",
       "674               0              0   ...              0              0   \n",
       "506               0              0   ...            104              0   \n",
       "445               0              0   ...             30              0   \n",
       "879               0              0   ...            116              0   \n",
       "528               0              0   ...              0              0   \n",
       "446               0              1   ...              0              0   \n",
       "526               0              0   ...              0              0   \n",
       "632               0              0   ...              0              0   \n",
       "648               0              0   ...              0              0   \n",
       "1366              0              0   ...              0              0   \n",
       "1304              0              0   ...             39              0   \n",
       "461               0              0   ...             54              0   \n",
       "...             ...            ...   ...            ...            ...   \n",
       "1416              0              0   ...             36              0   \n",
       "1201              0              0   ...              0              0   \n",
       "99                0              0   ...              0              0   \n",
       "850               0              0   ...            140              0   \n",
       "448               0              0   ...              0             96   \n",
       "755               0              0   ...             33              0   \n",
       "976               0              0   ...             70              0   \n",
       "115               0              0   ...             32              0   \n",
       "777               0              0   ...              0              0   \n",
       "72                0              0   ...             94              0   \n",
       "845               0              0   ...             65              0   \n",
       "537               0              0   ...             50              0   \n",
       "849               0              0   ...              0              0   \n",
       "174               0              0   ...              0              0   \n",
       "87                0              0   ...            234              0   \n",
       "551               0              0   ...              0              0   \n",
       "705               0              0   ...            154            216   \n",
       "314               0              0   ...             46              0   \n",
       "1420              0              0   ...             88            216   \n",
       "600               0              0   ...              0              0   \n",
       "1094              0              0   ...            185              0   \n",
       "599               0              0   ...            142              0   \n",
       "277               0              0   ...            117              0   \n",
       "1033              0              0   ...              0              0   \n",
       "1383              0              0   ...             55              0   \n",
       "763               0              0   ...              0              0   \n",
       "835               0              0   ...            100              0   \n",
       "1216              0              0   ...              0              0   \n",
       "559               0              1   ...              0              0   \n",
       "684               0              0   ...              0            129   \n",
       "\n",
       "      3SsnPorch  ScreenPorch  Pool  PoolQC  Shed  MiscVal  MoSold  YrSold  \n",
       "482           0            0     0       0     0        0       8    2006  \n",
       "1050          0            0     0       0     0        0       4    2010  \n",
       "670           0            0     0       0     0        0       7    2009  \n",
       "1239          0            0     0       0     0        0       8    2008  \n",
       "530           0            0     0       0     0        0       6    2007  \n",
       "1010          0            0     0       0     0        0       3    2007  \n",
       "353           0            0     0       0     0        0       7    2006  \n",
       "1440          0            0     0       0     0        0       6    2008  \n",
       "1086          0            0     0       0     0        0       7    2007  \n",
       "1368          0          440   519       1     0     2000       7    2006  \n",
       "390           0            0     0       0     0        0       9    2009  \n",
       "826           0            0     0       0     0        0       3    2008  \n",
       "312           0            0     0       0     0        0       7    2009  \n",
       "438           0            0     0       0     0        0      11    2009  \n",
       "950           0            0     0       0     0        0       2    2010  \n",
       "546           0            0     0       0     0        0       9    2006  \n",
       "1437          0            0     0       0     0        0       2    2010  \n",
       "473           0            0     0       0     0        0       6    2009  \n",
       "674           0            0     0       0     0        0       9    2007  \n",
       "506           0            0     0       0     0        0       8    2009  \n",
       "445           0            0     0       0     0        0       6    2009  \n",
       "879           0            0     0       0     0        0       6    2008  \n",
       "528           0            0     0       0     1     2000       5    2010  \n",
       "446           0            0     0       0     0        0       7    2006  \n",
       "526           0            0     0       0     0        0       4    2008  \n",
       "632           0            0     0       0     0        0       4    2007  \n",
       "648           0            0     0       0     0        0       3    2009  \n",
       "1366          0            0     0       0     0        0      10    2009  \n",
       "1304          0            0     0       0     0        0       6    2010  \n",
       "461           0          140     0       0     0        0       6    2010  \n",
       "...         ...          ...   ...     ...   ...      ...     ...     ...  \n",
       "1416          0            0     0       0     0        0       7    2008  \n",
       "1201          0            0     0       0     0        0       7    2006  \n",
       "99            0            0     0       0     1      400       1    2010  \n",
       "850           0            0     0       0     0        0       5    2008  \n",
       "448           0            0     0       0     0        0       5    2008  \n",
       "755           0            0     0       0     0        0      10    2006  \n",
       "976           0            0     0       0     0        0       6    2006  \n",
       "115           0            0     0       0     0        0       6    2007  \n",
       "777           0            0     0       0     0        0       5    2007  \n",
       "72            0          291     0       0     0        0      12    2009  \n",
       "845           0          222     0       0     0        0       8    2006  \n",
       "537           0            0     0       0     0        0       6    2008  \n",
       "849           0            0     0       0     0        0       7    2009  \n",
       "174           0            0     0       0     0        0      11    2008  \n",
       "87            0            0     0       0     0        0       6    2009  \n",
       "551           0            0     0       0     0        0       7    2008  \n",
       "705           0            0     0       0     0        0       8    2008  \n",
       "314           0            0     0       0     0        0      12    2007  \n",
       "1420          0            0     0       0     0        0      11    2007  \n",
       "600           0            0     0       0     1      500       7    2007  \n",
       "1094          0            0     0       0     0        0       3    2009  \n",
       "599           0            0     0       0     0        0       5    2009  \n",
       "277           0            0     0       0     0        0       3    2008  \n",
       "1033          0            0     0       0     0        0      11    2009  \n",
       "1383          0            0     0       0     0        0       7    2006  \n",
       "763           0            0     0       0     0        0       6    2006  \n",
       "835           0            0     0       0     0        0       8    2007  \n",
       "1216          0            0     0       0     0        0       5    2010  \n",
       "559           0            0     0       0     0        0      11    2008  \n",
       "684           0            0     0       0     0        0       6    2006  \n",
       "\n",
       "[1152 rows x 216 columns]>"
      ]
     },
     "execution_count": 125,
     "metadata": {},
     "output_type": "execute_result"
    }
   ],
   "source": []
  },
  {
   "cell_type": "code",
   "execution_count": 140,
   "metadata": {},
   "outputs": [
    {
     "data": {
      "text/plain": [
       "<matplotlib.collections.PathCollection at 0x1c236a2c18>"
      ]
     },
     "execution_count": 140,
     "metadata": {},
     "output_type": "execute_result"
    },
    {
     "data": {
      "image/png": "[encoded data removed]",
      "text/plain": [
       "<matplotlib.figure.Figure at 0x1c23602400>"
      ]
     },
     "metadata": {},
     "output_type": "display_data"
    }
   ],
   "source": [
    "# test_overallqual = data.groupby('OverallQual').mean()\n",
    "# plt.scatter(x= test_overallqual.index, y = test_overallqual['SalePrice']) # look at a polynomial regression \n",
    "\n",
    "test_overallcond = data.groupby('OverallCond').mean()\n",
    "plt.scatter(x= test_overallcond.index, y = test_overallcond['SalePrice'])\n",
    "\n",
    "# test_exterqual = data.groupby('ExterQual').mean()\n",
    "# plt.scatter(x= test_exterqual.index, y = test_exterqual['SalePrice']) # look at a polynomial regression\n",
    "\n",
    "# test_bsmtqual = data.groupby('BsmtQual').mean()\n",
    "# plt.scatter(x = test_bsmtqual.index, y = test_bsmtqual['SalePrice']) # look at a polynomial regression\n",
    "\n",
    "test_bsmtcond = data.groupby('BsmtCond').mean()\n",
    "plt.scatter(x = test_bsmtcond.index, y = test_bsmtcond['SalePrice'])\n",
    "\n",
    "# test_bsmtexposure = data.groupby('BsmtExposure').mean()\n",
    "# plt.scatter(x = test_bsmtexposure.index, y = test_bsmtexposure['SalePrice']) # linear regression\n",
    "\n",
    "# test_kitchenqual = data.groupby('KitchenQual').mean()\n",
    "# plt.scatter(x = test_kitchenqual.index, y = test_kitchenqual['SalePrice']) # polynomial regression\n",
    "\n",
    "test_functional = data.groupby('Functional').mean()\n",
    "plt.scatter(x = test_functional.index, y = test_functional['SalePrice'])\n",
    "\n",
    " # look at a polynomial regression"
   ]
  },
  {
   "cell_type": "code",
   "execution_count": 155,
   "metadata": {},
   "outputs": [
    {
     "data": {
      "image/png": "[encoded data removed]",
      "text/plain": [
       "<matplotlib.figure.Figure at 0x1c22ca3048>"
      ]
     },
     "metadata": {},
     "output_type": "display_data"
    }
   ],
   "source": [
    "test_overallqual = data.groupby('OverallQual').mean()\n",
    "# plt.scatter(x= [i**2 for i in test_overallqual.index], y = test_overallqual['SalePrice'])?\n",
    "data['OverallQual'] = [i**2 for i in data.OverallQual]"
   ]
  },
  {
   "cell_type": "code",
   "execution_count": 222,
   "metadata": {},
   "outputs": [
    {
     "data": {
      "text/plain": [
       "<matplotlib.collections.PathCollection at 0x1c230fb0f0>"
      ]
     },
     "execution_count": 222,
     "metadata": {},
     "output_type": "execute_result"
    },
    {
     "data": {
      "image/png": "[encoded data removed]",
      "text/plain": [
       "<matplotlib.figure.Figure at 0x1c22fa52b0>"
      ]
     },
     "metadata": {},
     "output_type": "display_data"
    }
   ],
   "source": [
    "import math\n",
    "test_overallcond = data.groupby('OverallCond').mean()\n",
    "plt.scatter(x= [i for i in test_overallcond.index], y = test_overallcond['SalePrice'])"
   ]
  },
  {
   "cell_type": "code",
   "execution_count": 171,
   "metadata": {},
   "outputs": [
    {
     "data": {
      "image/png": "[encoded data removed]",
      "text/plain": [
       "<matplotlib.figure.Figure at 0x1c234b0518>"
      ]
     },
     "metadata": {},
     "output_type": "display_data"
    }
   ],
   "source": [
    "test_exterqual = data.groupby('ExterQual').mean()\n",
    "plt.scatter(x=[i**2 for i in test_exterqual.index], y = test_exterqual['SalePrice'])\n",
    "\n",
    "data.ExterQual = [i**2 for i in data.ExterQual]"
   ]
  },
  {
   "cell_type": "code",
   "execution_count": 144,
   "metadata": {},
   "outputs": [
    {
     "data": {
      "text/plain": [
       "<matplotlib.collections.PathCollection at 0x1c22d7c748>"
      ]
     },
     "execution_count": 144,
     "metadata": {},
     "output_type": "execute_result"
    },
    {
     "data": {
      "image/png": "[encoded data removed]",
      "text/plain": [
       "<matplotlib.figure.Figure at 0x1c22ab5550>"
      ]
     },
     "metadata": {},
     "output_type": "display_data"
    }
   ],
   "source": [
    "test_kitchenqual = data.groupby('KitchenQual').mean()\n",
    "# plt.scatter(x = test_kitchenqual.index, y = test_kitchenqual['SalePrice'])"
   ]
  },
  {
   "cell_type": "code",
   "execution_count": 145,
   "metadata": {},
   "outputs": [
    {
     "data": {
      "text/plain": [
       "<matplotlib.collections.PathCollection at 0x1c22e2cda0>"
      ]
     },
     "execution_count": 145,
     "metadata": {},
     "output_type": "execute_result"
    },
    {
     "data": {
      "image/png": "[encoded data removed]",
      "text/plain": [
       "<matplotlib.figure.Figure at 0x1c22c4bb38>"
      ]
     },
     "metadata": {},
     "output_type": "display_data"
    }
   ],
   "source": [
    "test_kitchenqual = data.groupby('KitchenQual').mean()\n",
    "plt.scatter(x = [i**2 for i in test_kitchenqual.index], y = test_kitchenqual['SalePrice'])"
   ]
  },
  {
   "cell_type": "code",
   "execution_count": 177,
   "metadata": {},
   "outputs": [
    {
     "data": {
      "image/png": "[encoded data removed]",
      "text/plain": [
       "<matplotlib.figure.Figure at 0x1c23d661d0>"
      ]
     },
     "metadata": {},
     "output_type": "display_data"
    }
   ],
   "source": [
    "test_bsmtqual = data.groupby('BsmtQual').mean()\n",
    "plt.scatter(x = [i**3 for i in test_bsmtqual.index], y = test_bsmtqual['SalePrice'])\n",
    "\n",
    "data.BsmtQual = [i**3 for i in data.BsmtQual]"
   ]
  },
  {
   "cell_type": "code",
   "execution_count": 220,
   "metadata": {},
   "outputs": [
    {
     "data": {
      "text/plain": [
       "<matplotlib.collections.PathCollection at 0x1c27a11198>"
      ]
     },
     "execution_count": 220,
     "metadata": {},
     "output_type": "execute_result"
    },
    {
     "data": {
      "image/png": "[encoded data removed]",
      "text/plain": [
       "<matplotlib.figure.Figure at 0x1c22655320>"
      ]
     },
     "metadata": {},
     "output_type": "display_data"
    }
   ],
   "source": [
    "test_bsmtcond = data.groupby('BsmtCond').mean()\n",
    "plt.scatter(x = [i**2 for i in test_bsmtcond.index], y = test_bsmtcond['SalePrice'])\n",
    "\n"
   ]
  },
  {
   "cell_type": "code",
   "execution_count": 190,
   "metadata": {},
   "outputs": [
    {
     "data": {
      "image/png": "[encoded data removed]",
      "text/plain": [
       "<matplotlib.figure.Figure at 0x1c2294fa90>"
      ]
     },
     "metadata": {},
     "output_type": "display_data"
    }
   ],
   "source": [
    "test_bsmtexposure = data.groupby('BsmtExposure').mean()\n",
    "plt.scatter(x = [np.log(i) for i in test_bsmtexposure.index], y = test_bsmtexposure['SalePrice']) # linear regression\n",
    "\n",
    "data.BsmtExposure = [np.log(i) for i in data['BsmtExposure']]"
   ]
  },
  {
   "cell_type": "code",
   "execution_count": 193,
   "metadata": {},
   "outputs": [
    {
     "data": {
      "image/png": "[encoded data removed]",
      "text/plain": [
       "<matplotlib.figure.Figure at 0x1c23396588>"
      ]
     },
     "metadata": {},
     "output_type": "display_data"
    }
   ],
   "source": [
    "test_kitchenqual = data.groupby('KitchenQual').mean()\n",
    "plt.scatter(x = [i**2 for i in test_kitchenqual.index], y = test_kitchenqual['SalePrice'])\n",
    "\n",
    "data.KitchenQual = [i**2 for i in data.KitchenQual]"
   ]
  },
  {
   "cell_type": "code",
   "execution_count": 195,
   "metadata": {},
   "outputs": [
    {
     "data": {
      "text/plain": [
       "<matplotlib.collections.PathCollection at 0x1c23979940>"
      ]
     },
     "execution_count": 195,
     "metadata": {},
     "output_type": "execute_result"
    },
    {
     "data": {
      "image/png": "[encoded data removed]",
      "text/plain": [
       "<matplotlib.figure.Figure at 0x1c236cefd0>"
      ]
     },
     "metadata": {},
     "output_type": "display_data"
    }
   ],
   "source": [
    "test_functional = data.groupby('Functional').mean()\n",
    "plt.scatter(x =[np.log(i) for i in test_functional.index], y = test_functional['SalePrice'])"
   ]
  },
  {
   "cell_type": "code",
   "execution_count": 224,
   "metadata": {},
   "outputs": [],
   "source": [
    "data.KitchenQual = [i**2 for i in data.KitchenQual]\n",
    "data.BsmtExposure = [np.log(i) for i in data['BsmtExposure']]\n",
    "data.BsmtQual = [i**3 for i in data.BsmtQual]\n",
    "data.ExterQual = [i**2 for i in data.ExterQual]\n",
    "data['OverallQual'] = [i**2 for i in data.OverallQual]"
   ]
  },
  {
   "cell_type": "code",
   "execution_count": 225,
   "metadata": {},
   "outputs": [],
   "source": [
    "data.to_csv('ordinalTrans.csv')"
   ]
  },
  {
   "cell_type": "code",
   "execution_count": null,
   "metadata": {},
   "outputs": [],
   "source": []
  }
 ],
 "metadata": {
  "kernelspec": {
   "display_name": "Python 3",
   "language": "python",
   "name": "python3"
  },
  "language_info": {
   "codemirror_mode": {
    "name": "ipython",
    "version": 3
   },
   "file_extension": ".py",
   "mimetype": "text/x-python",
   "name": "python",
   "nbconvert_exporter": "python",
   "pygments_lexer": "ipython3",
   "version": "3.6.4"
  }
 },
 "nbformat": 4,
 "nbformat_minor": 2
}
