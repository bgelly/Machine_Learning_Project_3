{
 "cells": [
  {
   "cell_type": "code",
   "execution_count": 1,
   "metadata": {},
   "outputs": [],
   "source": [
    "import numpy as np \n",
    "import pandas as pd\n",
    "import matplotlib.pyplot as plt"
   ]
  },
  {
   "cell_type": "code",
   "execution_count": 47,
   "metadata": {},
   "outputs": [],
   "source": [
    "data= pd.read_csv('ordinalTrans.csv')"
   ]
  },
  {
   "cell_type": "code",
   "execution_count": 48,
   "metadata": {},
   "outputs": [],
   "source": [
    "X=data.iloc[:,:-1]\n",
    "y=data.iloc[:,-1]"
   ]
  },
  {
   "cell_type": "code",
   "execution_count": 4,
   "metadata": {},
   "outputs": [
    {
     "name": "stderr",
     "output_type": "stream",
     "text": [
      "/Users/emanuelkamali/anaconda3/lib/python3.6/site-packages/sklearn/cross_validation.py:41: DeprecationWarning: This module was deprecated in version 0.18 in favor of the model_selection module into which all the refactored classes and functions are moved. Also note that the interface of the new CV iterators are different from that of this module. This module will be removed in 0.20.\n",
      "  \"This module will be removed in 0.20.\", DeprecationWarning)\n"
     ]
    }
   ],
   "source": [
    "from sklearn.cross_validation import train_test_split\n",
    "X_train, X_test, y_train, y_test = train_test_split(X, y, test_size = 0.2, random_state = 0)"
   ]
  },
  {
   "cell_type": "code",
   "execution_count": 5,
   "metadata": {},
   "outputs": [],
   "source": [
    "def rmsle(h, y):\n",
    "   \"\"\"\n",
    "   Compute the Root Mean Squared Log Error for hypthesis h and targets y\n",
    "   \n",
    "   Args:\n",
    "       h - numpy array containing predictions with shape (n_samples, n_targets)\n",
    "       y - numpy array containing targets with shape (n_samples, n_targets)\n",
    "   \"\"\"\n",
    "   return np.sqrt(np.square(np.log(h + 1) - np.log(y + 1)).mean())"
   ]
  },
  {
   "cell_type": "code",
   "execution_count": 6,
   "metadata": {},
   "outputs": [
    {
     "data": {
      "text/plain": [
       "RandomForestRegressor(bootstrap=True, criterion='mse', max_depth=None,\n",
       "           max_features='auto', max_leaf_nodes=None,\n",
       "           min_impurity_decrease=0.0, min_impurity_split=None,\n",
       "           min_samples_leaf=1, min_samples_split=2,\n",
       "           min_weight_fraction_leaf=0.0, n_estimators=100, n_jobs=1,\n",
       "           oob_score=False, random_state=0, verbose=0, warm_start=False)"
      ]
     },
     "execution_count": 6,
     "metadata": {},
     "output_type": "execute_result"
    }
   ],
   "source": [
    "from sklearn.ensemble import RandomForestRegressor, GradientBoostingClassifier\n",
    "randomForest = RandomForestRegressor(n_estimators = 100, random_state=0)\n",
    "randomForest.fit(X_train,y_train) "
   ]
  },
  {
   "cell_type": "code",
   "execution_count": 380,
   "metadata": {},
   "outputs": [
    {
     "data": {
      "text/plain": [
       "184921578230.42432"
      ]
     },
     "execution_count": 380,
     "metadata": {},
     "output_type": "execute_result"
    }
   ],
   "source": [
    "rand_pred = randomForest.predict(X_test)\n",
    "rand = sum((y_test - rand_pred)**2)\n",
    "rmsle(rand_pred,y_test)\n",
    "rand"
   ]
  },
  {
   "cell_type": "code",
   "execution_count": 8,
   "metadata": {},
   "outputs": [
    {
     "data": {
      "text/plain": [
       "LinearRegression(copy_X=True, fit_intercept=True, n_jobs=1, normalize=False)"
      ]
     },
     "execution_count": 8,
     "metadata": {},
     "output_type": "execute_result"
    }
   ],
   "source": [
    "# Creating a multilinear regression model\n",
    "from sklearn.linear_model import LinearRegression\n",
    "regressor = LinearRegression()\n",
    "regressor.fit(X_train, y_train)"
   ]
  },
  {
   "cell_type": "code",
   "execution_count": 396,
   "metadata": {},
   "outputs": [
    {
     "data": {
      "text/plain": [
       "0.1620840290739512"
      ]
     },
     "execution_count": 396,
     "metadata": {},
     "output_type": "execute_result"
    }
   ],
   "source": [
    "y_pred = regressor.predict(X_test)\n",
    "rss1 = sum((y_pred - y_test)**2)\n",
    "rmsle(y_pred,y_test)"
   ]
  },
  {
   "cell_type": "code",
   "execution_count": 395,
   "metadata": {},
   "outputs": [
    {
     "name": "stdout",
     "output_type": "stream",
     "text": [
      "                            OLS Regression Results                            \n",
      "==============================================================================\n",
      "Dep. Variable:              SalePrice   R-squared:                       0.925\n",
      "Model:                            OLS   Adj. R-squared:                  0.922\n",
      "Method:                 Least Squares   F-statistic:                     289.6\n",
      "Date:                Fri, 01 Jun 2018   Prob (F-statistic):               0.00\n",
      "Time:                        11:58:25   Log-Likelihood:                -16331.\n",
      "No. Observations:                1441   AIC:                         3.278e+04\n",
      "Df Residuals:                    1381   BIC:                         3.310e+04\n",
      "Df Model:                          59                                         \n",
      "Covariance Type:            nonrobust                                         \n",
      "=========================================================================================\n",
      "                            coef    std err          t      P>|t|      [0.025      0.975]\n",
      "-----------------------------------------------------------------------------------------\n",
      "const                 -6.459e+05   6.75e+04     -9.569      0.000   -7.78e+05   -5.13e+05\n",
      "MSZoning_C (all)      -2.475e+04   6886.018     -3.595      0.000   -3.83e+04   -1.12e+04\n",
      "MSZoning_FV            8443.7086   3146.322      2.684      0.007    2271.621    1.46e+04\n",
      "LotConfig_CulDSac      5993.3949   2410.650      2.486      0.013    1264.464    1.07e+04\n",
      "Neighborhood_BrDale    1.728e+04   6325.987      2.732      0.006    4872.948    2.97e+04\n",
      "Neighborhood_BrkSide   1.178e+04   2998.529      3.928      0.000    5895.580    1.77e+04\n",
      "Neighborhood_Crawfor   2.177e+04   3239.662      6.719      0.000    1.54e+04    2.81e+04\n",
      "Neighborhood_NPkVill   1.912e+04   7413.295      2.580      0.010    4581.922    3.37e+04\n",
      "Neighborhood_NoRidge   2.306e+04   3942.548      5.849      0.000    1.53e+04    3.08e+04\n",
      "Neighborhood_NridgHt    2.54e+04   3239.750      7.841      0.000     1.9e+04    3.18e+04\n",
      "Neighborhood_Sawyer    7116.1847   2683.826      2.652      0.008    1851.369    1.24e+04\n",
      "Neighborhood_StoneBr   3.811e+04   4771.749      7.986      0.000    2.87e+04    4.75e+04\n",
      "Condition1_Artery     -8902.7798   3257.063     -2.733      0.006   -1.53e+04   -2513.453\n",
      "Condition1_Feedr      -6979.9891   2511.589     -2.779      0.006   -1.19e+04   -2053.046\n",
      "Condition1_RRAe       -2.214e+04   6480.750     -3.417      0.001   -3.49e+04   -9430.992\n",
      "Condition2_PosN       -5.444e+04   2.14e+04     -2.545      0.011   -9.64e+04   -1.25e+04\n",
      "BldgType_Twnhs        -2.571e+04   4241.055     -6.061      0.000    -3.4e+04   -1.74e+04\n",
      "BldgType_TwnhsE       -1.828e+04   2673.487     -6.838      0.000   -2.35e+04    -1.3e+04\n",
      "HouseStyle_1Story      5207.5452   1863.314      2.795      0.005    1552.313    8862.777\n",
      "RoofMatl_Tar&Grv      -2.098e+04   7129.671     -2.942      0.003    -3.5e+04   -6988.889\n",
      "RoofMatl_WdShngl       2.833e+04   1.08e+04      2.623      0.009    7146.013    4.95e+04\n",
      "Exterior1st_BrkFace    1.527e+04   3241.744      4.709      0.000    8907.582    2.16e+04\n",
      "Exterior1st_MetalSd    3640.1388   1693.376      2.150      0.032     318.272    6962.006\n",
      "Exterior2nd_CmentBd    7771.7834   3019.311      2.574      0.010    1848.851    1.37e+04\n",
      "Exterior2nd_HdBoard   -4194.9293   1807.250     -2.321      0.020   -7740.182    -649.677\n",
      "Exterior2nd_Plywood   -4596.7912   2101.414     -2.187      0.029   -8719.100    -474.482\n",
      "MasVnrType_None        4890.2145   1773.033      2.758      0.006    1412.085    8368.344\n",
      "MasVnrType_Stone       7336.4451   2369.246      3.097      0.002    2688.734     1.2e+04\n",
      "Foundation_Wood       -2.619e+04   1.21e+04     -2.157      0.031      -5e+04   -2370.909\n",
      "Heating_OthW          -4.998e+04    1.5e+04     -3.328      0.001   -7.94e+04   -2.05e+04\n",
      "GarageType_2Types     -2.292e+04   8948.674     -2.562      0.011   -4.05e+04   -5368.292\n",
      "GarageType_BuiltIn     6395.9104   2646.020      2.417      0.016    1205.258    1.16e+04\n",
      "GarageType_No          8253.1417   3069.160      2.689      0.007    2232.423    1.43e+04\n",
      "SaleType_Con           3.555e+04   1.49e+04      2.388      0.017    6342.710    6.48e+04\n",
      "SaleType_New           1.915e+04   2396.092      7.991      0.000    1.44e+04    2.38e+04\n",
      "SaleCondition_Abnorml -7698.0596   2242.295     -3.433      0.001   -1.21e+04   -3299.387\n",
      "LotArea                   1.0732      0.160      6.706      0.000       0.759       1.387\n",
      "OverallQual             815.8909     67.606     12.068      0.000     683.269     948.513\n",
      "OverallCond            5315.8391    603.816      8.804      0.000    4131.344    6500.334\n",
      "YearBuilt               300.2097     34.191      8.780      0.000     233.137     367.282\n",
      "MasVnrArea               23.1662      4.901      4.727      0.000      13.551      32.781\n",
      "ExterQual              1279.0116    325.795      3.926      0.000     639.906    1918.117\n",
      "BsmtQual                162.3395     33.389      4.862      0.000      96.841     227.838\n",
      "BsmtCond              -6728.1638   1335.623     -5.037      0.000   -9348.233   -4108.094\n",
      "BsmtExposure           1.831e+04   2827.323      6.477      0.000    1.28e+04    2.39e+04\n",
      "BsmtFinSF1               19.1246      1.618     11.819      0.000      15.950      22.299\n",
      "BsmtFinSF2               11.0050      3.667      3.001      0.003       3.811      18.199\n",
      "TotalBsmtSF              10.1309      2.890      3.506      0.000       4.462      15.800\n",
      "GrLivArea                52.2283      3.060     17.066      0.000      46.225      58.232\n",
      "BedroomAbvGr          -5024.6084   1073.403     -4.681      0.000   -7130.286   -2918.931\n",
      "KitchenAbvGr          -1.764e+04   2950.982     -5.977      0.000   -2.34e+04   -1.18e+04\n",
      "KitchenQual            1315.8751    249.688      5.270      0.000     826.066    1805.684\n",
      "TotRmsAbvGrd           2232.3759    785.240      2.843      0.005     691.984    3772.768\n",
      "Functional             6002.6411    892.744      6.724      0.000    4251.361    7753.922\n",
      "Fireplaces             2473.8108   1090.148      2.269      0.023     335.285    4612.336\n",
      "GarageArea               26.8856      4.333      6.205      0.000      18.386      35.385\n",
      "OpenPorchSF              19.8595      9.326      2.130      0.033       1.565      38.154\n",
      "ScreenPorch              29.4387     10.291      2.861      0.004       9.252      49.626\n",
      "Pool                    449.9889    114.457      3.932      0.000     225.461     674.516\n",
      "PoolQC                -2.617e+05   6.91e+04     -3.789      0.000   -3.97e+05   -1.26e+05\n",
      "==============================================================================\n",
      "Omnibus:                      322.847   Durbin-Watson:                   1.973\n",
      "Prob(Omnibus):                  0.000   Jarque-Bera (JB):             5027.104\n",
      "Skew:                           0.597   Prob(JB):                         0.00\n",
      "Kurtosis:                      12.072   Cond. No.                     1.42e+06\n",
      "==============================================================================\n",
      "\n",
      "Warnings:\n",
      "[1] Standard Errors assume that the covariance matrix of the errors is correctly specified.\n",
      "[2] The condition number is large, 1.42e+06. This might indicate that there are\n",
      "strong multicollinearity or other numerical problems.\n",
      "0.0333861272999359\n"
     ]
    }
   ],
   "source": [
    "import statsmodels.api as sm\n",
    "regressor_OLS = sm.OLS(y,X.loc[:,['const', 'MSZoning_C (all)', 'MSZoning_FV', 'LotConfig_CulDSac', 'Neighborhood_BrDale', 'Neighborhood_BrkSide', 'Neighborhood_Crawfor', 'Neighborhood_NPkVill', 'Neighborhood_NoRidge', 'Neighborhood_NridgHt', 'Neighborhood_Sawyer', 'Neighborhood_StoneBr', 'Condition1_Artery', 'Condition1_Feedr', 'Condition1_RRAe', 'Condition2_PosN', 'BldgType_Twnhs', 'BldgType_TwnhsE', 'HouseStyle_1Story', 'RoofMatl_Tar&Grv', 'RoofMatl_WdShngl', 'Exterior1st_BrkFace', 'Exterior1st_MetalSd', 'Exterior2nd_CmentBd', 'Exterior2nd_HdBoard', 'Exterior2nd_Plywood', 'MasVnrType_None', 'MasVnrType_Stone', 'Foundation_Wood', 'Heating_OthW', 'GarageType_2Types', 'GarageType_BuiltIn', 'GarageType_No', 'SaleType_Con', 'SaleType_New', 'SaleCondition_Abnorml', 'LotArea', 'OverallQual', 'OverallCond', 'YearBuilt', 'MasVnrArea', 'ExterQual', 'BsmtQual', 'BsmtCond', 'BsmtExposure', 'BsmtFinSF1', 'BsmtFinSF2', 'TotalBsmtSF', 'GrLivArea', 'BedroomAbvGr', 'KitchenAbvGr', 'KitchenQual', 'TotRmsAbvGrd', 'Functional', 'Fireplaces', 'GarageArea', 'OpenPorchSF', 'ScreenPorch', 'Pool', 'PoolQC']]).fit()\n",
    "print(regressor_OLS.summary())\n",
    "print(max(regressor_OLS.pvalues))"
   ]
  },
  {
   "cell_type": "code",
   "execution_count": 207,
   "metadata": {},
   "outputs": [],
   "source": [
    "X.loc[:,['const', 'MSZoning_C (all)', 'MSZoning_FV', 'LotConfig_CulDSac', 'Neighborhood_BrDale', 'Neighborhood_BrkSide', 'Neighborhood_Crawfor', 'Neighborhood_NPkVill', 'Neighborhood_NoRidge', 'Neighborhood_NridgHt', 'Neighborhood_Sawyer', 'Neighborhood_StoneBr', 'Condition1_Artery', 'Condition1_Feedr', 'Condition1_RRAe', 'Condition2_PosN', 'BldgType_Twnhs', 'BldgType_TwnhsE', 'HouseStyle_1Story', 'RoofMatl_Tar&Grv', 'RoofMatl_WdShngl', 'Exterior1st_BrkFace', 'Exterior1st_MetalSd', 'Exterior2nd_CmentBd', 'Exterior2nd_HdBoard', 'Exterior2nd_Plywood', 'MasVnrType_None', 'MasVnrType_Stone', 'Foundation_Wood', 'Heating_OthW', 'GarageType_2Types', 'GarageType_BuiltIn', 'GarageType_No', 'SaleType_Con', 'SaleType_New', 'SaleCondition_Abnorml', 'LotArea', 'OverallQual', 'OverallCond', 'YearBuilt', 'MasVnrArea', 'ExterQual', 'BsmtQual', 'BsmtCond', 'BsmtExposure', 'BsmtFinSF1', 'BsmtFinSF2', 'TotalBsmtSF', 'GrLivArea', 'BedroomAbvGr', 'KitchenAbvGr', 'KitchenQual', 'TotRmsAbvGrd', 'Functional', 'Fireplaces', 'GarageArea', 'OpenPorchSF', 'ScreenPorch', 'Pool', 'PoolQC']]"
   ]
  },
  {
   "cell_type": "code",
   "execution_count": 371,
   "metadata": {},
   "outputs": [],
   "source": [
    "X_opt = X[['const', 'MSZoning_C (all)', 'MSZoning_FV', 'LotConfig_CulDSac', 'Neighborhood_BrDale', 'Neighborhood_BrkSide', 'Neighborhood_Crawfor', 'Neighborhood_NPkVill', 'Neighborhood_NoRidge', 'Neighborhood_NridgHt', 'Neighborhood_Sawyer', 'Neighborhood_StoneBr', 'Condition1_Artery', 'Condition1_Feedr', 'Condition1_RRAe', 'Condition2_PosN', 'BldgType_Twnhs', 'BldgType_TwnhsE', 'HouseStyle_1Story', 'RoofMatl_Tar&Grv', 'RoofMatl_WdShngl', 'Exterior1st_BrkFace', 'Exterior1st_MetalSd', 'Exterior2nd_CmentBd', 'Exterior2nd_HdBoard', 'Exterior2nd_Plywood', 'MasVnrType_None', 'MasVnrType_Stone', 'Foundation_Wood', 'Heating_OthW', 'GarageType_2Types', 'GarageType_BuiltIn', 'GarageType_No', 'SaleType_Con', 'SaleType_New', 'SaleCondition_Abnorml', 'LotArea', 'OverallQual', 'OverallCond', 'YearBuilt', 'MasVnrArea', 'ExterQual', 'BsmtQual', 'BsmtCond', 'BsmtExposure', 'BsmtFinSF1', 'BsmtFinSF2', 'TotalBsmtSF', 'GrLivArea', 'BedroomAbvGr', 'KitchenAbvGr', 'KitchenQual', 'TotRmsAbvGrd', 'Functional', 'Fireplaces', 'GarageArea', 'OpenPorchSF', 'ScreenPorch', 'Pool', 'PoolQC']]"
   ]
  },
  {
   "cell_type": "code",
   "execution_count": 373,
   "metadata": {},
   "outputs": [],
   "source": [
    "from sklearn.cross_validation import train_test_split\n",
    "Xopt_train, Xopt_test, yopt_train, yopt_test = train_test_split(X_opt, y, test_size = 0.2, random_state = 0)"
   ]
  },
  {
   "cell_type": "code",
   "execution_count": 374,
   "metadata": {},
   "outputs": [
    {
     "data": {
      "text/plain": [
       "RandomForestRegressor(bootstrap=True, criterion='mse', max_depth=None,\n",
       "           max_features='auto', max_leaf_nodes=None,\n",
       "           min_impurity_decrease=0.0, min_impurity_split=None,\n",
       "           min_samples_leaf=1, min_samples_split=2,\n",
       "           min_weight_fraction_leaf=0.0, n_estimators=100, n_jobs=1,\n",
       "           oob_score=False, random_state=0, verbose=0, warm_start=False)"
      ]
     },
     "execution_count": 374,
     "metadata": {},
     "output_type": "execute_result"
    }
   ],
   "source": [
    "from sklearn.ensemble import RandomForestRegressor, GradientBoostingClassifier\n",
    "Forest = RandomForestRegressor(n_estimators = 100, random_state=0)\n",
    "Forest.fit(Xopt_train,yopt_train) "
   ]
  },
  {
   "cell_type": "code",
   "execution_count": 397,
   "metadata": {},
   "outputs": [
    {
     "data": {
      "text/plain": [
       "0.16280336080873528"
      ]
     },
     "execution_count": 397,
     "metadata": {},
     "output_type": "execute_result"
    }
   ],
   "source": [
    "forest_pred = Forest.predict(Xopt_test)\n",
    "rand1 = sum((yopt_test - forest_pred)**2)\n",
    "rmsle(forest_pred,yopt_test)\n"
   ]
  },
  {
   "cell_type": "code",
   "execution_count": 393,
   "metadata": {},
   "outputs": [
    {
     "data": {
      "text/plain": [
       "LinearRegression(copy_X=True, fit_intercept=True, n_jobs=1, normalize=False)"
      ]
     },
     "execution_count": 393,
     "metadata": {},
     "output_type": "execute_result"
    }
   ],
   "source": [
    "from sklearn.linear_model import LinearRegression\n",
    "regress = LinearRegression()\n",
    "regress.fit(Xopt_train,yopt_train)"
   ]
  },
  {
   "cell_type": "code",
   "execution_count": 388,
   "metadata": {},
   "outputs": [],
   "source": [
    "yopt_pred = regress.predict(Xopt_test)"
   ]
  },
  {
   "cell_type": "code",
   "execution_count": 390,
   "metadata": {},
   "outputs": [
    {
     "data": {
      "text/plain": [
       "141452470391.47833"
      ]
     },
     "execution_count": 390,
     "metadata": {},
     "output_type": "execute_result"
    }
   ],
   "source": [
    "rss1= sum((yopt_pred - yopt_test)**2)"
   ]
  },
  {
   "cell_type": "code",
   "execution_count": 394,
   "metadata": {},
   "outputs": [
    {
     "data": {
      "text/plain": [
       "0.13669235137820768"
      ]
     },
     "execution_count": 394,
     "metadata": {},
     "output_type": "execute_result"
    }
   ],
   "source": [
    "rmsle(yopt_pred,yopt_test)"
   ]
  },
  {
   "cell_type": "code",
   "execution_count": 418,
   "metadata": {},
   "outputs": [],
   "source": [
    "from sklearn import linear_model\n",
    "alpha_ridge1 = 10**np.linspace(5, -2, 100)\n",
    "ridge1= linear_model.RidgeCV(alphas=alpha_ridge1, cv=20).fit(Xopt_train,np.ravel(yopt_train))"
   ]
  },
  {
   "cell_type": "code",
   "execution_count": 420,
   "metadata": {},
   "outputs": [],
   "source": [
    "#ridgereg = Ridge(alpha=ridge1.alpha_,normalize=True)\n",
    "#ridgereg.fit(X_train,np.ravel(y_train))\n",
    "ridge_pred = ridge1.predict(Xopt_test)"
   ]
  },
  {
   "cell_type": "code",
   "execution_count": 421,
   "metadata": {},
   "outputs": [
    {
     "data": {
      "text/plain": [
       "0.9227223725359329"
      ]
     },
     "execution_count": 421,
     "metadata": {},
     "output_type": "execute_result"
    }
   ],
   "source": [
    "ridge1.score(X_train, y_train)"
   ]
  },
  {
   "cell_type": "code",
   "execution_count": 422,
   "metadata": {},
   "outputs": [
    {
     "data": {
      "text/plain": [
       "0.135833328579317"
      ]
     },
     "execution_count": 422,
     "metadata": {},
     "output_type": "execute_result"
    }
   ],
   "source": [
    "rmsle(ridge_pred,yopt_test)"
   ]
  },
  {
   "cell_type": "code",
   "execution_count": 415,
   "metadata": {},
   "outputs": [],
   "source": [
    "from sklearn import linear_model\n",
    "alphas_lasso = np.logspace(-2, 4, 100)\n",
    "lasso2= linear_model.LassoCV(n_alphas=100, alphas=alphas_lasso, cv=20, random_state=0, max_iter=500000).fit(Xopt_train,np.ravel(yopt_train))"
   ]
  },
  {
   "cell_type": "code",
   "execution_count": 416,
   "metadata": {},
   "outputs": [],
   "source": [
    "lasso_pred = lasso2.predict(Xopt_test)"
   ]
  },
  {
   "cell_type": "code",
   "execution_count": 417,
   "metadata": {},
   "outputs": [
    {
     "data": {
      "text/plain": [
       "0.13661240644576325"
      ]
     },
     "execution_count": 417,
     "metadata": {},
     "output_type": "execute_result"
    }
   ],
   "source": [
    "rmsle(lasso_pred,yopt_test)"
   ]
  },
  {
   "cell_type": "code",
   "execution_count": 424,
   "metadata": {},
   "outputs": [
    {
     "data": {
      "text/plain": [
       "1.0"
      ]
     },
     "execution_count": 424,
     "metadata": {},
     "output_type": "execute_result"
    }
   ],
   "source": [
    "lasso2.alpha_"
   ]
  },
  {
   "cell_type": "code",
   "execution_count": null,
   "metadata": {},
   "outputs": [],
   "source": []
  }
 ],
 "metadata": {
  "kernelspec": {
   "display_name": "Python 3",
   "language": "python",
   "name": "python3"
  },
  "language_info": {
   "codemirror_mode": {
    "name": "ipython",
    "version": 3
   },
   "file_extension": ".py",
   "mimetype": "text/x-python",
   "name": "python",
   "nbconvert_exporter": "python",
   "pygments_lexer": "ipython3",
   "version": "3.6.4"
  }
 },
 "nbformat": 4,
 "nbformat_minor": 2
}
