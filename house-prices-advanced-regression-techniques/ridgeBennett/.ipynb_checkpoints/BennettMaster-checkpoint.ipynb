{
 "cells": [
  {
   "cell_type": "code",
   "execution_count": 835,
   "metadata": {},
   "outputs": [],
   "source": [
    "# import packages \n",
    "import pandas as pd\n",
    "import matplotlib\n",
    "import matplotlib.pyplot as plt\n",
    "%matplotlib inline\n",
    "import numpy as np\n",
    "\n",
    "\n",
    "# load train and test data sets\n",
    "path_to_file = \"../../data/train.csv\"\n",
    "train = pd.read_csv(path_to_file)\n",
    "\n",
    "path_to_file = \"../../data/test.csv\"\n",
    "test = pd.read_csv(path_to_file)"
   ]
  },
  {
   "cell_type": "code",
   "execution_count": 838,
   "metadata": {},
   "outputs": [
    {
     "data": {
      "text/plain": [
       "2919"
      ]
     },
     "execution_count": 838,
     "metadata": {},
     "output_type": "execute_result"
    }
   ],
   "source": [
    "len(test) # 1459\n",
    "len(train) # 1460\n",
    "1459+ 1460"
   ]
  },
  {
   "cell_type": "code",
   "execution_count": 839,
   "metadata": {},
   "outputs": [],
   "source": [
    "# merge train and test for cleaning\n",
    "test['SalePrice'] = None\n",
    "master = train.append(pd.DataFrame(test), ignore_index=True)"
   ]
  },
  {
   "cell_type": "code",
   "execution_count": 840,
   "metadata": {},
   "outputs": [
    {
     "data": {
      "text/plain": [
       "2919"
      ]
     },
     "execution_count": 840,
     "metadata": {},
     "output_type": "execute_result"
    }
   ],
   "source": [
    "len(master)"
   ]
  },
  {
   "cell_type": "markdown",
   "metadata": {},
   "source": [
    "# Data Cleaning "
   ]
  },
  {
   "cell_type": "code",
   "execution_count": 841,
   "metadata": {},
   "outputs": [],
   "source": [
    "# drop Id column\n",
    "Ids = master.Id\n",
    "master.drop(['Id'], axis = 1, inplace = True)"
   ]
  },
  {
   "cell_type": "code",
   "execution_count": 677,
   "metadata": {},
   "outputs": [],
   "source": [
    "# feature notes:\n",
    "# Id - don't use for analysis, need to add back at end to submit for test\n",
    "\n",
    "### convert to /dummy, can I collapse?\n",
    "# MSSubClass (type of dwelling)\n",
    "# MSZoning (zoning classification)\n",
    "# MoSold (month sold in)\n",
    "# LotConfig - collapse FR3 and FR2\n",
    "# PoolArea - yes or no pool\n",
    "# street - gravel or pave\n",
    "# LotShape - collapse to irregular or not \n",
    "# LandContour - Lvl or not\n",
    "# LandSlope - collapse to Gtl or Slope\n",
    "# Neighborhood\n",
    "# Condition1 - collapse near railroad, near street, near positive feature\n",
    "# BldgType - collapse Townhouse, TwoFamCond/Duplex\n",
    "# HouseStyle - collapse 1, 1.5, 2&2.5, Sfoyer, Slevel\n",
    "# RoofStyle\n",
    "# Exterior1st\n",
    "# Exterior2nd\n",
    "# MasVnrArea - yes or no\n",
    "# Foundation\n",
    "# CentralAir\n",
    "# Electrical - collapse to SBKR or no\n",
    "# Fence\n",
    "# MiscFeature - shed or no shed\n",
    "# SaleType - collapse\n",
    "# SaleCondition\n",
    "# Functional - y/n\n",
    "# GarageType\n",
    "# PavedDrive - y/n & partial\n",
    "\n",
    "### cont./discrete - adjust for skew\n",
    "# LotFrontage - linear feet of street connected to property\n",
    "# LotArea\n",
    "# total Sq ft - this is sum of 'TotalBsmtSF'  + 'GrLivArea'\n",
    "# YearBuilt\n",
    "# LowQualFinSF\n",
    "# full baths - 'BsmtFullBath','FullBath',\n",
    "# half baths - 'BsmtHalfBath','HalfBath',\n",
    "# YrSold\n",
    "# Fireplaces\n",
    "# BedroomAbvGr\n",
    "# KitchenAbvGr\n",
    "# TotRmsAbvGrd\n",
    "# GarageCars\n",
    "# GarageArea - has some skew\n",
    "# create porch sqft - 'EnclosedPorch', '3SsnPorch','ScreenPorch',\n",
    "# WoodDeckSF\n",
    "# OpenPorchSF\n",
    "\n",
    "### ord. - transformations when plotted vs. y? can I collapse?\n",
    "# OverlQual - materials and finish\n",
    "# OveralCond - condition\n",
    "# ExterQual\n",
    "# ExterCond\n",
    "# BsmtExposure - CHECK graph, this includes no basement. Maybe Dummy\n",
    "# BsmtFinType1 - CHECK graph, this includes no basement. Maybe Dummy\n",
    "# Buckets of when it was remodeled by years ago - ADD from YearRemodAdd\n",
    "# HeatingQC - collapse\n",
    "# KitchenQual - collapse\n",
    "# GarageFinish\n",
    "# GarageQual - collapse\n",
    "# GarageCond - collapse \n",
    "\n",
    "### drop\n",
    "# PoolQC - not many observations, small range with in the observations\n",
    "# Alley - only ~6% have an alley at all, probably won't have much effect on price\n",
    "# Utilities - all pub except one or two\n",
    "# Condition2 - not many have this \n",
    "# RoofMatl - mostly all the same, probably accounted for in RoofStyle\n",
    "# BsmtCond\n",
    "# BsmtQual\n",
    "# BsmtFinType2\n",
    "# BsmtFinSF1\n",
    "# BsmtFinSF2\n",
    "# Heating\n",
    "# FireplaceQu\n",
    "# MiscVal\n",
    "# GarageYrBlt\n",
    "# ---\n",
    "# YearRemodAdd - make into ord.\n",
    "# 'BsmtFullBath', 'BsmtHalfBath', 'FullBath', 'HalfBath', - to half and full baths\n",
    "# 'TotalBsmtSF'  'GrLivArea' to total sq\n",
    "# 'EnclosedPorch', '3SsnPorch','ScreenPorch', to porch sqft\n",
    "######### Feat engineering\n",
    "# first floor sf and second floor sf - sum these and eliminate other \n",
    "# total sq foot of house\n",
    "#########"
   ]
  },
  {
   "cell_type": "code",
   "execution_count": 842,
   "metadata": {},
   "outputs": [],
   "source": [
    "# drop vars to drop\n",
    "master.drop(['PoolQC', 'Alley', 'Utilities', 'Condition2', 'RoofMatl', 'BsmtCond', 'BsmtQual', 'BsmtFinType2',\n",
    "            'BsmtFinSF1', 'BsmtFinSF2', 'Heating', 'FireplaceQu', 'MiscVal', 'GarageYrBlt'], axis = 1, inplace = True)"
   ]
  },
  {
   "cell_type": "code",
   "execution_count": 843,
   "metadata": {},
   "outputs": [
    {
     "name": "stderr",
     "output_type": "stream",
     "text": [
      "/Users/bennettgelly/anaconda3/lib/python3.6/site-packages/ipykernel_launcher.py:7: SettingWithCopyWarning: \n",
      "A value is trying to be set on a copy of a slice from a DataFrame.\n",
      "Try using .loc[row_indexer,col_indexer] = value instead\n",
      "\n",
      "See the caveats in the documentation: http://pandas.pydata.org/pandas-docs/stable/indexing.html#indexing-view-versus-copy\n",
      "  import sys\n",
      "/Users/bennettgelly/anaconda3/lib/python3.6/site-packages/ipykernel_launcher.py:8: SettingWithCopyWarning: \n",
      "A value is trying to be set on a copy of a slice from a DataFrame.\n",
      "Try using .loc[row_indexer,col_indexer] = value instead\n",
      "\n",
      "See the caveats in the documentation: http://pandas.pydata.org/pandas-docs/stable/indexing.html#indexing-view-versus-copy\n",
      "  \n",
      "/Users/bennettgelly/anaconda3/lib/python3.6/site-packages/ipykernel_launcher.py:9: SettingWithCopyWarning: \n",
      "A value is trying to be set on a copy of a slice from a DataFrame.\n",
      "Try using .loc[row_indexer,col_indexer] = value instead\n",
      "\n",
      "See the caveats in the documentation: http://pandas.pydata.org/pandas-docs/stable/indexing.html#indexing-view-versus-copy\n",
      "  if __name__ == '__main__':\n",
      "/Users/bennettgelly/anaconda3/lib/python3.6/site-packages/ipykernel_launcher.py:10: SettingWithCopyWarning: \n",
      "A value is trying to be set on a copy of a slice from a DataFrame.\n",
      "Try using .loc[row_indexer,col_indexer] = value instead\n",
      "\n",
      "See the caveats in the documentation: http://pandas.pydata.org/pandas-docs/stable/indexing.html#indexing-view-versus-copy\n",
      "  # Remove the CWD from sys.path while we load stuff.\n",
      "/Users/bennettgelly/anaconda3/lib/python3.6/site-packages/ipykernel_launcher.py:21: SettingWithCopyWarning: \n",
      "A value is trying to be set on a copy of a slice from a DataFrame.\n",
      "Try using .loc[row_indexer,col_indexer] = value instead\n",
      "\n",
      "See the caveats in the documentation: http://pandas.pydata.org/pandas-docs/stable/indexing.html#indexing-view-versus-copy\n"
     ]
    }
   ],
   "source": [
    "# create df with continuous and discrete variables \n",
    "contDiscVars = master[['LotFrontage', 'LotArea', 'YearBuilt', 'LowQualFinSF',\n",
    "                     'YrSold', 'Fireplaces', 'BedroomAbvGr', 'KitchenAbvGr',\n",
    "                     'TotRmsAbvGrd', 'GarageCars', 'GarageArea', \n",
    "                     'WoodDeckSF', 'OpenPorchSF']]\n",
    "\n",
    "contDiscVars['totSF'] = master['TotalBsmtSF'] + master['GrLivArea']\n",
    "contDiscVars['bathsF'] = master['BsmtFullBath'] + master['FullBath']\n",
    "contDiscVars['bathsH'] = master['BsmtHalfBath'] + master['HalfBath']\n",
    "contDiscVars['porchSF'] = master['EnclosedPorch'] + master['3SsnPorch'] + master['ScreenPorch']\n",
    "\n",
    "# add years since remodeling variable\n",
    "yearB = pd.DataFrame([i for i in master.YearBuilt])\n",
    "remo = pd.DataFrame([i for i in master.YearRemodAdd])\n",
    "BxRemo = pd.concat([yearB.reset_index(drop=True), remo], axis=1)\n",
    "BxRemo.columns = ['B', 'R']\n",
    "#BxRemo[\"F\"] = BxRemo['B']/BxRemo['R']\n",
    "#Remos = BxRemo[BxRemo['F']<1]\n",
    "BxRemo['Y'] = BxRemo['R'] - BxRemo['B']\n",
    "#BxRemo[BxRemo['Y']>0]\n",
    "contDiscVars['YrSinceRemo'] = BxRemo['Y']"
   ]
  },
  {
   "cell_type": "code",
   "execution_count": 844,
   "metadata": {},
   "outputs": [],
   "source": [
    "# collapse ordinal values\n",
    "\n",
    "# collapse ordinal variables \n",
    "master.replace({'ExterQual': 'Fa'}, {'ExterQual': 'TA'}, regex=True, inplace = True)\n",
    "master.replace({'ExterCond': 'Ex'}, {'ExterCond': 'Gd'}, regex=True, inplace = True)\n",
    "master.replace({'ExterCond': 'Fa'}, {'ExterCond': 'TA'}, regex=True, inplace = True)\n",
    "master.replace({'BsmtExposure': 'No'}, {'BsmtExposure': 'Mn'}, regex=True, inplace = True)\n",
    "master.replace({'BsmtExposure': 'Av'}, {'BsmtExposure': 'Gd'}, regex=True, inplace = True)\n",
    "master.replace({'HeatingQC': 'Fa'}, {'HeatingQC': 'Gd'}, regex=True, inplace = True)\n",
    "master.replace({'HeatingQC': 'Gd'}, {'HeatingQC': 'TA'}, regex=True, inplace = True)\n",
    "master.replace({'KitchenQual': 'Fa'}, {'KitchenQual': 'TA'}, regex=True, inplace = True)\n",
    "master.replace({'KitchenQual': 'Fa'}, {'KitchenQual': 'TA'}, regex=True, inplace = True)\n",
    "master.replace({'GarageQual': 'Ex'}, {'GarageQual': 'Gd'}, regex=True, inplace = True)\n",
    "master.replace({'GarageQual': 'Fa'}, {'GarageQual': 'TA'}, regex=True, inplace = True)\n",
    "master.replace({'GarageCond': 'Ex'}, {'GarageCond': 'Gd'}, regex=True, inplace = True)\n",
    "master.replace({'GarageCond': 'Fa'}, {'GarageCond': 'TA'}, regex=True, inplace = True)\n"
   ]
  },
  {
   "cell_type": "code",
   "execution_count": 845,
   "metadata": {},
   "outputs": [],
   "source": [
    "# ordinal variables to ordinal\n",
    "var_to_ord ={\"ExterQual\": {\"Ex\": 3, \"Gd\": 2, \"TA\": 1},\n",
    "                \"ExterCond\": {\"Gd\": 3, \"TA\": 2, \"Po\": 1},\n",
    "                \"BsmtExposure\": {\"Gd\": 3, \"Mn\": 2, np.nan: 1}, # missing means no basement\n",
    "                \"BsmtFinType1\": {'GLQ':7, 'ALQ':6, 'Unf':2, 'Rec':4, 'BLQ':5, np.nan:1, 'LwQ':3},\n",
    "                \"HeatingQC\": {\"Ex\": 3, \"TA\": 2, \"Po\": 1},\n",
    "                \"KitchenQual\": {\"Ex\": 3, \"Gd\": 2, \"TA\": 1},\n",
    "                \"GarageFinish\": {'RFn': 3, 'Unf': 2, 'Fin': 4, np.nan: 1},\n",
    "                    \n",
    "                \"GarageQual\": {\"Gd\": 4, \"TA\": 3, \"Po\": 2, np.nan: 1},\n",
    "                \"GarageCond\": {\"Gd\": 4, \"TA\": 3, \"Po\": 2, np.nan: 1}\n",
    "            }\n",
    "\n",
    "master.replace(var_to_ord, inplace=True)"
   ]
  },
  {
   "cell_type": "code",
   "execution_count": 846,
   "metadata": {},
   "outputs": [],
   "source": [
    "# create df of ordinal values\n",
    "ordVars = master[[\"OverallQual\", \"OverallCond\", \"ExterQual\", \"ExterCond\", \"BsmtExposure\", \"BsmtFinType1\", \"HeatingQC\", \"KitchenQual\", \"GarageFinish\", \"GarageQual\", \"GarageCond\"]]"
   ]
  },
  {
   "cell_type": "code",
   "execution_count": 847,
   "metadata": {},
   "outputs": [],
   "source": [
    "# collapse dummy variables\n",
    "\n",
    "master.replace({'LogConfig': 'FR3'}, {'LogConfig': 'FR2'}, regex=True, inplace = True)\n",
    "master.replace({'LogConfig': 'FR2'}, {'LogConfig': 'FR'}, regex=True, inplace = True)\n",
    "master['MiscFeature'] = [1 if i == 'Shed' else 0 for i in master['MiscFeature']]\n",
    "master['PoolArea'] = [0 if i == 0  else 1 for i in master['PoolArea']]\n",
    "master['CentralAir'] = [0 if i =='N'  else 1 for i in master['CentralAir']]\n",
    "master['Street'] = [0 if i == \"Grvl\"  else 1 for i in master['Street']]\n",
    "master['MasVnrArea'] = [0 if i == \"No\"  else 1 for i in master['MasVnrArea']]\n",
    "\n",
    "master.replace({'LotShape': 'IR3'}, {'LotShape': 'IR1'}, regex=True, inplace = True)\n",
    "master.replace({'LotShape': 'IR2'}, {'LotShape': 'IR1'}, regex=True, inplace = True)\n",
    "master.replace({'LotShape': 'IR1'}, {'LotShape': 'IR'}, regex=True, inplace = True)\n",
    "\n",
    "master.replace({'LandContour': 'Bnk'}, {'LandContour': 'NoLvl'}, regex=True, inplace = True)\n",
    "master.replace({'LandContour': 'HLS'}, {'LandContour': 'NoLvl'}, regex=True, inplace = True)\n",
    "master.replace({'LandContour': 'Low'}, {'LandContour': 'NoLvl'}, regex=True, inplace = True)\n",
    "\n",
    "master.replace({'LandSlope': 'Mod'}, {'LandSlope': 'Slp'}, regex=True, inplace = True)\n",
    "master.replace({'LandSlope': 'Sev'}, {'LandSlope': 'Slp'}, regex=True, inplace = True)\n",
    "\n",
    "master.replace({'Condition1': 'Feedr'}, {'Condition1': 'St'}, regex=True, inplace = True)\n",
    "master.replace({'Condition1': 'Artery'}, {'Condition1': 'St'}, regex=True, inplace = True)\n",
    "master.replace({'Condition1': 'PosN'}, {'Condition1': 'Pos'}, regex=True, inplace = True)\n",
    "master.replace({'Condition1': 'PosA'}, {'Condition1': 'Pos'}, regex=True, inplace = True)\n",
    "master.replace({'Condition1': 'RRNn'}, {'Condition1': 'RR'}, regex=True, inplace = True)\n",
    "master.replace({'Condition1': 'RRAn'}, {'Condition1': 'RR'}, regex=True, inplace = True)\n",
    "master.replace({'Condition1': 'RRNe'}, {'Condition1': 'RR'}, regex=True, inplace = True)\n",
    "master.replace({'Condition1': 'RRAe'}, {'Condition1': 'RR'}, regex=True, inplace = True)\n",
    "\n",
    "master.replace({'BldgType': 'TwnhsE'}, {'BldgType': 'Twnhs'}, regex=True, inplace = True)\n",
    "master.replace({'BldgType': '2fmCon'}, {'BldgType': '2fam'}, regex=True, inplace = True)\n",
    "master.replace({'BldgType': 'Duplex'}, {'BldgType': '2fam'}, regex=True, inplace = True)\n",
    "\n",
    "master.replace({'HouseStyle': '1.5Fin'}, {'HouseStyle': '1.5'}, regex=True, inplace = True)\n",
    "master.replace({'HouseStyle': '1.5Unf'}, {'HouseStyle': '1.5'}, regex=True, inplace = True)\n",
    "master.replace({'HouseStyle': '2.5Unf'}, {'HouseStyle': '2/2.5'}, regex=True, inplace = True)\n",
    "master.replace({'HouseStyle': '2.5Unf'}, {'HouseStyle': '2/2.5'}, regex=True, inplace = True)\n",
    "master.replace({'HouseStyle': '2Story'}, {'HouseStyle': '2/2.5'}, regex=True, inplace = True)\n",
    "\n",
    "master['Electrical'] = [1 if i == \"SBrkr\"  else 0 for i in master['Electrical']]\n",
    "\n",
    "master.replace({'SaleType': 'CWD'}, {'SaleType': 'WD'}, regex=True, inplace = True)\n",
    "master.replace({'SaleType': 'VWD'}, {'SaleType': 'WD'}, regex=True, inplace = True)\n",
    "master.replace({'SaleType': 'ConLI'}, {'SaleType': 'ConLw'}, regex=True, inplace = True)\n",
    "master.replace({'SaleType': 'ConLD'}, {'SaleType': 'ConLw'}, regex=True, inplace = True)     \n",
    "       \n",
    "master['Function'] = [1 if i == \"Typ\"  else 0 for i in master['Functional']]\n",
    "\n",
    "master['PavedDrive'] = [1 if i == \"Y\"  else 0 for i in master['PavedDrive']]\n"
   ]
  },
  {
   "cell_type": "code",
   "execution_count": 848,
   "metadata": {},
   "outputs": [],
   "source": [
    "# create dummy list\n",
    "dummyList = ['MSSubClass', 'MSZoning', 'MoSold', 'Neighborhood', 'RoofStyle', 'Exterior1st', 'Exterior2nd', 'Foundation', 'Fence', 'SaleCondition', 'GarageType', 'LotConfig', 'MiscFeature', 'PoolArea', 'Street', 'CentralAir', 'MasVnrArea', 'LotShape', 'LandContour','LandSlope', 'Condition1', 'BldgType','HouseStyle','SaleType','Functional','PavedDrive']\n"
   ]
  },
  {
   "cell_type": "code",
   "execution_count": 853,
   "metadata": {},
   "outputs": [
    {
     "data": {
      "text/plain": [
       "MSZoning         4\n",
       "Functional       2\n",
       "SaleType         1\n",
       "Exterior1st      1\n",
       "Exterior2nd      1\n",
       "PavedDrive       0\n",
       "LotConfig        0\n",
       "MoSold           0\n",
       "Neighborhood     0\n",
       "RoofStyle        0\n",
       "Foundation       0\n",
       "Fence            0\n",
       "SaleCondition    0\n",
       "GarageType       0\n",
       "MiscFeature      0\n",
       "PoolArea         0\n",
       "Street           0\n",
       "CentralAir       0\n",
       "MasVnrArea       0\n",
       "LotShape         0\n",
       "LandContour      0\n",
       "LandSlope        0\n",
       "Condition1       0\n",
       "BldgType         0\n",
       "HouseStyle       0\n",
       "MSSubClass       0\n",
       "dtype: int64"
      ]
     },
     "execution_count": 853,
     "metadata": {},
     "output_type": "execute_result"
    }
   ],
   "source": [
    "# # get rid of dummy missing values\n",
    "dummies = master[dummyList]\n",
    "\n",
    "\n",
    "dummy_na_list = ['Fence', 'GarageType']\n",
    "\n",
    "def zeroNAs(x):\n",
    "    for i in x:\n",
    "        master[i].fillna(\"No\",inplace=True)\n",
    "\n",
    "\n",
    "zeroNAs(dummy_na_list)\n",
    "dummies.isnull().sum().sort_values(ascending = False)"
   ]
  },
  {
   "cell_type": "markdown",
   "metadata": {},
   "source": [
    "# Imputing Missing Data"
   ]
  },
  {
   "cell_type": "code",
   "execution_count": 855,
   "metadata": {},
   "outputs": [],
   "source": [
    "# class to impute missing data for dummy variables based on most frequent value \n",
    "# DO WE WANT TO DO KNN FOR THIS?\n",
    "\n",
    "from sklearn.base import TransformerMixin\n",
    "from sklearn.base import BaseEstimator\n",
    "\n",
    "class CustomImputer(BaseEstimator, TransformerMixin):\n",
    "    def __init__(self, strategy='mean',filler='NA'):\n",
    "        self.strategy = strategy\n",
    "        self.fill = filler\n",
    "\n",
    "    def fit(self, X, y=None):\n",
    "        if self.strategy in ['mean','median']:\n",
    "            if not all(X.dtypes == np.number):\n",
    "                raise ValueError('dtypes mismatch np.number dtype is \\\n",
    "                                 required for '+ self.strategy)\n",
    "        if self.strategy == 'mean':\n",
    "            self.fill = X.mean()\n",
    "        elif self.strategy == 'median':\n",
    "            self.fill = X.median()\n",
    "        elif self.strategy == 'mode':\n",
    "            self.fill = X.mode().iloc[0]\n",
    "        elif self.strategy == 'fill':\n",
    "            if type(self.fill) is list and type(X) is pd.DataFrame:\n",
    "                self.fill = dict([(cname, v) for cname,v in zip(X.columns, self.fill)])\n",
    "        return self\n",
    "\n",
    "    def transform(self, X, y=None):\n",
    "        return X.fillna(self.fill)"
   ]
  },
  {
   "cell_type": "code",
   "execution_count": 856,
   "metadata": {},
   "outputs": [],
   "source": [
    "imputedDummies = CustomImputer(strategy='mode').fit_transform(dummies)"
   ]
  },
  {
   "cell_type": "code",
   "execution_count": 857,
   "metadata": {},
   "outputs": [
    {
     "data": {
      "text/plain": [
       "PavedDrive       0\n",
       "Functional       0\n",
       "MSZoning         0\n",
       "MoSold           0\n",
       "Neighborhood     0\n",
       "RoofStyle        0\n",
       "Exterior1st      0\n",
       "Exterior2nd      0\n",
       "Foundation       0\n",
       "Fence            0\n",
       "SaleCondition    0\n",
       "GarageType       0\n",
       "LotConfig        0\n",
       "MiscFeature      0\n",
       "PoolArea         0\n",
       "Street           0\n",
       "CentralAir       0\n",
       "MasVnrArea       0\n",
       "LotShape         0\n",
       "LandContour      0\n",
       "LandSlope        0\n",
       "Condition1       0\n",
       "BldgType         0\n",
       "HouseStyle       0\n",
       "SaleType         0\n",
       "MSSubClass       0\n",
       "dtype: int64"
      ]
     },
     "execution_count": 857,
     "metadata": {},
     "output_type": "execute_result"
    }
   ],
   "source": [
    "imputedDummies.isnull().sum().sort_values(ascending = False)"
   ]
  },
  {
   "cell_type": "code",
   "execution_count": 858,
   "metadata": {},
   "outputs": [],
   "source": [
    "# function to dummify variables\n",
    "def dummify(x):\n",
    "    dummy = pd.DataFrame([])\n",
    "    for i in x:\n",
    "        dummylist = pd.get_dummies(i, prefix = str(i.name), prefix_sep= '_')\n",
    "        dummylist = dummylist.drop(str(i.name) + '_' + str(i[0]), axis = 1)   \n",
    "        dummy = pd.concat([dummy, dummylist], axis =1)\n",
    "    return dummy"
   ]
  },
  {
   "cell_type": "code",
   "execution_count": 859,
   "metadata": {},
   "outputs": [],
   "source": [
    "# dummify dummyList\n",
    "\n",
    "dummyList = [imputedDummies['MSSubClass'], imputedDummies['MSZoning'], imputedDummies['MoSold'], imputedDummies['Neighborhood'], imputedDummies['RoofStyle'], imputedDummies['Exterior1st'], imputedDummies['Exterior2nd'], imputedDummies['Foundation'], imputedDummies['Fence'], imputedDummies['SaleCondition'], imputedDummies['GarageType'], imputedDummies['LotConfig'], imputedDummies['MiscFeature'], imputedDummies['PoolArea'], imputedDummies['Street'], imputedDummies['CentralAir'], imputedDummies['MasVnrArea'], imputedDummies['LotShape'], imputedDummies['LandContour'],imputedDummies['LandSlope'], imputedDummies['Condition1'], imputedDummies['BldgType'],imputedDummies['HouseStyle'],imputedDummies['SaleType'],imputedDummies['Functional'],imputedDummies['PavedDrive']]\n",
    "dummyFrame = dummify(dummyList)"
   ]
  },
  {
   "cell_type": "code",
   "execution_count": 860,
   "metadata": {},
   "outputs": [
    {
     "data": {
      "text/plain": [
       "KitchenQual     1\n",
       "GarageCond      0\n",
       "GarageQual      0\n",
       "GarageFinish    0\n",
       "HeatingQC       0\n",
       "BsmtFinType1    0\n",
       "BsmtExposure    0\n",
       "ExterCond       0\n",
       "ExterQual       0\n",
       "OverallCond     0\n",
       "OverallQual     0\n",
       "dtype: int64"
      ]
     },
     "execution_count": 860,
     "metadata": {},
     "output_type": "execute_result"
    }
   ],
   "source": [
    "# ordinal missing data\n",
    "ordVars.isnull().sum().sort_values(ascending = False)"
   ]
  },
  {
   "cell_type": "code",
   "execution_count": 861,
   "metadata": {},
   "outputs": [],
   "source": [
    "imputedOrdVars = CustomImputer(strategy='mode').fit_transform(ordVars)"
   ]
  },
  {
   "cell_type": "code",
   "execution_count": 862,
   "metadata": {},
   "outputs": [
    {
     "data": {
      "text/plain": [
       "LotFrontage     486\n",
       "bathsH            2\n",
       "bathsF            2\n",
       "totSF             1\n",
       "GarageArea        1\n",
       "GarageCars        1\n",
       "Fireplaces        0\n",
       "LotArea           0\n",
       "YearBuilt         0\n",
       "LowQualFinSF      0\n",
       "YrSold            0\n",
       "YrSinceRemo       0\n",
       "BedroomAbvGr      0\n",
       "KitchenAbvGr      0\n",
       "porchSF           0\n",
       "WoodDeckSF        0\n",
       "OpenPorchSF       0\n",
       "TotRmsAbvGrd      0\n",
       "dtype: int64"
      ]
     },
     "execution_count": 862,
     "metadata": {},
     "output_type": "execute_result"
    }
   ],
   "source": [
    "# continuous missing data\n",
    "contDiscVars.isnull().sum().sort_values(ascending = False)"
   ]
  },
  {
   "cell_type": "code",
   "execution_count": 863,
   "metadata": {},
   "outputs": [
    {
     "name": "stderr",
     "output_type": "stream",
     "text": [
      "/Users/bennettgelly/anaconda3/lib/python3.6/site-packages/pandas/core/generic.py:4355: SettingWithCopyWarning: \n",
      "A value is trying to be set on a copy of a slice from a DataFrame\n",
      "\n",
      "See the caveats in the documentation: http://pandas.pydata.org/pandas-docs/stable/indexing.html#indexing-view-versus-copy\n",
      "  self._update_inplace(new_data)\n"
     ]
    }
   ],
   "source": [
    "cont_na_list = ['LotFrontage']\n",
    "\n",
    "def zeroNAs2(x):\n",
    "    for i in x:\n",
    "        contDiscVars[i].fillna(0,inplace=True)\n",
    "\n",
    "\n",
    "zeroNAs2(cont_na_list)"
   ]
  },
  {
   "cell_type": "code",
   "execution_count": 864,
   "metadata": {},
   "outputs": [
    {
     "data": {
      "text/plain": [
       "bathsH          2\n",
       "bathsF          2\n",
       "totSF           1\n",
       "GarageArea      1\n",
       "GarageCars      1\n",
       "YrSinceRemo     0\n",
       "Fireplaces      0\n",
       "LotArea         0\n",
       "YearBuilt       0\n",
       "LowQualFinSF    0\n",
       "YrSold          0\n",
       "TotRmsAbvGrd    0\n",
       "BedroomAbvGr    0\n",
       "KitchenAbvGr    0\n",
       "porchSF         0\n",
       "WoodDeckSF      0\n",
       "OpenPorchSF     0\n",
       "LotFrontage     0\n",
       "dtype: int64"
      ]
     },
     "execution_count": 864,
     "metadata": {},
     "output_type": "execute_result"
    }
   ],
   "source": [
    "contDiscVars.isnull().sum().sort_values(ascending = False)"
   ]
  },
  {
   "cell_type": "code",
   "execution_count": 865,
   "metadata": {},
   "outputs": [
    {
     "data": {
      "text/plain": [
       "YrSinceRemo     0\n",
       "porchSF         0\n",
       "LotArea         0\n",
       "YearBuilt       0\n",
       "LowQualFinSF    0\n",
       "YrSold          0\n",
       "Fireplaces      0\n",
       "BedroomAbvGr    0\n",
       "KitchenAbvGr    0\n",
       "TotRmsAbvGrd    0\n",
       "GarageCars      0\n",
       "GarageArea      0\n",
       "WoodDeckSF      0\n",
       "OpenPorchSF     0\n",
       "totSF           0\n",
       "bathsF          0\n",
       "bathsH          0\n",
       "LotFrontage     0\n",
       "dtype: int64"
      ]
     },
     "execution_count": 865,
     "metadata": {},
     "output_type": "execute_result"
    }
   ],
   "source": [
    "imputedContDiscVars = CustomImputer(strategy='mode').fit_transform(contDiscVars)\n",
    "imputedContDiscVars.isnull().sum().sort_values(ascending = False)"
   ]
  },
  {
   "cell_type": "code",
   "execution_count": 866,
   "metadata": {},
   "outputs": [
    {
     "data": {
      "text/plain": [
       "2919"
      ]
     },
     "execution_count": 866,
     "metadata": {},
     "output_type": "execute_result"
    }
   ],
   "source": [
    "len(imputedContDiscVars)"
   ]
  },
  {
   "cell_type": "markdown",
   "metadata": {},
   "source": [
    "# Outliers"
   ]
  },
  {
   "cell_type": "code",
   "execution_count": 867,
   "metadata": {},
   "outputs": [
    {
     "name": "stderr",
     "output_type": "stream",
     "text": [
      "/Users/bennettgelly/anaconda3/lib/python3.6/site-packages/ipykernel_launcher.py:10: SettingWithCopyWarning: \n",
      "A value is trying to be set on a copy of a slice from a DataFrame\n",
      "\n",
      "See the caveats in the documentation: http://pandas.pydata.org/pandas-docs/stable/indexing.html#indexing-view-versus-copy\n",
      "  # Remove the CWD from sys.path while we load stuff.\n",
      "/Users/bennettgelly/anaconda3/lib/python3.6/site-packages/ipykernel_launcher.py:11: SettingWithCopyWarning: \n",
      "A value is trying to be set on a copy of a slice from a DataFrame\n",
      "\n",
      "See the caveats in the documentation: http://pandas.pydata.org/pandas-docs/stable/indexing.html#indexing-view-versus-copy\n",
      "  # This is added back by InteractiveShellApp.init_path()\n",
      "/Users/bennettgelly/anaconda3/lib/python3.6/site-packages/ipykernel_launcher.py:16: SettingWithCopyWarning: \n",
      "A value is trying to be set on a copy of a slice from a DataFrame\n",
      "\n",
      "See the caveats in the documentation: http://pandas.pydata.org/pandas-docs/stable/indexing.html#indexing-view-versus-copy\n",
      "  app.launch_new_instance()\n",
      "/Users/bennettgelly/anaconda3/lib/python3.6/site-packages/ipykernel_launcher.py:17: SettingWithCopyWarning: \n",
      "A value is trying to be set on a copy of a slice from a DataFrame\n",
      "\n",
      "See the caveats in the documentation: http://pandas.pydata.org/pandas-docs/stable/indexing.html#indexing-view-versus-copy\n"
     ]
    }
   ],
   "source": [
    "# see outliers in training set of continuous variables\n",
    "Cont = pd.concat([imputedContDiscVars, master.SalePrice], axis = 1)\n",
    "trainCont = Cont[Cont.SalePrice.notnull()]\n",
    "testCont = Cont[Cont.SalePrice.isnull()]\n",
    "\n",
    "# training set for ordinals and dummys\n",
    "Ord = pd.concat([imputedOrdVars, master.SalePrice], axis = 1)\n",
    "trainOrd = Ord[Ord.SalePrice.notnull()]\n",
    "testOrd = Ord[Ord.SalePrice.isnull()]\n",
    "trainOrd.drop(['SalePrice'], axis =1, inplace = True)\n",
    "testOrd.drop(['SalePrice'], axis =1, inplace = True)\n",
    "\n",
    "Dum = pd.concat([dummyFrame, master.SalePrice], axis = 1)\n",
    "trainDum = Dum[Dum.SalePrice.notnull()]\n",
    "testDum = Dum[Dum.SalePrice.isnull()]\n",
    "trainDum.drop(['SalePrice'], axis =1, inplace = True)\n",
    "testDum.drop(['SalePrice'], axis =1, inplace = True)\n"
   ]
  },
  {
   "cell_type": "code",
   "execution_count": 868,
   "metadata": {},
   "outputs": [
    {
     "data": {
      "text/plain": [
       "2919"
      ]
     },
     "execution_count": 868,
     "metadata": {},
     "output_type": "execute_result"
    }
   ],
   "source": [
    "len(master)"
   ]
  },
  {
   "cell_type": "code",
   "execution_count": 869,
   "metadata": {},
   "outputs": [],
   "source": [
    "# function to find outliers > 4x SD\n",
    "def cutOutlier(x):\n",
    "    cutOutliers = pd.DataFrame([])\n",
    "    for i in x:\n",
    "        emptyList = []\n",
    "        m = np.mean(x[i])\n",
    "        sd = np.std(x[i])\n",
    "        for j in x[i]:\n",
    "            if np.abs(j)< 6*np.abs(sd):\n",
    "                emptyList.append(j)\n",
    "            else:\n",
    "                emptyList.append(\"Dropped\")\n",
    "        cutOutliers[i] = pd.Series(emptyList)\n",
    "    \n",
    "    return cutOutliers\n",
    "    "
   ]
  },
  {
   "cell_type": "code",
   "execution_count": 870,
   "metadata": {},
   "outputs": [],
   "source": [
    "noOutliersCont = cutOutlier(trainCont)"
   ]
  },
  {
   "cell_type": "code",
   "execution_count": 871,
   "metadata": {},
   "outputs": [],
   "source": [
    "# take LotArea, totSF, bathsF, SalePrice\n",
    "noOutliers = noOutliersCont[['SalePrice', 'LotArea', 'totSF', 'bathsF']]"
   ]
  },
  {
   "cell_type": "code",
   "execution_count": 872,
   "metadata": {},
   "outputs": [],
   "source": [
    "# drop cols from original trainCont df\n",
    "trainCont = trainCont.drop(['SalePrice', 'LotArea', 'totSF', 'bathsF'], axis =1)"
   ]
  },
  {
   "cell_type": "code",
   "execution_count": 873,
   "metadata": {},
   "outputs": [],
   "source": [
    "# join cont cols with dropped NAs to other train columns\n",
    "merge = pd.concat([trainCont, noOutliers, trainDum, trainOrd], axis =1)"
   ]
  },
  {
   "cell_type": "code",
   "execution_count": 874,
   "metadata": {},
   "outputs": [],
   "source": [
    "# list of rows to drop\n",
    "drop = list(merge[merge.SalePrice == \"Dropped\"].index) + list(merge[merge.LotArea == \"Dropped\"].index) + list(merge[merge.totSF == \"Dropped\"].index) + list(merge[merge.bathsF == \"Dropped\"].index)"
   ]
  },
  {
   "cell_type": "code",
   "execution_count": 875,
   "metadata": {},
   "outputs": [],
   "source": [
    "# drop index with NAs\n",
    "merge.drop(drop, inplace = True)"
   ]
  },
  {
   "cell_type": "markdown",
   "metadata": {},
   "source": [
    "# Transformations"
   ]
  },
  {
   "cell_type": "code",
   "execution_count": 876,
   "metadata": {},
   "outputs": [],
   "source": [
    "# test data\n",
    "mergeTest = pd.concat([testCont, testDum, testOrd], axis =1)"
   ]
  },
  {
   "cell_type": "code",
   "execution_count": 877,
   "metadata": {},
   "outputs": [
    {
     "data": {
      "text/plain": [
       "1459"
      ]
     },
     "execution_count": 877,
     "metadata": {},
     "output_type": "execute_result"
    }
   ],
   "source": [
    "len(mergeTest)"
   ]
  },
  {
   "cell_type": "code",
   "execution_count": 878,
   "metadata": {},
   "outputs": [],
   "source": [
    "# recombine test and train as merged\n",
    "merged = merge.append(mergeTest)\n",
    "\n",
    "#Renaming MiscFeatures as \"Shed\"\n",
    "merged.rename(columns={'MiscFeature':'Shed'}, inplace=True)\n",
    "\n",
    "#Renaming PoolArea as \"Pool\" \n",
    "merged.rename(columns={\"PoolArea\":\"Pool\"}, inplace=True)"
   ]
  },
  {
   "cell_type": "code",
   "execution_count": 879,
   "metadata": {},
   "outputs": [],
   "source": [
    "# apply transformations\n",
    "merged.LotArea = [i**(1/2) for i in merged.LotArea]\n",
    "merged.OpenPorchSF = [i**(1/2) for i in merged.OpenPorchSF]\n",
    "merged.totSF = [i**(2) for i in merged.totSF]\n",
    "merged.OverallQual = [i**(2) for i in merged.OverallQual]"
   ]
  },
  {
   "cell_type": "code",
   "execution_count": 1043,
   "metadata": {},
   "outputs": [
    {
     "data": {
      "text/plain": [
       "<matplotlib.collections.PathCollection at 0x133446908>"
      ]
     },
     "execution_count": 1043,
     "metadata": {},
     "output_type": "execute_result"
    },
    {
     "data": {
      "image/png": "[encoded data removed]",
      "text/plain": [
       "<Figure size 432x288 with 1 Axes>"
      ]
     },
     "metadata": {},
     "output_type": "display_data"
    }
   ],
   "source": [
    "test = [i**(1) for i in merged.totSF]\n",
    "plt.scatter(merged.SalePrice, test)"
   ]
  },
  {
   "cell_type": "code",
   "execution_count": 1048,
   "metadata": {},
   "outputs": [
    {
     "data": {
      "text/plain": [
       "0       208500\n",
       "1       181500\n",
       "2       223500\n",
       "3       140000\n",
       "4       250000\n",
       "5       143000\n",
       "6       307000\n",
       "7       200000\n",
       "8       129900\n",
       "9       118000\n",
       "10      129500\n",
       "11      345000\n",
       "12      144000\n",
       "13      279500\n",
       "14      157000\n",
       "15      132000\n",
       "16      149000\n",
       "17       90000\n",
       "18      159000\n",
       "19      139000\n",
       "20      325300\n",
       "21      139400\n",
       "22      230000\n",
       "23      129900\n",
       "24      154000\n",
       "25      256300\n",
       "26      134800\n",
       "27      306000\n",
       "28      207500\n",
       "29       68500\n",
       "         ...  \n",
       "2889      None\n",
       "2890      None\n",
       "2891      None\n",
       "2892      None\n",
       "2893      None\n",
       "2894      None\n",
       "2895      None\n",
       "2896      None\n",
       "2897      None\n",
       "2898      None\n",
       "2899      None\n",
       "2900      None\n",
       "2901      None\n",
       "2902      None\n",
       "2903      None\n",
       "2904      None\n",
       "2905      None\n",
       "2906      None\n",
       "2907      None\n",
       "2908      None\n",
       "2909      None\n",
       "2910      None\n",
       "2911      None\n",
       "2912      None\n",
       "2913      None\n",
       "2914      None\n",
       "2915      None\n",
       "2916      None\n",
       "2917      None\n",
       "2918      None\n",
       "Name: SalePrice, Length: 2896, dtype: object"
      ]
     },
     "execution_count": 1048,
     "metadata": {},
     "output_type": "execute_result"
    }
   ],
   "source": [
    "qualtest = merged.groupby('OverallQual').mean()\n",
    "merged.SalePrice\n",
    "#qualtest.SalePrice\n",
    "# z= qualtest.index\n",
    "# plt.scatter(z, q)\n",
    "# qualtest\n",
    "#master.SalePrice"
   ]
  },
  {
   "cell_type": "code",
   "execution_count": 880,
   "metadata": {},
   "outputs": [],
   "source": [
    "# separate train and test"
   ]
  },
  {
   "cell_type": "code",
   "execution_count": 881,
   "metadata": {},
   "outputs": [
    {
     "name": "stderr",
     "output_type": "stream",
     "text": [
      "/Users/bennettgelly/anaconda3/lib/python3.6/site-packages/ipykernel_launcher.py:3: SettingWithCopyWarning: \n",
      "A value is trying to be set on a copy of a slice from a DataFrame\n",
      "\n",
      "See the caveats in the documentation: http://pandas.pydata.org/pandas-docs/stable/indexing.html#indexing-view-versus-copy\n",
      "  This is separate from the ipykernel package so we can avoid doing imports until\n"
     ]
    }
   ],
   "source": [
    "train = merged[merged.SalePrice.notnull()]\n",
    "test = merged[merged.SalePrice.isnull()]\n",
    "test.drop(['SalePrice'], axis =1, inplace = True)"
   ]
  },
  {
   "cell_type": "markdown",
   "metadata": {},
   "source": [
    "# Ridge"
   ]
  },
  {
   "cell_type": "code",
   "execution_count": 882,
   "metadata": {},
   "outputs": [],
   "source": [
    "train = train.set_index('SalePrice').reset_index()"
   ]
  },
  {
   "cell_type": "code",
   "execution_count": 883,
   "metadata": {},
   "outputs": [],
   "source": [
    "import sklearn\n",
    "from sklearn.linear_model import LinearRegression, LogisticRegression\n",
    "\n",
    "X = train.iloc[:, 1:].values\n",
    "y = train.iloc[:, 0]\n",
    "\n",
    "import random\n",
    "from sklearn.cross_validation import train_test_split\n",
    "random.seed(0)\n",
    "X_train, X_test, y_train, y_test = train_test_split(X, y, test_size = 0.2, random_state = 0)\n",
    "\n",
    "# Fitting Multiple Linear Regression to the Training set\n",
    "from sklearn.linear_model import LinearRegression\n",
    "regressor = LinearRegression()\n",
    "regressor.fit(X_train, y_train)\n",
    "\n",
    "# Predicting the Test set results\n",
    "y_pred = regressor.predict(X_test)"
   ]
  },
  {
   "cell_type": "code",
   "execution_count": 924,
   "metadata": {},
   "outputs": [
    {
     "data": {
      "text/plain": [
       "array([[3, 0, 0, ..., 2.0, 0, 4730625.0],\n",
       "       [3, 0, 0, ..., 0.0, 0, 9872164.0],\n",
       "       [3, 0, 0, ..., 0.0, 0, 9048064.0],\n",
       "       ...,\n",
       "       [2, 0, 1, ..., 1.0, 0, 5712100.0],\n",
       "       [1, 0, 0, ..., 1.0, 0, 13162384.0],\n",
       "       [3, 0, 0, ..., 1.0, 0, 6081156.0]], dtype=object)"
      ]
     },
     "execution_count": 924,
     "metadata": {},
     "output_type": "execute_result"
    }
   ],
   "source": [
    "X_train"
   ]
  },
  {
   "cell_type": "code",
   "execution_count": 884,
   "metadata": {},
   "outputs": [],
   "source": [
    "X1_train = pd.DataFrame(X_train)\n",
    "X1_train.columns = [list(train.columns)[:-1]]\n",
    "\n",
    "y1_train = pd.Series(y_train)\n",
    "\n",
    "X1_test = pd.DataFrame(X_test)\n",
    "X1_test.columns = [list(train.columns)[:-1]]"
   ]
  },
  {
   "cell_type": "code",
   "execution_count": 885,
   "metadata": {},
   "outputs": [],
   "source": [
    "predictors=[i for [i] in list(X1_train.columns)]"
   ]
  },
  {
   "cell_type": "code",
   "execution_count": 1011,
   "metadata": {
    "scrolled": false
   },
   "outputs": [],
   "source": [
    "from sklearn import linear_model\n",
    "alpha_ridge1 = 10**np.linspace(5, -2, 100)\n",
    "ridge1= linear_model.RidgeCV(alphas=alpha_ridge1, cv=20).fit(X1_train,np.ravel(y1_train))\n",
    "\n",
    "ridgeCoef1 = pd.DataFrame(data=ridge1.coef_, index = predictors).reset_index()"
   ]
  },
  {
   "cell_type": "code",
   "execution_count": 926,
   "metadata": {},
   "outputs": [],
   "source": [
    "y_pred = ridge1.predict(X1_test)"
   ]
  },
  {
   "cell_type": "code",
   "execution_count": 927,
   "metadata": {},
   "outputs": [
    {
     "data": {
      "text/plain": [
       "0.9258974494739836"
      ]
     },
     "execution_count": 927,
     "metadata": {},
     "output_type": "execute_result"
    }
   ],
   "source": [
    "ridge1.score(X_train, y_train)"
   ]
  },
  {
   "cell_type": "code",
   "execution_count": 928,
   "metadata": {},
   "outputs": [
    {
     "data": {
      "text/plain": [
       "9.326033468832199"
      ]
     },
     "execution_count": 928,
     "metadata": {},
     "output_type": "execute_result"
    }
   ],
   "source": [
    "ridge1.alpha_"
   ]
  },
  {
   "cell_type": "code",
   "execution_count": 929,
   "metadata": {},
   "outputs": [],
   "source": [
    "import numpy as np\n",
    "\n",
    "def rmsle(h, y): \n",
    "    \"\"\"\n",
    "    Compute the Root Mean Squared Log Error for hypthesis h and targets y\n",
    "    \n",
    "    Args:\n",
    "        h - numpy array containing predictions with shape (n_samples, n_targets)\n",
    "        y - numpy array containing targets with shape (n_samples, n_targets)\n",
    "    \"\"\"\n",
    "    return np.sqrt(np.square(np.log(h + 1) - np.log(y + 1)).mean())"
   ]
  },
  {
   "cell_type": "code",
   "execution_count": 930,
   "metadata": {},
   "outputs": [
    {
     "data": {
      "text/plain": [
       "0.11987515240801667"
      ]
     },
     "execution_count": 930,
     "metadata": {},
     "output_type": "execute_result"
    }
   ],
   "source": [
    "hyp = y_pred\n",
    "targ = y_test\n",
    "rmsle(hyp, targ)"
   ]
  },
  {
   "cell_type": "code",
   "execution_count": 931,
   "metadata": {},
   "outputs": [
    {
     "data": {
      "text/plain": [
       "1459"
      ]
     },
     "execution_count": 931,
     "metadata": {},
     "output_type": "execute_result"
    }
   ],
   "source": [
    "len(train)\n",
    "len(test)"
   ]
  },
  {
   "cell_type": "code",
   "execution_count": 932,
   "metadata": {},
   "outputs": [],
   "source": [
    "train.to_csv('bg_train.csv', index = False)\n",
    "test.to_csv('bg_test.csv', index = False)"
   ]
  },
  {
   "cell_type": "markdown",
   "metadata": {},
   "source": [
    "# Lasso"
   ]
  },
  {
   "cell_type": "code",
   "execution_count": 933,
   "metadata": {},
   "outputs": [],
   "source": [
    "alpha_lasso1 = alpha_ridge1\n",
    "lasso = linear_model.LassoCV(n_alphas=100, alphas=alphas_lasso, cv=20, random_state=0, max_iter=500000).fit(X1_train,np.ravel(y1_train))\n",
    "lasCoef2 = pd.DataFrame(data=lasso.coef_, index = predictors).reset_index()\n"
   ]
  },
  {
   "cell_type": "code",
   "execution_count": 934,
   "metadata": {},
   "outputs": [],
   "source": [
    "y_predL = lasso.predict(X1_test)"
   ]
  },
  {
   "cell_type": "code",
   "execution_count": 935,
   "metadata": {},
   "outputs": [
    {
     "data": {
      "text/plain": [
       "0.9244462907123242"
      ]
     },
     "execution_count": 935,
     "metadata": {},
     "output_type": "execute_result"
    }
   ],
   "source": [
    "lasso.score(X_train, y_train)"
   ]
  },
  {
   "cell_type": "code",
   "execution_count": 936,
   "metadata": {},
   "outputs": [
    {
     "data": {
      "text/plain": [
       "0.11799402529405807"
      ]
     },
     "execution_count": 936,
     "metadata": {},
     "output_type": "execute_result"
    }
   ],
   "source": [
    "hyp = y_predL\n",
    "targ = y_test\n",
    "rmsle(hyp, targ)"
   ]
  },
  {
   "cell_type": "markdown",
   "metadata": {},
   "source": [
    "# Elastic Net"
   ]
  },
  {
   "cell_type": "code",
   "execution_count": 937,
   "metadata": {},
   "outputs": [],
   "source": [
    "l1_ratio = [.1, .5, .7, .9, .95, .99, 1]\n",
    "\n",
    "elasticNet = linear_model.ElasticNetCV(l1_ratio=l1_ratio, n_alphas=100, alphas=alpha_lasso1, fit_intercept=True, normalize=True, precompute='auto', max_iter=500000, tol=0.0001, cv=20, copy_X=True, verbose=0, n_jobs=1, positive=False, random_state=0, selection = 'cyclic').fit(X1_train,np.ravel(y1_train))\n",
    "\n"
   ]
  },
  {
   "cell_type": "code",
   "execution_count": 938,
   "metadata": {},
   "outputs": [],
   "source": [
    "y_predE = elasticNet.predict(X1_test)"
   ]
  },
  {
   "cell_type": "code",
   "execution_count": 939,
   "metadata": {},
   "outputs": [
    {
     "data": {
      "text/plain": [
       "0.11773180591336697"
      ]
     },
     "execution_count": 939,
     "metadata": {},
     "output_type": "execute_result"
    }
   ],
   "source": [
    "hyp = y_predE\n",
    "targ = y_test\n",
    "rmsle(hyp, targ)"
   ]
  },
  {
   "cell_type": "code",
   "execution_count": 940,
   "metadata": {},
   "outputs": [
    {
     "data": {
      "text/plain": [
       "1.0"
      ]
     },
     "execution_count": 940,
     "metadata": {},
     "output_type": "execute_result"
    }
   ],
   "source": [
    "elasticNet.l1_ratio_"
   ]
  },
  {
   "cell_type": "markdown",
   "metadata": {},
   "source": [
    "# Test Predictions"
   ]
  },
  {
   "cell_type": "code",
   "execution_count": 943,
   "metadata": {},
   "outputs": [],
   "source": [
    "X2_train = pd.DataFrame(X)\n",
    "X2_train.columns = [list(train.columns)[1:]]\n",
    "\n",
    "y2_train = pd.Series(y)\n",
    "\n",
    "X2_test = test\n",
    "# X1_test.columns = [list(train.columns)[:-1]]"
   ]
  },
  {
   "cell_type": "code",
   "execution_count": 946,
   "metadata": {},
   "outputs": [
    {
     "data": {
      "text/plain": [
       "1459"
      ]
     },
     "execution_count": 946,
     "metadata": {},
     "output_type": "execute_result"
    }
   ],
   "source": [
    "len(X2_test)"
   ]
  },
  {
   "cell_type": "code",
   "execution_count": 947,
   "metadata": {},
   "outputs": [],
   "source": [
    "elasticNet = linear_model.ElasticNetCV(l1_ratio=l1_ratio, n_alphas=100, alphas=alpha_lasso1, fit_intercept=True, normalize=True, precompute='auto', max_iter=500000, tol=0.0001, cv=20, copy_X=True, verbose=0, n_jobs=1, positive=False, random_state=0, selection = 'cyclic').fit(X2_train,np.ravel(y2_train))"
   ]
  },
  {
   "cell_type": "code",
   "execution_count": 1003,
   "metadata": {},
   "outputs": [],
   "source": [
    "lasso = linear_model.LassoCV(n_alphas=100, alphas=alphas_lasso, cv=20, random_state=0, max_iter=500000).fit(X2_train,np.ravel(y2_train))"
   ]
  },
  {
   "cell_type": "code",
   "execution_count": 948,
   "metadata": {},
   "outputs": [],
   "source": [
    "y_predE2 = elasticNet.predict(X2_test)"
   ]
  },
  {
   "cell_type": "code",
   "execution_count": 1004,
   "metadata": {},
   "outputs": [],
   "source": [
    "y_predL2 = lasso.predict(X2_test)"
   ]
  },
  {
   "cell_type": "code",
   "execution_count": 1005,
   "metadata": {},
   "outputs": [],
   "source": [
    "SalePrice = pd.DataFrame(y_predL2)\n",
    "SalePrice.columns = ['SalePrice']\n",
    "#SalePrice"
   ]
  },
  {
   "cell_type": "code",
   "execution_count": 1006,
   "metadata": {},
   "outputs": [],
   "source": [
    "path_to_file = \"../../data/test.csv\"\n",
    "testFinal = pd.read_csv(path_to_file)"
   ]
  },
  {
   "cell_type": "code",
   "execution_count": 1007,
   "metadata": {},
   "outputs": [],
   "source": [
    "testFinal = pd.concat([testFinal, SalePrice], axis =1)\n",
    "#testFinal.set_index(['Id'], inplace = True)"
   ]
  },
  {
   "cell_type": "code",
   "execution_count": 1008,
   "metadata": {},
   "outputs": [],
   "source": [
    "testResults = testFinal[['Id','SalePrice']]"
   ]
  },
  {
   "cell_type": "code",
   "execution_count": 1009,
   "metadata": {},
   "outputs": [],
   "source": [
    "testResults.to_csv('testResultsL.csv', index = False)"
   ]
  },
  {
   "cell_type": "markdown",
   "metadata": {},
   "source": [
    "# Notes"
   ]
  },
  {
   "cell_type": "code",
   "execution_count": null,
   "metadata": {},
   "outputs": [],
   "source": [
    "# try alley as boolean\n",
    "# remove'GarageCars'\n",
    "# yearsinceremo from sale date\n",
    "# collapse months to seasons\n",
    "# collapse neighborhoods by price"
   ]
  }
 ],
 "metadata": {
  "kernelspec": {
   "display_name": "Python 3",
   "language": "python",
   "name": "python3"
  },
  "language_info": {
   "codemirror_mode": {
    "name": "ipython",
    "version": 3
   },
   "file_extension": ".py",
   "mimetype": "text/x-python",
   "name": "python",
   "nbconvert_exporter": "python",
   "pygments_lexer": "ipython3",
   "version": "3.6.4"
  }
 },
 "nbformat": 4,
 "nbformat_minor": 2
}
