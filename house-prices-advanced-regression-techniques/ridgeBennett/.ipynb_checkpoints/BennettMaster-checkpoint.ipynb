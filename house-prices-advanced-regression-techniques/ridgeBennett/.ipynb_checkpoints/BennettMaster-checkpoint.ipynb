{
 "cells": [
  {
   "cell_type": "code",
   "execution_count": 2509,
   "metadata": {},
   "outputs": [],
   "source": [
    "# import packages \n",
    "import pandas as pd\n",
    "import matplotlib\n",
    "import matplotlib.pyplot as plt\n",
    "%matplotlib inline\n",
    "import numpy as np\n",
    "\n",
    "\n",
    "# load train and test data sets\n",
    "path_to_file = \"../../data/train.csv\"\n",
    "train = pd.read_csv(path_to_file)\n",
    "\n",
    "path_to_file = \"../../data/test.csv\"\n",
    "test = pd.read_csv(path_to_file)"
   ]
  },
  {
   "cell_type": "code",
   "execution_count": 2510,
   "metadata": {},
   "outputs": [
    {
     "data": {
      "text/plain": [
       "2919"
      ]
     },
     "execution_count": 2510,
     "metadata": {},
     "output_type": "execute_result"
    }
   ],
   "source": [
    "len(test) # 1459\n",
    "len(train) # 1460\n",
    "1459+ 1460"
   ]
  },
  {
   "cell_type": "code",
   "execution_count": 2511,
   "metadata": {},
   "outputs": [],
   "source": [
    "# merge train and test for cleaning\n",
    "test['SalePrice'] = None\n",
    "master = train.append(pd.DataFrame(test), ignore_index=True)"
   ]
  },
  {
   "cell_type": "code",
   "execution_count": 2512,
   "metadata": {},
   "outputs": [
    {
     "data": {
      "text/plain": [
       "2919"
      ]
     },
     "execution_count": 2512,
     "metadata": {},
     "output_type": "execute_result"
    }
   ],
   "source": [
    "len(master)"
   ]
  },
  {
   "cell_type": "markdown",
   "metadata": {},
   "source": [
    "# Data Cleaning "
   ]
  },
  {
   "cell_type": "code",
   "execution_count": 2513,
   "metadata": {},
   "outputs": [],
   "source": [
    "# drop Id column\n",
    "Ids = master.Id\n",
    "master.drop(['Id'], axis = 1, inplace = True)"
   ]
  },
  {
   "cell_type": "code",
   "execution_count": 2514,
   "metadata": {},
   "outputs": [],
   "source": [
    "# feature notes:\n",
    "# Id - don't use for analysis, need to add back at end to submit for test\n",
    "\n",
    "### convert to /dummy, can I collapse?\n",
    "# MSSubClass (type of dwelling)\n",
    "# MSZoning (zoning classification)\n",
    "# LotConfig - collapse FR3 and FR2\n",
    "# PoolArea - yes or no pool\n",
    "# street - gravel or pave\n",
    "# LotShape - collapse to irregular or not \n",
    "# LandContour - Lvl or not\n",
    "# LandSlope - collapse to Gtl or Slope\n",
    "# Condition1 - collapse near railroad, near street, near positive feature\n",
    "# BldgType - collapse Townhouse, TwoFamCond/Duplex\n",
    "# HouseStyle - collapse 1, 1.5, 2&2.5, Sfoyer, Slevel\n",
    "# RoofStyle\n",
    "# Exterior1st\n",
    "# Exterior2nd\n",
    "# MasVnrArea - yes or no\n",
    "# Foundation\n",
    "# CentralAir\n",
    "# Electrical - collapse to SBKR or no\n",
    "# Fence\n",
    "# MiscFeature - shed or no shed\n",
    "# SaleType - collapse\n",
    "# SaleCondition\n",
    "# Functional - y/n\n",
    "# GarageType\n",
    "# PavedDrive - y/n & partial\n",
    "\n",
    "### cont./discrete - adjust for skew\n",
    "# LotFrontage - linear feet of street connected to property\n",
    "# LotArea\n",
    "# total Sq ft - this is sum of 'TotalBsmtSF'  + 'GrLivArea'\n",
    "# YearBuilt\n",
    "# LowQualFinSF\n",
    "# full baths - 'BsmtFullBath','FullBath',\n",
    "# half baths - 'BsmtHalfBath','HalfBath',\n",
    "# Fireplaces\n",
    "# BedroomAbvGr\n",
    "# KitchenAbvGr\n",
    "# TotRmsAbvGrd\n",
    "# GarageCars\n",
    "# GarageArea - has some skew\n",
    "# create porch sqft - 'EnclosedPorch', '3SsnPorch','ScreenPorch',\n",
    "# WoodDeckSF\n",
    "# OpenPorchSF\n",
    "# SalevRemo\n",
    "\n",
    "### ord. - transformations when plotted vs. y? can I collapse?\n",
    "# OverlQual - materials and finish\n",
    "# OveralCond - condition\n",
    "# ExterQual\n",
    "# ExterCond\n",
    "# BsmtExposure - CHECK graph, this includes no basement. Maybe Dummy\n",
    "# BsmtFinType1 - CHECK graph, this includes no basement. Maybe Dummy\n",
    "# Buckets of when it was remodeled by years ago - ADD from YearRemodAdd\n",
    "# HeatingQC - collapse\n",
    "# KitchenQual - collapse\n",
    "# GarageFinish\n",
    "# GarageQual - collapse\n",
    "# GarageCond - collapse \n",
    "# YrSold\n",
    "# MoSold (month sold in)\n",
    "# Neighborhood\n",
    "\n",
    "### drop\n",
    "# PoolQC - not many observations, small range with in the observations\n",
    "# Alley - only ~6% have an alley at all, probably won't have much effect on price\n",
    "# Utilities - all pub except one or two\n",
    "# Condition2 - not many have this \n",
    "# RoofMatl - mostly all the same, probably accounted for in RoofStyle\n",
    "# BsmtCond\n",
    "# BsmtQual\n",
    "# BsmtFinType2\n",
    "# BsmtFinSF1\n",
    "# BsmtFinSF2\n",
    "# Heating\n",
    "# FireplaceQu\n",
    "# MiscVal\n",
    "# GarageYrBlt\n",
    "# GarageCars\n",
    "# ---\n",
    "# YearRemodAdd - make into ord.\n",
    "# 'BsmtFullBath', 'BsmtHalfBath', 'FullBath', 'HalfBath', - to half and full baths\n",
    "# 'TotalBsmtSF'  'GrLivArea' to total sq\n",
    "# 'EnclosedPorch', '3SsnPorch','ScreenPorch', to porch sqft\n",
    "######### Feat engineering\n",
    "# first floor sf and second floor sf - sum these and eliminate other \n",
    "# total sq foot of house\n",
    "#########"
   ]
  },
  {
   "cell_type": "code",
   "execution_count": 2515,
   "metadata": {},
   "outputs": [],
   "source": [
    "# drop vars to drop\n",
    "master.drop(['GarageCars','PoolQC', 'Utilities', 'Condition2', 'RoofMatl', 'BsmtCond', 'BsmtQual', 'BsmtFinType2',\n",
    "            'BsmtFinSF1', 'BsmtFinSF2', 'Heating', 'FireplaceQu', 'MiscVal', 'GarageYrBlt'], axis = 1, inplace = True)"
   ]
  },
  {
   "cell_type": "code",
   "execution_count": 2516,
   "metadata": {},
   "outputs": [
    {
     "name": "stderr",
     "output_type": "stream",
     "text": [
      "/Users/bennettgelly/anaconda3/lib/python3.6/site-packages/ipykernel_launcher.py:9: SettingWithCopyWarning: \n",
      "A value is trying to be set on a copy of a slice from a DataFrame.\n",
      "Try using .loc[row_indexer,col_indexer] = value instead\n",
      "\n",
      "See the caveats in the documentation: http://pandas.pydata.org/pandas-docs/stable/indexing.html#indexing-view-versus-copy\n",
      "  if __name__ == '__main__':\n",
      "/Users/bennettgelly/anaconda3/lib/python3.6/site-packages/ipykernel_launcher.py:10: SettingWithCopyWarning: \n",
      "A value is trying to be set on a copy of a slice from a DataFrame.\n",
      "Try using .loc[row_indexer,col_indexer] = value instead\n",
      "\n",
      "See the caveats in the documentation: http://pandas.pydata.org/pandas-docs/stable/indexing.html#indexing-view-versus-copy\n",
      "  # Remove the CWD from sys.path while we load stuff.\n",
      "/Users/bennettgelly/anaconda3/lib/python3.6/site-packages/ipykernel_launcher.py:11: SettingWithCopyWarning: \n",
      "A value is trying to be set on a copy of a slice from a DataFrame.\n",
      "Try using .loc[row_indexer,col_indexer] = value instead\n",
      "\n",
      "See the caveats in the documentation: http://pandas.pydata.org/pandas-docs/stable/indexing.html#indexing-view-versus-copy\n",
      "  # This is added back by InteractiveShellApp.init_path()\n",
      "/Users/bennettgelly/anaconda3/lib/python3.6/site-packages/ipykernel_launcher.py:12: SettingWithCopyWarning: \n",
      "A value is trying to be set on a copy of a slice from a DataFrame.\n",
      "Try using .loc[row_indexer,col_indexer] = value instead\n",
      "\n",
      "See the caveats in the documentation: http://pandas.pydata.org/pandas-docs/stable/indexing.html#indexing-view-versus-copy\n",
      "  if sys.path[0] == '':\n",
      "/Users/bennettgelly/anaconda3/lib/python3.6/site-packages/ipykernel_launcher.py:22: SettingWithCopyWarning: \n",
      "A value is trying to be set on a copy of a slice from a DataFrame.\n",
      "Try using .loc[row_indexer,col_indexer] = value instead\n",
      "\n",
      "See the caveats in the documentation: http://pandas.pydata.org/pandas-docs/stable/indexing.html#indexing-view-versus-copy\n"
     ]
    }
   ],
   "source": [
    "# # create df with continuous and discrete variables \n",
    "contDiscVars = master[['LotFrontage', 'LotArea', 'YearBuilt', 'LowQualFinSF',\n",
    "                       'Fireplaces', 'BedroomAbvGr', 'KitchenAbvGr',\n",
    "                     'TotRmsAbvGrd', 'GarageArea', \n",
    "                     'WoodDeckSF', 'OpenPorchSF']]\n",
    "\n",
    "#'YrSold', 'MoSold' - making these into ordinal\n",
    "\n",
    "contDiscVars['totSF'] = master['TotalBsmtSF'] + master['GrLivArea']\n",
    "contDiscVars['bathsF'] = master['BsmtFullBath'] + master['FullBath']\n",
    "contDiscVars['bathsH'] = master['BsmtHalfBath'] + master['HalfBath']\n",
    "contDiscVars['porchSF'] = master['EnclosedPorch'] + master['3SsnPorch'] + master['ScreenPorch']\n",
    "\n",
    "# add years since remodeling variable\n",
    "yearB = pd.DataFrame([i for i in master.YrSold])\n",
    "remo = pd.DataFrame([i for i in master.YearRemodAdd])\n",
    "BxRemo = pd.concat([yearB.reset_index(drop=True), remo], axis=1)\n",
    "BxRemo.columns = ['S', 'R']\n",
    "\n",
    "BxRemo['Y'] = BxRemo['S'] - BxRemo['R']\n",
    "\n",
    "contDiscVars['SaleVremo'] = BxRemo['Y']\n",
    "\n"
   ]
  },
  {
   "cell_type": "code",
   "execution_count": 2517,
   "metadata": {},
   "outputs": [],
   "source": [
    "# collapse ordinal values\n",
    "\n",
    "# collapse ordinal variables \n",
    "master.replace({'ExterQual': 'Fa'}, {'ExterQual': 'TA'}, regex=True, inplace = True)\n",
    "master.replace({'ExterCond': 'Ex'}, {'ExterCond': 'Gd'}, regex=True, inplace = True)\n",
    "master.replace({'ExterCond': 'Fa'}, {'ExterCond': 'TA'}, regex=True, inplace = True)\n",
    "master.replace({'BsmtExposure': 'No'}, {'BsmtExposure': 'Mn'}, regex=True, inplace = True)\n",
    "master.replace({'BsmtExposure': 'Av'}, {'BsmtExposure': 'Gd'}, regex=True, inplace = True)\n",
    "master.replace({'HeatingQC': 'Fa'}, {'HeatingQC': 'Gd'}, regex=True, inplace = True)\n",
    "master.replace({'HeatingQC': 'Gd'}, {'HeatingQC': 'TA'}, regex=True, inplace = True)\n",
    "master.replace({'KitchenQual': 'Fa'}, {'KitchenQual': 'TA'}, regex=True, inplace = True)\n",
    "master.replace({'KitchenQual': 'Fa'}, {'KitchenQual': 'TA'}, regex=True, inplace = True)\n",
    "master.replace({'GarageQual': 'Ex'}, {'GarageQual': 'Gd'}, regex=True, inplace = True)\n",
    "master.replace({'GarageQual': 'Fa'}, {'GarageQual': 'TA'}, regex=True, inplace = True)\n",
    "master.replace({'GarageCond': 'Ex'}, {'GarageCond': 'Gd'}, regex=True, inplace = True)\n",
    "master.replace({'GarageCond': 'Fa'}, {'GarageCond': 'TA'}, regex=True, inplace = True)\n"
   ]
  },
  {
   "cell_type": "code",
   "execution_count": 2518,
   "metadata": {},
   "outputs": [],
   "source": [
    "# ordinal variables to ordinal\n",
    "var_to_ord ={\"ExterQual\": {\"Ex\": 3, \"Gd\": 2, \"TA\": 1},\n",
    "                \"ExterCond\": {\"Gd\": 3, \"TA\": 2, \"Po\": 1},\n",
    "                \"BsmtExposure\": {\"Gd\": 3, \"Mn\": 2, np.nan: 1}, # missing means no basement\n",
    "                \"BsmtFinType1\": {'GLQ':7, 'ALQ':6, 'Unf':2, 'Rec':4, 'BLQ':5, np.nan:1, 'LwQ':3},\n",
    "                \"HeatingQC\": {\"Ex\": 3, \"TA\": 2, \"Po\": 1},\n",
    "                \"KitchenQual\": {\"Ex\": 3, \"Gd\": 2, \"TA\": 1},\n",
    "                \"GarageFinish\": {'RFn': 3, 'Unf': 2, 'Fin': 4, np.nan: 1},\n",
    "                    \n",
    "                \"GarageQual\": {\"Gd\": 4, \"TA\": 3, \"Po\": 2, np.nan: 1},\n",
    "                \"GarageCond\": {\"Gd\": 4, \"TA\": 3, \"Po\": 2, np.nan: 1}\n",
    "            }\n",
    "\n",
    "master.replace(var_to_ord, inplace=True)"
   ]
  },
  {
   "cell_type": "code",
   "execution_count": 2519,
   "metadata": {},
   "outputs": [],
   "source": [
    "# create df of ordinal values\n",
    "# adding mosold, yrsold, neighorhood\n",
    "ordVars = master[[\"YrSold\", \"MoSold\", \"Neighborhood\", \"OverallQual\", \"OverallCond\", \"ExterQual\", \"ExterCond\", \"BsmtExposure\", \"BsmtFinType1\", \"HeatingQC\", \"KitchenQual\", \"GarageFinish\", \"GarageQual\", \"GarageCond\"]]"
   ]
  },
  {
   "cell_type": "code",
   "execution_count": 2520,
   "metadata": {},
   "outputs": [],
   "source": [
    "# collapse dummy variables\n",
    "\n",
    "master.replace({'LogConfig': 'FR3'}, {'LogConfig': 'FR2'}, regex=True, inplace = True)\n",
    "master.replace({'LogConfig': 'FR2'}, {'LogConfig': 'FR'}, regex=True, inplace = True)\n",
    "master['MiscFeature'] = [1 if i == 'Shed' else 0 for i in master['MiscFeature']]\n",
    "master['PoolArea'] = [0 if i == 0  else 1 for i in master['PoolArea']]\n",
    "master['CentralAir'] = [0 if i =='N'  else 1 for i in master['CentralAir']]\n",
    "master['Street'] = [0 if i == \"Grvl\"  else 1 for i in master['Street']]\n",
    "master['MasVnrArea'] = [0 if i == \"No\"  else 1 for i in master['MasVnrArea']]\n",
    "\n",
    "master['Alley'] = [0 if i == np.nan  else 1 for i in master['Alley']]\n",
    "\n",
    "master.replace({'LotShape': 'IR3'}, {'LotShape': 'IR1'}, regex=True, inplace = True)\n",
    "master.replace({'LotShape': 'IR2'}, {'LotShape': 'IR1'}, regex=True, inplace = True)\n",
    "master.replace({'LotShape': 'IR1'}, {'LotShape': 'IR'}, regex=True, inplace = True)\n",
    "\n",
    "master.replace({'LandContour': 'Bnk'}, {'LandContour': 'NoLvl'}, regex=True, inplace = True)\n",
    "master.replace({'LandContour': 'HLS'}, {'LandContour': 'NoLvl'}, regex=True, inplace = True)\n",
    "master.replace({'LandContour': 'Low'}, {'LandContour': 'NoLvl'}, regex=True, inplace = True)\n",
    "\n",
    "master.replace({'LandSlope': 'Mod'}, {'LandSlope': 'Slp'}, regex=True, inplace = True)\n",
    "master.replace({'LandSlope': 'Sev'}, {'LandSlope': 'Slp'}, regex=True, inplace = True)\n",
    "\n",
    "master.replace({'Condition1': 'Feedr'}, {'Condition1': 'St'}, regex=True, inplace = True)\n",
    "master.replace({'Condition1': 'Artery'}, {'Condition1': 'St'}, regex=True, inplace = True)\n",
    "master.replace({'Condition1': 'PosN'}, {'Condition1': 'Pos'}, regex=True, inplace = True)\n",
    "master.replace({'Condition1': 'PosA'}, {'Condition1': 'Pos'}, regex=True, inplace = True)\n",
    "master.replace({'Condition1': 'RRNn'}, {'Condition1': 'RR'}, regex=True, inplace = True)\n",
    "master.replace({'Condition1': 'RRAn'}, {'Condition1': 'RR'}, regex=True, inplace = True)\n",
    "master.replace({'Condition1': 'RRNe'}, {'Condition1': 'RR'}, regex=True, inplace = True)\n",
    "master.replace({'Condition1': 'RRAe'}, {'Condition1': 'RR'}, regex=True, inplace = True)\n",
    "\n",
    "master.replace({'BldgType': 'TwnhsE'}, {'BldgType': 'Twnhs'}, regex=True, inplace = True)\n",
    "master.replace({'BldgType': '2fmCon'}, {'BldgType': '2fam'}, regex=True, inplace = True)\n",
    "master.replace({'BldgType': 'Duplex'}, {'BldgType': '2fam'}, regex=True, inplace = True)\n",
    "\n",
    "master.replace({'HouseStyle': '1.5Fin'}, {'HouseStyle': '1.5'}, regex=True, inplace = True)\n",
    "master.replace({'HouseStyle': '1.5Unf'}, {'HouseStyle': '1.5'}, regex=True, inplace = True)\n",
    "master.replace({'HouseStyle': '2.5Unf'}, {'HouseStyle': '2/2.5'}, regex=True, inplace = True)\n",
    "master.replace({'HouseStyle': '2.5Unf'}, {'HouseStyle': '2/2.5'}, regex=True, inplace = True)\n",
    "master.replace({'HouseStyle': '2Story'}, {'HouseStyle': '2/2.5'}, regex=True, inplace = True)\n",
    "\n",
    "master['Electrical'] = [1 if i == \"SBrkr\"  else 0 for i in master['Electrical']]\n",
    "\n",
    "master.replace({'SaleType': 'CWD'}, {'SaleType': 'WD'}, regex=True, inplace = True)\n",
    "master.replace({'SaleType': 'VWD'}, {'SaleType': 'WD'}, regex=True, inplace = True)\n",
    "master.replace({'SaleType': 'ConLI'}, {'SaleType': 'ConLw'}, regex=True, inplace = True)\n",
    "master.replace({'SaleType': 'ConLD'}, {'SaleType': 'ConLw'}, regex=True, inplace = True)     \n",
    "       \n",
    "master['Function'] = [1 if i == \"Typ\"  else 0 for i in master['Functional']]\n",
    "\n",
    "master['PavedDrive'] = [1 if i == \"Y\"  else 0 for i in master['PavedDrive']]\n"
   ]
  },
  {
   "cell_type": "code",
   "execution_count": 2521,
   "metadata": {},
   "outputs": [
    {
     "name": "stderr",
     "output_type": "stream",
     "text": [
      "/Users/bennettgelly/anaconda3/lib/python3.6/site-packages/ipykernel_launcher.py:6: SettingWithCopyWarning: \n",
      "A value is trying to be set on a copy of a slice from a DataFrame.\n",
      "Try using .loc[row_indexer,col_indexer] = value instead\n",
      "\n",
      "See the caveats in the documentation: http://pandas.pydata.org/pandas-docs/stable/indexing.html#indexing-view-versus-copy\n",
      "  \n",
      "/Users/bennettgelly/anaconda3/lib/python3.6/site-packages/ipykernel_launcher.py:7: SettingWithCopyWarning: \n",
      "A value is trying to be set on a copy of a slice from a DataFrame.\n",
      "Try using .loc[row_indexer,col_indexer] = value instead\n",
      "\n",
      "See the caveats in the documentation: http://pandas.pydata.org/pandas-docs/stable/indexing.html#indexing-view-versus-copy\n",
      "  import sys\n"
     ]
    }
   ],
   "source": [
    "# make YrSold, MoSold, and Neighborhood ordinal based on average sale price\n",
    "path_to_file = \"../../data/train.csv\"\n",
    "contoOrd = pd.read_csv(path_to_file)\n",
    "\n",
    "contoOrd2 = contoOrd[['SalePrice', 'LotArea']]\n",
    "contoOrd2['totSF'] = contoOrd['TotalBsmtSF'] + contoOrd['GrLivArea']\n",
    "contoOrd2['bathsF'] = contoOrd['BsmtFullBath'] + contoOrd['FullBath']"
   ]
  },
  {
   "cell_type": "code",
   "execution_count": 2522,
   "metadata": {},
   "outputs": [],
   "source": [
    "contoOrd2 = cutOutlier(contoOrd2)"
   ]
  },
  {
   "cell_type": "code",
   "execution_count": 2523,
   "metadata": {},
   "outputs": [],
   "source": [
    "contoOrd2['YrSold'] = contoOrd['YrSold']\n",
    "contoOrd2['MoSold'] = contoOrd['MoSold']\n",
    "contoOrd2['Neighborhood'] = contoOrd['Neighborhood']\n",
    "\n",
    "drop = list(contoOrd2[contoOrd2.SalePrice == \"Dropped\"].index) + list(contoOrd2[contoOrd2.LotArea == \"Dropped\"].index) + list(contoOrd2[contoOrd2.totSF == \"Dropped\"].index) + list(contoOrd2[contoOrd2.bathsF == \"Dropped\"].index)\n",
    "contoOrd2.drop(drop, inplace = True)"
   ]
  },
  {
   "cell_type": "code",
   "execution_count": 2524,
   "metadata": {},
   "outputs": [],
   "source": [
    "#list(contoOrd2.groupby('YrSold').SalePrice)\n",
    "#contoOrd2 = contoOrd2.reset_index()\n",
    "dictMo = {\n",
    "1: contoOrd2[contoOrd2.MoSold == 1].SalePrice.mean(),\n",
    "3: contoOrd2[contoOrd2.MoSold == 2].SalePrice.mean(),\n",
    "2: contoOrd2[contoOrd2.MoSold == 3].SalePrice.mean(),\n",
    "1: contoOrd2[contoOrd2.MoSold == 4].SalePrice.mean(),\n",
    "2: contoOrd2[contoOrd2.MoSold == 5].SalePrice.mean(),\n",
    "2: contoOrd2[contoOrd2.MoSold == 6].SalePrice.mean(),\n",
    "3: contoOrd2[contoOrd2.MoSold == 7].SalePrice.mean(),\n",
    "4: contoOrd2[contoOrd2.MoSold == 8].SalePrice.mean(),\n",
    "5: contoOrd2[contoOrd2.MoSold == 9].SalePrice.mean(),\n",
    "3: contoOrd2[contoOrd2.MoSold == 10].SalePrice.mean(),\n",
    "4: contoOrd2[contoOrd2.MoSold == 11].SalePrice.mean(),\n",
    "4: contoOrd2[contoOrd2.MoSold == 12].SalePrice.mean()\n",
    "}\n",
    "\n",
    "# [(1, 161257.96296296295), 1\n",
    "#  (4, 164963.30434782608),\n",
    "\n",
    "#  (5, 171037.8472906404), 2\n",
    "#  (6, 171682.3306122449),\n",
    "#  (3, 173284.74257425743),\n",
    "\n",
    "#  (7, 175080.00442477877), 3\n",
    "#  (10, 176524.8735632184),\n",
    "#  (2, 177882.0),\n",
    "\n",
    "#  (8, 182271.44166666668), 4\n",
    "#  (12, 184907.22413793104),\n",
    "#  (11, 186407.8051948052),\n",
    "\n",
    "#  (9, 190541.67213114753)] 5\n",
    "\n",
    "dictYr = {\n",
    "3: contoOrd2[contoOrd2.YrSold == 2006].SalePrice.mean(),\n",
    "5: contoOrd2[contoOrd2.YrSold == 2007].SalePrice.mean(),\n",
    "4: contoOrd2[contoOrd2.YrSold == 2008].SalePrice.mean(),\n",
    "2: contoOrd2[contoOrd2.YrSold == 2009].SalePrice.mean(),\n",
    "1: contoOrd2[contoOrd2.YrSold == 2010].SalePrice.mean(),\n",
    "}\n",
    "\n",
    "# [(5, 171486.76023391812), 2010\n",
    "#  (4, 172757.84498480242), 2009\n",
    "#  (1, 174541.03278688525), 2006\n",
    "#  (3, 175035.1812080537), 2008\n",
    "#  (2, 178525.57053291536)] 2007\n",
    "\n",
    "\n",
    "\n",
    "dictNhood = {\n",
    "7: contoOrd2[contoOrd2.Neighborhood == 'Blmngtn'].SalePrice.mean(), #1\n",
    "3: contoOrd2[contoOrd2.Neighborhood == 'Blueste'].SalePrice.mean(), #3\n",
    "1: contoOrd2[contoOrd2.Neighborhood == 'BrDale'].SalePrice.mean(), #4 \n",
    "2: contoOrd2[contoOrd2.Neighborhood == 'BrkSide'].SalePrice.mean(), #5\n",
    "8: contoOrd2[contoOrd2.Neighborhood == 'ClearCr'].SalePrice.mean(), #6\n",
    "8: contoOrd2[contoOrd2.Neighborhood == 'CollgCr'].SalePrice.mean(), #7\n",
    "9: contoOrd2[contoOrd2.Neighborhood == 'Crawfor'].SalePrice.mean(), #8\n",
    "2: contoOrd2[contoOrd2.Neighborhood == 'Edwards'].SalePrice.mean(), #9 \n",
    "7: contoOrd2[contoOrd2.Neighborhood == 'Gilbert'].SalePrice.mean(), #10\n",
    "1: contoOrd2[contoOrd2.Neighborhood == 'IDOTRR'].SalePrice.mean(), #11\n",
    "1: contoOrd2[contoOrd2.Neighborhood == 'MeadowV'].SalePrice.mean(), #12\n",
    "5: contoOrd2[contoOrd2.Neighborhood == 'Mitchel'].SalePrice.mean(), #13\n",
    "4: contoOrd2[contoOrd2.Neighborhood == 'NAmes'].SalePrice.mean(), #14\n",
    "4: contoOrd2[contoOrd2.Neighborhood == 'NPkVill'].SalePrice.mean(), #15\n",
    "6: contoOrd2[contoOrd2.Neighborhood == 'NWAmes'].SalePrice.mean(), #16\n",
    "12: contoOrd2[contoOrd2.Neighborhood == 'NoRidge'].SalePrice.mean(), #17\n",
    "12: contoOrd2[contoOrd2.Neighborhood == 'NridgHt'].SalePrice.mean(), #18\n",
    "2: contoOrd2[contoOrd2.Neighborhood == 'OldTown'].SalePrice.mean(), #19\n",
    "4: contoOrd2[contoOrd2.Neighborhood == 'SWISU'].SalePrice.mean(), #20\n",
    "3: contoOrd2[contoOrd2.Neighborhood == 'Sawyer'].SalePrice.mean(), #21\n",
    "6: contoOrd2[contoOrd2.Neighborhood == 'SawyerW'].SalePrice.mean(), #22\n",
    "9: contoOrd2[contoOrd2.Neighborhood == 'Somerst'].SalePrice.mean(), #23\n",
    "11: contoOrd2[contoOrd2.Neighborhood == 'StoneBr'].SalePrice.mean(), #24\n",
    "10: contoOrd2[contoOrd2.Neighborhood == 'Timber'].SalePrice.mean(), #25\n",
    "9: contoOrd2[contoOrd2.Neighborhood == 'Veenker'].SalePrice.mean() #26\n",
    "}\n",
    "# nhood = trainnhood.groupby('Neighborhood').mean().SalePrice\n",
    "# nhood = pd.DataFrame(nhood).reset_index()\n",
    "# nhood\n",
    "\n",
    "# [(12, 98576.4705882353), 1\n",
    "#  (11, 100123.78378378379),\n",
    "#  (4, 104493.75),\n",
    "\n",
    "#  (5, 124834.05172413793), 2\n",
    "#  (19, 125129.09821428571),\n",
    "#  (9, 126785.77319587629),\n",
    "\n",
    "#  (21, 136793.13513513515), 3\n",
    "#  (3, 137500.0),\n",
    "\n",
    "#  (20, 142591.36), 4 \n",
    "#  (15, 142694.44444444444),\n",
    "#  (14, 145847.08),\n",
    "\n",
    "#  (13, 156270.1224489796), 5\n",
    "\n",
    "#  (22, 186555.7966101695), 6\n",
    "#  (16, 187814.65277777778),\n",
    "\n",
    "#  (10, 192854.50632911394), 7\n",
    "#  (1, 194870.88235294117),\n",
    "\n",
    "#  (7, 196442.92617449665), 8\n",
    "#  (6, 198037.81818181818),\n",
    "\n",
    "#  (8, 210624.72549019608), 9\n",
    "#  (23, 223054.89411764705),\n",
    "#  (26, 224150.0),\n",
    "\n",
    "#  (25, 241184.37142857144), 10\n",
    "\n",
    "#  (24, 272727.4761904762), 11\n",
    "\n",
    "#  (18, 290326.6119402985), 12\n",
    "#  (17, 291576.70588235295)]\n",
    "\n",
    "# dict1 = {}\n",
    "# for i in nhood.Neighborhood:\n",
    "#     if nhood[nhood.Neighborhood == i].SalePrice.values[0] >= 300000:\n",
    "#         #print(nhood[nhood.Neighborhood == i].SalePrice.values[0])\n",
    "#         dict1[i] = 6\n",
    "#         print(dict1)\n",
    "#     elif nhood[nhood.Neighborhood == i].SalePrice.values[0] < 300000 and nhood[nhood.Neighborhood == i].SalePrice.values[0] > 200000:\n",
    "#         dict1[i] = 5 \n",
    "#     elif nhood[nhood.Neighborhood == i].SalePrice.values[0] <= 200000 and nhood[nhood.Neighborhood == i].SalePrice.values[0] > 150000:\n",
    "#         dict1[i] = 4\n",
    "#     elif nhood[nhood.Neighborhood == i].SalePrice.values[0] <= 150000 and nhood[nhood.Neighborhood == i].SalePrice.values[0] > 135000:\n",
    "#         dict1[i] = 3\n",
    "#     elif nhood[nhood.Neighborhood == i].SalePrice.values[0] <= 135000 and nhood[nhood.Neighborhood == i].SalePrice.values[0]  > 120000:\n",
    "#         dict1[i] = 2       \n",
    "#     else:\n",
    "#         dict1[i] = 1\n"
   ]
  },
  {
   "cell_type": "code",
   "execution_count": 2525,
   "metadata": {},
   "outputs": [
    {
     "data": {
      "text/plain": [
       "[(1, 98576.4705882353),\n",
       " (2, 125129.09821428571),\n",
       " (3, 136793.13513513515),\n",
       " (4, 142591.36),\n",
       " (5, 156270.1224489796),\n",
       " (6, 186555.7966101695),\n",
       " (7, 192854.50632911394),\n",
       " (8, 196442.92617449665),\n",
       " (9, 224150.0),\n",
       " (10, 241184.37142857144),\n",
       " (11, 272727.4761904762),\n",
       " (12, 290326.6119402985)]"
      ]
     },
     "execution_count": 2525,
     "metadata": {},
     "output_type": "execute_result"
    }
   ],
   "source": [
    "import operator\n",
    "sorted_x = sorted(dictNhood.items(), key=operator.itemgetter(1))\n",
    "sorted_x"
   ]
  },
  {
   "cell_type": "code",
   "execution_count": 2526,
   "metadata": {},
   "outputs": [],
   "source": [
    "# create dummy list\n",
    "dummyList = ['Alley','MSSubClass', 'MoSold', 'MSZoning', 'RoofStyle', 'Exterior1st', 'Exterior2nd', 'Foundation', 'Fence', 'SaleCondition', 'GarageType', 'LotConfig', 'MiscFeature', 'PoolArea', 'Street', 'CentralAir', 'MasVnrArea', 'LotShape', 'LandContour','LandSlope', 'Condition1', 'BldgType','HouseStyle','SaleType','Functional','PavedDrive']\n",
    "# removed neighborhood"
   ]
  },
  {
   "cell_type": "code",
   "execution_count": 2527,
   "metadata": {},
   "outputs": [
    {
     "data": {
      "text/plain": [
       "Fence            2348\n",
       "GarageType        157\n",
       "MSZoning            4\n",
       "Functional          2\n",
       "SaleType            1\n",
       "Exterior1st         1\n",
       "Exterior2nd         1\n",
       "PavedDrive          0\n",
       "LotConfig           0\n",
       "MSSubClass          0\n",
       "MoSold              0\n",
       "RoofStyle           0\n",
       "Foundation          0\n",
       "SaleCondition       0\n",
       "MiscFeature         0\n",
       "PoolArea            0\n",
       "Street              0\n",
       "CentralAir          0\n",
       "MasVnrArea          0\n",
       "LotShape            0\n",
       "LandContour         0\n",
       "LandSlope           0\n",
       "Condition1          0\n",
       "BldgType            0\n",
       "HouseStyle          0\n",
       "Alley               0\n",
       "dtype: int64"
      ]
     },
     "execution_count": 2527,
     "metadata": {},
     "output_type": "execute_result"
    }
   ],
   "source": [
    "# # get rid of dummy missing values\n",
    "dummies = master[dummyList]\n",
    "\n",
    "\n",
    "dummy_na_list = ['Fence', 'GarageType']\n",
    "\n",
    "def zeroNAs(x):\n",
    "    for i in x:\n",
    "        master[i].fillna(\"No\",inplace=True)\n",
    "\n",
    "\n",
    "zeroNAs(dummy_na_list)\n",
    "dummies.isnull().sum().sort_values(ascending = False)"
   ]
  },
  {
   "cell_type": "markdown",
   "metadata": {},
   "source": [
    "# Imputing Missing Data"
   ]
  },
  {
   "cell_type": "code",
   "execution_count": 2528,
   "metadata": {},
   "outputs": [],
   "source": [
    "# class to impute missing data for dummy variables based on most frequent value \n",
    "# DO WE WANT TO DO KNN FOR THIS?\n",
    "\n",
    "from sklearn.base import TransformerMixin\n",
    "from sklearn.base import BaseEstimator\n",
    "\n",
    "class CustomImputer(BaseEstimator, TransformerMixin):\n",
    "    def __init__(self, strategy='mean',filler='NA'):\n",
    "        self.strategy = strategy\n",
    "        self.fill = filler\n",
    "\n",
    "    def fit(self, X, y=None):\n",
    "        if self.strategy in ['mean','median']:\n",
    "            if not all(X.dtypes == np.number):\n",
    "                raise ValueError('dtypes mismatch np.number dtype is \\\n",
    "                                 required for '+ self.strategy)\n",
    "        if self.strategy == 'mean':\n",
    "            self.fill = X.mean()\n",
    "        elif self.strategy == 'median':\n",
    "            self.fill = X.median()\n",
    "        elif self.strategy == 'mode':\n",
    "            self.fill = X.mode().iloc[0]\n",
    "        elif self.strategy == 'fill':\n",
    "            if type(self.fill) is list and type(X) is pd.DataFrame:\n",
    "                self.fill = dict([(cname, v) for cname,v in zip(X.columns, self.fill)])\n",
    "        return self\n",
    "\n",
    "    def transform(self, X, y=None):\n",
    "        return X.fillna(self.fill)"
   ]
  },
  {
   "cell_type": "code",
   "execution_count": 2529,
   "metadata": {},
   "outputs": [],
   "source": [
    "imputedDummies = CustomImputer(strategy='mode').fit_transform(dummies)"
   ]
  },
  {
   "cell_type": "code",
   "execution_count": 2530,
   "metadata": {},
   "outputs": [
    {
     "data": {
      "text/plain": [
       "PavedDrive       0\n",
       "Functional       0\n",
       "MSSubClass       0\n",
       "MoSold           0\n",
       "MSZoning         0\n",
       "RoofStyle        0\n",
       "Exterior1st      0\n",
       "Exterior2nd      0\n",
       "Foundation       0\n",
       "Fence            0\n",
       "SaleCondition    0\n",
       "GarageType       0\n",
       "LotConfig        0\n",
       "MiscFeature      0\n",
       "PoolArea         0\n",
       "Street           0\n",
       "CentralAir       0\n",
       "MasVnrArea       0\n",
       "LotShape         0\n",
       "LandContour      0\n",
       "LandSlope        0\n",
       "Condition1       0\n",
       "BldgType         0\n",
       "HouseStyle       0\n",
       "SaleType         0\n",
       "Alley            0\n",
       "dtype: int64"
      ]
     },
     "execution_count": 2530,
     "metadata": {},
     "output_type": "execute_result"
    }
   ],
   "source": [
    "imputedDummies.isnull().sum().sort_values(ascending = False)"
   ]
  },
  {
   "cell_type": "code",
   "execution_count": 2531,
   "metadata": {},
   "outputs": [],
   "source": [
    "# function to dummify variables\n",
    "def dummify(x):\n",
    "    dummy = pd.DataFrame([])\n",
    "    for i in x:\n",
    "        dummylist = pd.get_dummies(i, prefix = str(i.name), prefix_sep= '_')\n",
    "        dummylist = dummylist.drop(str(i.name) + '_' + str(i[0]), axis = 1)   \n",
    "        dummy = pd.concat([dummy, dummylist], axis =1)\n",
    "    return dummy"
   ]
  },
  {
   "cell_type": "code",
   "execution_count": 2532,
   "metadata": {},
   "outputs": [],
   "source": [
    "# dummify dummyList\n",
    "\n",
    "dummyList = [imputedDummies['MSSubClass'], imputedDummies['MSZoning'], imputedDummies['RoofStyle'], imputedDummies['Exterior1st'], imputedDummies['Exterior2nd'], imputedDummies['Foundation'], imputedDummies['Fence'], imputedDummies['SaleCondition'], imputedDummies['GarageType'], imputedDummies['LotConfig'], imputedDummies['MiscFeature'], imputedDummies['PoolArea'], imputedDummies['Street'], imputedDummies['CentralAir'], imputedDummies['MasVnrArea'], imputedDummies['LotShape'], imputedDummies['LandContour'],imputedDummies['LandSlope'], imputedDummies['Condition1'], imputedDummies['BldgType'],imputedDummies['HouseStyle'],imputedDummies['SaleType'], imputedDummies['MoSold'], imputedDummies['Functional'],imputedDummies['PavedDrive']]\n",
    "dummyFrame = dummify(dummyList)\n",
    "\n",
    "# removed neighborhood"
   ]
  },
  {
   "cell_type": "code",
   "execution_count": 2533,
   "metadata": {},
   "outputs": [
    {
     "data": {
      "text/plain": [
       "KitchenQual     1\n",
       "GarageCond      0\n",
       "GarageQual      0\n",
       "GarageFinish    0\n",
       "HeatingQC       0\n",
       "BsmtFinType1    0\n",
       "BsmtExposure    0\n",
       "ExterCond       0\n",
       "ExterQual       0\n",
       "OverallCond     0\n",
       "OverallQual     0\n",
       "Neighborhood    0\n",
       "MoSold          0\n",
       "YrSold          0\n",
       "dtype: int64"
      ]
     },
     "execution_count": 2533,
     "metadata": {},
     "output_type": "execute_result"
    }
   ],
   "source": [
    "# ordinal missing data\n",
    "ordVars.isnull().sum().sort_values(ascending = False)"
   ]
  },
  {
   "cell_type": "code",
   "execution_count": 2534,
   "metadata": {},
   "outputs": [],
   "source": [
    "imputedOrdVars = CustomImputer(strategy='mode').fit_transform(ordVars)"
   ]
  },
  {
   "cell_type": "code",
   "execution_count": 2535,
   "metadata": {},
   "outputs": [
    {
     "data": {
      "text/plain": [
       "LotFrontage     486\n",
       "bathsH            2\n",
       "bathsF            2\n",
       "totSF             1\n",
       "GarageArea        1\n",
       "SaleVremo         0\n",
       "porchSF           0\n",
       "OpenPorchSF       0\n",
       "WoodDeckSF        0\n",
       "TotRmsAbvGrd      0\n",
       "KitchenAbvGr      0\n",
       "BedroomAbvGr      0\n",
       "Fireplaces        0\n",
       "LowQualFinSF      0\n",
       "YearBuilt         0\n",
       "LotArea           0\n",
       "dtype: int64"
      ]
     },
     "execution_count": 2535,
     "metadata": {},
     "output_type": "execute_result"
    }
   ],
   "source": [
    "# continuous missing data\n",
    "contDiscVars.isnull().sum().sort_values(ascending = False)"
   ]
  },
  {
   "cell_type": "code",
   "execution_count": 2536,
   "metadata": {},
   "outputs": [
    {
     "name": "stderr",
     "output_type": "stream",
     "text": [
      "/Users/bennettgelly/anaconda3/lib/python3.6/site-packages/pandas/core/generic.py:4355: SettingWithCopyWarning: \n",
      "A value is trying to be set on a copy of a slice from a DataFrame\n",
      "\n",
      "See the caveats in the documentation: http://pandas.pydata.org/pandas-docs/stable/indexing.html#indexing-view-versus-copy\n",
      "  self._update_inplace(new_data)\n"
     ]
    }
   ],
   "source": [
    "cont_na_list = ['LotFrontage']\n",
    "\n",
    "def zeroNAs2(x):\n",
    "    for i in x:\n",
    "        contDiscVars[i].fillna(0,inplace=True)\n",
    "\n",
    "\n",
    "zeroNAs2(cont_na_list)"
   ]
  },
  {
   "cell_type": "code",
   "execution_count": 2537,
   "metadata": {},
   "outputs": [
    {
     "data": {
      "text/plain": [
       "bathsH          2\n",
       "bathsF          2\n",
       "totSF           1\n",
       "GarageArea      1\n",
       "SaleVremo       0\n",
       "porchSF         0\n",
       "OpenPorchSF     0\n",
       "WoodDeckSF      0\n",
       "TotRmsAbvGrd    0\n",
       "KitchenAbvGr    0\n",
       "BedroomAbvGr    0\n",
       "Fireplaces      0\n",
       "LowQualFinSF    0\n",
       "YearBuilt       0\n",
       "LotArea         0\n",
       "LotFrontage     0\n",
       "dtype: int64"
      ]
     },
     "execution_count": 2537,
     "metadata": {},
     "output_type": "execute_result"
    }
   ],
   "source": [
    "contDiscVars.isnull().sum().sort_values(ascending = False)"
   ]
  },
  {
   "cell_type": "code",
   "execution_count": 2538,
   "metadata": {},
   "outputs": [
    {
     "data": {
      "text/plain": [
       "SaleVremo       0\n",
       "porchSF         0\n",
       "bathsH          0\n",
       "bathsF          0\n",
       "totSF           0\n",
       "OpenPorchSF     0\n",
       "WoodDeckSF      0\n",
       "GarageArea      0\n",
       "TotRmsAbvGrd    0\n",
       "KitchenAbvGr    0\n",
       "BedroomAbvGr    0\n",
       "Fireplaces      0\n",
       "LowQualFinSF    0\n",
       "YearBuilt       0\n",
       "LotArea         0\n",
       "LotFrontage     0\n",
       "dtype: int64"
      ]
     },
     "execution_count": 2538,
     "metadata": {},
     "output_type": "execute_result"
    }
   ],
   "source": [
    "imputedContDiscVars = CustomImputer(strategy='mode').fit_transform(contDiscVars)\n",
    "imputedContDiscVars.isnull().sum().sort_values(ascending = False)"
   ]
  },
  {
   "cell_type": "code",
   "execution_count": 2539,
   "metadata": {},
   "outputs": [
    {
     "data": {
      "text/plain": [
       "2919"
      ]
     },
     "execution_count": 2539,
     "metadata": {},
     "output_type": "execute_result"
    }
   ],
   "source": [
    "len(imputedContDiscVars)"
   ]
  },
  {
   "cell_type": "markdown",
   "metadata": {},
   "source": [
    "# Outliers"
   ]
  },
  {
   "cell_type": "code",
   "execution_count": 2540,
   "metadata": {
    "scrolled": true
   },
   "outputs": [
    {
     "name": "stderr",
     "output_type": "stream",
     "text": [
      "/Users/bennettgelly/anaconda3/lib/python3.6/site-packages/ipykernel_launcher.py:10: SettingWithCopyWarning: \n",
      "A value is trying to be set on a copy of a slice from a DataFrame\n",
      "\n",
      "See the caveats in the documentation: http://pandas.pydata.org/pandas-docs/stable/indexing.html#indexing-view-versus-copy\n",
      "  # Remove the CWD from sys.path while we load stuff.\n",
      "/Users/bennettgelly/anaconda3/lib/python3.6/site-packages/ipykernel_launcher.py:11: SettingWithCopyWarning: \n",
      "A value is trying to be set on a copy of a slice from a DataFrame\n",
      "\n",
      "See the caveats in the documentation: http://pandas.pydata.org/pandas-docs/stable/indexing.html#indexing-view-versus-copy\n",
      "  # This is added back by InteractiveShellApp.init_path()\n",
      "/Users/bennettgelly/anaconda3/lib/python3.6/site-packages/ipykernel_launcher.py:16: SettingWithCopyWarning: \n",
      "A value is trying to be set on a copy of a slice from a DataFrame\n",
      "\n",
      "See the caveats in the documentation: http://pandas.pydata.org/pandas-docs/stable/indexing.html#indexing-view-versus-copy\n",
      "  app.launch_new_instance()\n",
      "/Users/bennettgelly/anaconda3/lib/python3.6/site-packages/ipykernel_launcher.py:17: SettingWithCopyWarning: \n",
      "A value is trying to be set on a copy of a slice from a DataFrame\n",
      "\n",
      "See the caveats in the documentation: http://pandas.pydata.org/pandas-docs/stable/indexing.html#indexing-view-versus-copy\n"
     ]
    }
   ],
   "source": [
    "# see outliers in training set of continuous variables\n",
    "Cont = pd.concat([imputedContDiscVars, master.SalePrice], axis = 1)\n",
    "trainCont = Cont[Cont.SalePrice.notnull()]\n",
    "testCont = Cont[Cont.SalePrice.isnull()]\n",
    "\n",
    "# training set for ordinals and dummys\n",
    "Ord = pd.concat([imputedOrdVars, master.SalePrice], axis = 1)\n",
    "trainOrd = Ord[Ord.SalePrice.notnull()]\n",
    "testOrd = Ord[Ord.SalePrice.isnull()]\n",
    "trainOrd.drop(['SalePrice'], axis =1, inplace = True)\n",
    "testOrd.drop(['SalePrice'], axis =1, inplace = True)\n",
    "\n",
    "Dum = pd.concat([dummyFrame, master.SalePrice], axis = 1)\n",
    "trainDum = Dum[Dum.SalePrice.notnull()]\n",
    "testDum = Dum[Dum.SalePrice.isnull()]\n",
    "trainDum.drop(['SalePrice'], axis =1, inplace = True)\n",
    "testDum.drop(['SalePrice'], axis =1, inplace = True)\n"
   ]
  },
  {
   "cell_type": "code",
   "execution_count": 2541,
   "metadata": {},
   "outputs": [
    {
     "data": {
      "text/plain": [
       "2919"
      ]
     },
     "execution_count": 2541,
     "metadata": {},
     "output_type": "execute_result"
    }
   ],
   "source": [
    "len(master)"
   ]
  },
  {
   "cell_type": "code",
   "execution_count": 2542,
   "metadata": {},
   "outputs": [],
   "source": [
    "# function to find outliers > 4x SD\n",
    "def cutOutlier(x):\n",
    "    cutOutliers = pd.DataFrame([])\n",
    "    for i in x:\n",
    "        emptyList = []\n",
    "        m = np.mean(x[i])\n",
    "        sd = np.std(x[i])\n",
    "        for j in x[i]:\n",
    "            if np.abs(j)< m + 3*np.abs(sd):\n",
    "                emptyList.append(j)\n",
    "            else:\n",
    "                emptyList.append(\"Dropped\")\n",
    "        cutOutliers[i] = pd.Series(emptyList)\n",
    "    \n",
    "    return cutOutliers\n",
    "    "
   ]
  },
  {
   "cell_type": "code",
   "execution_count": 2543,
   "metadata": {},
   "outputs": [],
   "source": [
    "noOutliersCont = cutOutlier(trainCont)"
   ]
  },
  {
   "cell_type": "code",
   "execution_count": 2544,
   "metadata": {},
   "outputs": [],
   "source": [
    "# take LotArea, totSF, bathsF, SalePrice\n",
    "noOutliers = noOutliersCont[['SalePrice', 'LotArea', 'totSF', 'bathsF']]"
   ]
  },
  {
   "cell_type": "code",
   "execution_count": 2545,
   "metadata": {},
   "outputs": [
    {
     "data": {
      "text/plain": [
       "11"
      ]
     },
     "execution_count": 2545,
     "metadata": {},
     "output_type": "execute_result"
    }
   ],
   "source": [
    "sum(noOutliers.totSF == \"Dropped\")"
   ]
  },
  {
   "cell_type": "code",
   "execution_count": 2546,
   "metadata": {},
   "outputs": [],
   "source": [
    "# drop cols from original trainCont df\n",
    "trainCont = trainCont.drop(['SalePrice', 'LotArea', 'totSF', 'bathsF'], axis =1)"
   ]
  },
  {
   "cell_type": "code",
   "execution_count": 2547,
   "metadata": {},
   "outputs": [],
   "source": [
    "# join cont cols with dropped NAs to other train columns\n",
    "merge = pd.concat([trainCont, noOutliers, trainDum, trainOrd], axis =1)"
   ]
  },
  {
   "cell_type": "code",
   "execution_count": 2548,
   "metadata": {},
   "outputs": [],
   "source": [
    "# list of rows to drop\n",
    "drop = list(merge[merge.SalePrice == \"Dropped\"].index) + list(merge[merge.LotArea == \"Dropped\"].index) + list(merge[merge.totSF == \"Dropped\"].index) + list(merge[merge.bathsF == \"Dropped\"].index)"
   ]
  },
  {
   "cell_type": "code",
   "execution_count": 2549,
   "metadata": {},
   "outputs": [],
   "source": [
    "# drop index with NAs\n",
    "merge.drop(drop, inplace = True)\n"
   ]
  },
  {
   "cell_type": "markdown",
   "metadata": {},
   "source": [
    "# Transformations"
   ]
  },
  {
   "cell_type": "code",
   "execution_count": 2552,
   "metadata": {},
   "outputs": [],
   "source": [
    "# test data\n",
    "mergeTest = pd.concat([testCont, testDum, testOrd], axis =1)"
   ]
  },
  {
   "cell_type": "code",
   "execution_count": 2553,
   "metadata": {},
   "outputs": [
    {
     "data": {
      "text/plain": [
       "146"
      ]
     },
     "execution_count": 2553,
     "metadata": {},
     "output_type": "execute_result"
    }
   ],
   "source": [
    "len(mergeTest.columns)"
   ]
  },
  {
   "cell_type": "code",
   "execution_count": 2554,
   "metadata": {},
   "outputs": [
    {
     "data": {
      "text/plain": [
       "146"
      ]
     },
     "execution_count": 2554,
     "metadata": {},
     "output_type": "execute_result"
    }
   ],
   "source": [
    "len(merge.columns)"
   ]
  },
  {
   "cell_type": "code",
   "execution_count": 2555,
   "metadata": {},
   "outputs": [],
   "source": [
    "# recombine test and train as merged\n",
    "merged = merge.append(mergeTest)\n",
    "\n",
    "#Renaming MiscFeatures as \"Shed\"\n",
    "merged.rename(columns={'MiscFeature':'Shed'}, inplace=True)\n",
    "\n",
    "#Renaming PoolArea as \"Pool\" \n",
    "merged.rename(columns={\"PoolArea\":\"Pool\"}, inplace=True)"
   ]
  },
  {
   "cell_type": "code",
   "execution_count": 2556,
   "metadata": {},
   "outputs": [],
   "source": [
    "#apply transformations\n",
    "merged.LotArea = [i**(1/2) for i in merged.LotArea]\n",
    "merged.OpenPorchSF = [i**(1/2) for i in merged.OpenPorchSF]\n",
    "merged.totSF = [i**(2) for i in merged.totSF]\n",
    "merged.OverallQual = [i**(2) for i in merged.OverallQual]"
   ]
  },
  {
   "cell_type": "code",
   "execution_count": 2494,
   "metadata": {},
   "outputs": [],
   "source": [
    "# merged.porchSF = [np.log(i+1)for i in merged.porchSF]\n",
    "# merged.WoodDeckSF = [np.log(i+1)for i in merged.WoodDeckSF]\n",
    "# merged.LotArea = [math.sqrt(i)for i in merged.LotArea]\n",
    "# merged.OverallQual = [math.sqrt(i) for i in merged.OverallQual]\n",
    "# merged.TotRmsAbvGrd = [np.log(i) for i in merged.TotRmsAbvGrd]\n",
    "# merged.totSF = [np.log(i) for i in merged.totSF]"
   ]
  },
  {
   "cell_type": "code",
   "execution_count": 2557,
   "metadata": {},
   "outputs": [
    {
     "data": {
      "text/plain": [
       "<matplotlib.collections.PathCollection at 0x12aefc978>"
      ]
     },
     "execution_count": 2557,
     "metadata": {},
     "output_type": "execute_result"
    },
    {
     "data": {
      "image/png": "[encoded data removed]",
      "text/plain": [
       "<Figure size 432x288 with 1 Axes>"
      ]
     },
     "metadata": {},
     "output_type": "display_data"
    }
   ],
   "source": [
    "test = [i**(1) for i in merged.totSF]\n",
    "plt.scatter(merged.SalePrice, test)"
   ]
  },
  {
   "cell_type": "code",
   "execution_count": 2496,
   "metadata": {},
   "outputs": [],
   "source": [
    "# separate train and test"
   ]
  },
  {
   "cell_type": "code",
   "execution_count": 2576,
   "metadata": {},
   "outputs": [
    {
     "name": "stderr",
     "output_type": "stream",
     "text": [
      "/Users/bennettgelly/anaconda3/lib/python3.6/site-packages/ipykernel_launcher.py:3: SettingWithCopyWarning: \n",
      "A value is trying to be set on a copy of a slice from a DataFrame\n",
      "\n",
      "See the caveats in the documentation: http://pandas.pydata.org/pandas-docs/stable/indexing.html#indexing-view-versus-copy\n",
      "  This is separate from the ipykernel package so we can avoid doing imports until\n"
     ]
    }
   ],
   "source": [
    "train = merged[merged.SalePrice.notnull()]\n",
    "test = merged[merged.SalePrice.isnull()]\n",
    "test.drop(['SalePrice'], axis =1, inplace = True)"
   ]
  },
  {
   "cell_type": "code",
   "execution_count": 2577,
   "metadata": {},
   "outputs": [
    {
     "name": "stderr",
     "output_type": "stream",
     "text": [
      "/Users/bennettgelly/anaconda3/lib/python3.6/site-packages/ipykernel_launcher.py:16: SettingWithCopyWarning: \n",
      "A value is trying to be set on a copy of a slice from a DataFrame.\n",
      "Try using .loc[row_indexer,col_indexer] = value instead\n",
      "\n",
      "See the caveats in the documentation: http://pandas.pydata.org/pandas-docs/stable/indexing.html#indexing-view-versus-copy\n",
      "  app.launch_new_instance()\n",
      "/Users/bennettgelly/anaconda3/lib/python3.6/site-packages/ipykernel_launcher.py:17: SettingWithCopyWarning: \n",
      "A value is trying to be set on a copy of a slice from a DataFrame.\n",
      "Try using .loc[row_indexer,col_indexer] = value instead\n",
      "\n",
      "See the caveats in the documentation: http://pandas.pydata.org/pandas-docs/stable/indexing.html#indexing-view-versus-copy\n"
     ]
    },
    {
     "data": {
      "text/plain": [
       "Index(['BedroomAbvGr', 'BldgType_2fam', 'BldgType_Twnhs', 'BsmtExposure',\n",
       "       'BsmtFinType1', 'CentralAir_0', 'Condition1_Pos', 'Condition1_RR',\n",
       "       'Condition1_St', 'ExterCond',\n",
       "       ...\n",
       "       'SaleVremo', 'Street_0', 'TotRmsAbvGrd', 'WoodDeckSF', 'YearBuilt',\n",
       "       'YrSold', 'bathsF', 'bathsH', 'porchSF', 'totSF'],\n",
       "      dtype='object', length=146)"
      ]
     },
     "execution_count": 2577,
     "metadata": {},
     "output_type": "execute_result"
    }
   ],
   "source": [
    "months= {\n",
    "   1: 1,\n",
    "   4: 1,\n",
    "   5: 2,\n",
    "   6: 2,\n",
    "   3: 2,\n",
    "   7: 3,\n",
    "   10: 3,\n",
    "   2: 3,\n",
    "   8: 4,\n",
    "   12: 4,\n",
    "   11: 4,\n",
    "   9: 5}\n",
    "\n",
    "       \n",
    "train['MoSold']= train['MoSold'].replace(months)\n",
    "test['MoSold']= test['MoSold'].replace(months)\n",
    "train.columns\n"
   ]
  },
  {
   "cell_type": "code",
   "execution_count": 2578,
   "metadata": {},
   "outputs": [
    {
     "name": "stderr",
     "output_type": "stream",
     "text": [
      "/Users/bennettgelly/anaconda3/lib/python3.6/site-packages/ipykernel_launcher.py:29: SettingWithCopyWarning: \n",
      "A value is trying to be set on a copy of a slice from a DataFrame.\n",
      "Try using .loc[row_indexer,col_indexer] = value instead\n",
      "\n",
      "See the caveats in the documentation: http://pandas.pydata.org/pandas-docs/stable/indexing.html#indexing-view-versus-copy\n",
      "/Users/bennettgelly/anaconda3/lib/python3.6/site-packages/ipykernel_launcher.py:30: SettingWithCopyWarning: \n",
      "A value is trying to be set on a copy of a slice from a DataFrame.\n",
      "Try using .loc[row_indexer,col_indexer] = value instead\n",
      "\n",
      "See the caveats in the documentation: http://pandas.pydata.org/pandas-docs/stable/indexing.html#indexing-view-versus-copy\n"
     ]
    }
   ],
   "source": [
    "dictNhood2 = {\n",
    "'Blmngtn': 7,\n",
    "'Blueste': 3,\n",
    "'BrDale': 1, \n",
    "'BrkSide': 2,\n",
    "'ClearCr': 8,\n",
    "'CollgCr': 8,\n",
    "'Crawfor': 9,\n",
    "'Edwards': 2,\n",
    "'Gilbert': 7,\n",
    "'IDOTRR': 1,\n",
    "'MeadowV': 1,\n",
    "'Mitchel': 5,\n",
    "'NAmes': 4,\n",
    "'NPkVill': 4,\n",
    "'NWAmes': 6,\n",
    "'NoRidge': 12,\n",
    "'NridgHt': 12,\n",
    "'OldTown': 2,\n",
    "'SWISU': 4,\n",
    "'Sawyer': 3,\n",
    "'SawyerW': 6,\n",
    "'Somerst': 9,\n",
    "'StoneBr': 11,\n",
    "'Timber': 10,\n",
    "'Veenker': 9\n",
    "}\n",
    "\n",
    "train['Neighborhood']= train['Neighborhood'].replace(dictNhood2)\n",
    "test['Neighborhood']= test['Neighborhood'].replace(dictNhood2)"
   ]
  },
  {
   "cell_type": "code",
   "execution_count": 2579,
   "metadata": {},
   "outputs": [
    {
     "name": "stderr",
     "output_type": "stream",
     "text": [
      "/Users/bennettgelly/anaconda3/lib/python3.6/site-packages/ipykernel_launcher.py:9: SettingWithCopyWarning: \n",
      "A value is trying to be set on a copy of a slice from a DataFrame.\n",
      "Try using .loc[row_indexer,col_indexer] = value instead\n",
      "\n",
      "See the caveats in the documentation: http://pandas.pydata.org/pandas-docs/stable/indexing.html#indexing-view-versus-copy\n",
      "  if __name__ == '__main__':\n",
      "/Users/bennettgelly/anaconda3/lib/python3.6/site-packages/ipykernel_launcher.py:10: SettingWithCopyWarning: \n",
      "A value is trying to be set on a copy of a slice from a DataFrame.\n",
      "Try using .loc[row_indexer,col_indexer] = value instead\n",
      "\n",
      "See the caveats in the documentation: http://pandas.pydata.org/pandas-docs/stable/indexing.html#indexing-view-versus-copy\n",
      "  # Remove the CWD from sys.path while we load stuff.\n"
     ]
    }
   ],
   "source": [
    "dictYr = {\n",
    "    2006: 3,\n",
    "    2007: 5,\n",
    "    2008: 4,\n",
    "    2009: 2,\n",
    "    2010: 1\n",
    "}\n",
    "\n",
    "train['YrSold']= train['YrSold'].replace(dictYr)\n",
    "test['YrSold']= test['YrSold'].replace(dictYr)"
   ]
  },
  {
   "cell_type": "markdown",
   "metadata": {},
   "source": [
    "# Ridge"
   ]
  },
  {
   "cell_type": "code",
   "execution_count": 2564,
   "metadata": {},
   "outputs": [],
   "source": [
    "#train = train.set_index('SalePrice').reset_index()\n"
   ]
  },
  {
   "cell_type": "code",
   "execution_count": 2580,
   "metadata": {},
   "outputs": [],
   "source": [
    "import sklearn\n",
    "from sklearn.linear_model import LinearRegression, LogisticRegression\n",
    "\n",
    "X = train.iloc[:, 1:].values\n",
    "y = train.iloc[:, 0]\n",
    "\n",
    "import random\n",
    "from sklearn.cross_validation import train_test_split\n",
    "random.seed(0)\n",
    "X_train, X_test, y_train, y_test = train_test_split(X, y, test_size = 0.2, random_state = 0)\n",
    "\n",
    "# Fitting Multiple Linear Regression to the Training set\n",
    "from sklearn.linear_model import LinearRegression\n",
    "regressor = LinearRegression()\n",
    "regressor.fit(X_train, y_train)\n",
    "\n",
    "# Predicting the Test set results\n",
    "y_pred = regressor.predict(X_test)"
   ]
  },
  {
   "cell_type": "code",
   "execution_count": 2581,
   "metadata": {},
   "outputs": [],
   "source": [
    "X1_train = pd.DataFrame(X_train)\n",
    "X1_train.columns = [list(train.columns)[:-1]]\n",
    "\n",
    "y1_train = pd.Series(y_train)\n",
    "\n",
    "X1_test = pd.DataFrame(X_test)\n",
    "X1_test.columns = [list(train.columns)[:-1]]"
   ]
  },
  {
   "cell_type": "code",
   "execution_count": 2417,
   "metadata": {},
   "outputs": [],
   "source": [
    "predictors=[i for [i] in list(X1_train.columns)]"
   ]
  },
  {
   "cell_type": "code",
   "execution_count": 2211,
   "metadata": {
    "scrolled": false
   },
   "outputs": [],
   "source": [
    "from sklearn import linear_model\n",
    "alpha_ridge1 = 10**np.linspace(5, -2, 100)\n",
    "ridge1= linear_model.RidgeCV(alphas=alpha_ridge1, cv=20).fit(X1_train,np.ravel(y1_train))\n",
    "\n",
    "ridgeCoef1 = pd.DataFrame(data=ridge1.coef_, index = predictors).reset_index()"
   ]
  },
  {
   "cell_type": "code",
   "execution_count": 2212,
   "metadata": {},
   "outputs": [],
   "source": [
    "y_pred = ridge1.predict(X1_test)"
   ]
  },
  {
   "cell_type": "code",
   "execution_count": 2213,
   "metadata": {},
   "outputs": [
    {
     "data": {
      "text/plain": [
       "0.9229262044912837"
      ]
     },
     "execution_count": 2213,
     "metadata": {},
     "output_type": "execute_result"
    }
   ],
   "source": [
    "ridge1.score(X_train, y_train)"
   ]
  },
  {
   "cell_type": "code",
   "execution_count": 2214,
   "metadata": {},
   "outputs": [
    {
     "data": {
      "text/plain": [
       "5.72236765935022"
      ]
     },
     "execution_count": 2214,
     "metadata": {},
     "output_type": "execute_result"
    }
   ],
   "source": [
    "ridge1.alpha_"
   ]
  },
  {
   "cell_type": "code",
   "execution_count": 2215,
   "metadata": {},
   "outputs": [],
   "source": [
    "import numpy as np\n",
    "\n",
    "def rmsle(h, y): \n",
    "    \"\"\"\n",
    "    Compute the Root Mean Squared Log Error for hypthesis h and targets y\n",
    "    \n",
    "    Args:\n",
    "        h - numpy array containing predictions with shape (n_samples, n_targets)\n",
    "        y - numpy array containing targets with shape (n_samples, n_targets)\n",
    "    \"\"\"\n",
    "    return np.sqrt(np.square(np.log(h + 1) - np.log(y + 1)).mean())"
   ]
  },
  {
   "cell_type": "code",
   "execution_count": 2216,
   "metadata": {},
   "outputs": [
    {
     "data": {
      "text/plain": [
       "0.11482812601621947"
      ]
     },
     "execution_count": 2216,
     "metadata": {},
     "output_type": "execute_result"
    }
   ],
   "source": [
    "hyp = y_pred\n",
    "targ = y_test\n",
    "rmsle(hyp, targ)\n",
    "\n",
    "0.11482812601621947"
   ]
  },
  {
   "cell_type": "code",
   "execution_count": 2217,
   "metadata": {},
   "outputs": [
    {
     "data": {
      "text/plain": [
       "1459"
      ]
     },
     "execution_count": 2217,
     "metadata": {},
     "output_type": "execute_result"
    }
   ],
   "source": [
    "#0.11987515240801667\n",
    "len(train)\n",
    "len(test)"
   ]
  },
  {
   "cell_type": "code",
   "execution_count": 2218,
   "metadata": {},
   "outputs": [],
   "source": [
    "train.to_csv('bg_train.csv', index = False)\n",
    "test.to_csv('bg_test.csv', index = False)"
   ]
  },
  {
   "cell_type": "markdown",
   "metadata": {},
   "source": [
    "# Lasso"
   ]
  },
  {
   "cell_type": "code",
   "execution_count": 2418,
   "metadata": {},
   "outputs": [],
   "source": [
    "alpha_lasso1 = alpha_ridge1\n",
    "lasso = linear_model.LassoCV(n_alphas=100, alphas=alphas_lasso, cv=20, random_state=0, max_iter=500000).fit(X1_train,np.ravel(y1_train))\n",
    "lasCoef2 = pd.DataFrame(data=lasso.coef_, index = predictors).reset_index()\n"
   ]
  },
  {
   "cell_type": "code",
   "execution_count": 2419,
   "metadata": {},
   "outputs": [],
   "source": [
    "y_predL = lasso.predict(X1_test)"
   ]
  },
  {
   "cell_type": "code",
   "execution_count": 2420,
   "metadata": {},
   "outputs": [
    {
     "data": {
      "text/plain": [
       "0.01"
      ]
     },
     "execution_count": 2420,
     "metadata": {},
     "output_type": "execute_result"
    }
   ],
   "source": [
    "lasso.score(X_train, y_train)\n",
    "lasso.alpha_"
   ]
  },
  {
   "cell_type": "code",
   "execution_count": 2421,
   "metadata": {},
   "outputs": [
    {
     "data": {
      "text/plain": [
       "0.009634993349483631"
      ]
     },
     "execution_count": 2421,
     "metadata": {},
     "output_type": "execute_result"
    }
   ],
   "source": [
    "hyp = y_predL\n",
    "targ = y_test\n",
    "rmsle(hyp, targ)\n",
    "\n",
    "#0.11413008789138834"
   ]
  },
  {
   "cell_type": "markdown",
   "metadata": {},
   "source": [
    "# Elastic Net"
   ]
  },
  {
   "cell_type": "code",
   "execution_count": 2223,
   "metadata": {},
   "outputs": [],
   "source": [
    "l1_ratio = [.1, .5, .7, .9, .95, .99, 1]\n",
    "\n",
    "elasticNet = linear_model.ElasticNetCV(l1_ratio=l1_ratio, n_alphas=100, alphas=alpha_lasso1, fit_intercept=True, normalize=True, precompute='auto', max_iter=500000, tol=0.0001, cv=20, copy_X=True, verbose=0, n_jobs=1, positive=False, random_state=0, selection = 'cyclic').fit(X1_train,np.ravel(y1_train))\n",
    "\n"
   ]
  },
  {
   "cell_type": "code",
   "execution_count": 2063,
   "metadata": {},
   "outputs": [],
   "source": [
    "y_predE = elasticNet.predict(X1_test)"
   ]
  },
  {
   "cell_type": "code",
   "execution_count": 2064,
   "metadata": {},
   "outputs": [
    {
     "data": {
      "text/plain": [
       "0.12223940299624829"
      ]
     },
     "execution_count": 2064,
     "metadata": {},
     "output_type": "execute_result"
    }
   ],
   "source": [
    "hyp = y_predE\n",
    "targ = y_test\n",
    "rmsle(hyp, targ)"
   ]
  },
  {
   "cell_type": "code",
   "execution_count": 2065,
   "metadata": {},
   "outputs": [
    {
     "data": {
      "text/plain": [
       "1.0"
      ]
     },
     "execution_count": 2065,
     "metadata": {},
     "output_type": "execute_result"
    }
   ],
   "source": [
    "elasticNet.l1_ratio_"
   ]
  },
  {
   "cell_type": "code",
   "execution_count": null,
   "metadata": {},
   "outputs": [],
   "source": [
    "# Xgboost"
   ]
  },
  {
   "cell_type": "code",
   "execution_count": 2584,
   "metadata": {},
   "outputs": [
    {
     "ename": "TypeError",
     "evalue": "sequence item 0: expected str instance, tuple found",
     "output_type": "error",
     "traceback": [
      "\u001b[0;31m---------------------------------------------------------------------------\u001b[0m",
      "\u001b[0;31mTypeError\u001b[0m                                 Traceback (most recent call last)",
      "\u001b[0;32m<ipython-input-2584-f3c0095ce8ce>\u001b[0m in \u001b[0;36m<module>\u001b[0;34m()\u001b[0m\n\u001b[1;32m      6\u001b[0m \u001b[0;32mimport\u001b[0m \u001b[0mxgboost\u001b[0m \u001b[0;32mas\u001b[0m \u001b[0mxgb\u001b[0m\u001b[0;34m\u001b[0m\u001b[0m\n\u001b[1;32m      7\u001b[0m \u001b[0mmodel\u001b[0m \u001b[0;34m=\u001b[0m \u001b[0mxgb\u001b[0m\u001b[0;34m.\u001b[0m\u001b[0mXGBRegressor\u001b[0m\u001b[0;34m(\u001b[0m\u001b[0;34m)\u001b[0m\u001b[0;34m\u001b[0m\u001b[0m\n\u001b[0;32m----> 8\u001b[0;31m \u001b[0mmodel\u001b[0m\u001b[0;34m.\u001b[0m\u001b[0mfit\u001b[0m\u001b[0;34m(\u001b[0m\u001b[0mxgb_train\u001b[0m\u001b[0;34m,\u001b[0m \u001b[0mxgb_train_y\u001b[0m\u001b[0;34m)\u001b[0m\u001b[0;34m\u001b[0m\u001b[0m\n\u001b[0m\u001b[1;32m      9\u001b[0m \u001b[0;34m\u001b[0m\u001b[0m\n\u001b[1;32m     10\u001b[0m \u001b[0;31m# Allow the feature importances attribute to select the most important features\u001b[0m\u001b[0;34m\u001b[0m\u001b[0;34m\u001b[0m\u001b[0m\n",
      "\u001b[0;32m~/anaconda3/lib/python3.6/site-packages/xgboost/sklearn.py\u001b[0m in \u001b[0;36mfit\u001b[0;34m(self, X, y, sample_weight, eval_set, eval_metric, early_stopping_rounds, verbose, xgb_model)\u001b[0m\n\u001b[1;32m    261\u001b[0m                                    missing=self.missing, nthread=self.n_jobs)\n\u001b[1;32m    262\u001b[0m         \u001b[0;32melse\u001b[0m\u001b[0;34m:\u001b[0m\u001b[0;34m\u001b[0m\u001b[0m\n\u001b[0;32m--> 263\u001b[0;31m             \u001b[0mtrainDmatrix\u001b[0m \u001b[0;34m=\u001b[0m \u001b[0mDMatrix\u001b[0m\u001b[0;34m(\u001b[0m\u001b[0mX\u001b[0m\u001b[0;34m,\u001b[0m \u001b[0mlabel\u001b[0m\u001b[0;34m=\u001b[0m\u001b[0my\u001b[0m\u001b[0;34m,\u001b[0m \u001b[0mmissing\u001b[0m\u001b[0;34m=\u001b[0m\u001b[0mself\u001b[0m\u001b[0;34m.\u001b[0m\u001b[0mmissing\u001b[0m\u001b[0;34m,\u001b[0m \u001b[0mnthread\u001b[0m\u001b[0;34m=\u001b[0m\u001b[0mself\u001b[0m\u001b[0;34m.\u001b[0m\u001b[0mn_jobs\u001b[0m\u001b[0;34m)\u001b[0m\u001b[0;34m\u001b[0m\u001b[0m\n\u001b[0m\u001b[1;32m    264\u001b[0m \u001b[0;34m\u001b[0m\u001b[0m\n\u001b[1;32m    265\u001b[0m         \u001b[0mevals_result\u001b[0m \u001b[0;34m=\u001b[0m \u001b[0;34m{\u001b[0m\u001b[0;34m}\u001b[0m\u001b[0;34m\u001b[0m\u001b[0m\n",
      "\u001b[0;32m~/anaconda3/lib/python3.6/site-packages/xgboost/core.py\u001b[0m in \u001b[0;36m__init__\u001b[0;34m(self, data, label, missing, weight, silent, feature_names, feature_types, nthread)\u001b[0m\n\u001b[1;32m    263\u001b[0m         data, feature_names, feature_types = _maybe_pandas_data(data,\n\u001b[1;32m    264\u001b[0m                                                                 \u001b[0mfeature_names\u001b[0m\u001b[0;34m,\u001b[0m\u001b[0;34m\u001b[0m\u001b[0m\n\u001b[0;32m--> 265\u001b[0;31m                                                                 feature_types)\n\u001b[0m\u001b[1;32m    266\u001b[0m         \u001b[0mlabel\u001b[0m \u001b[0;34m=\u001b[0m \u001b[0m_maybe_pandas_label\u001b[0m\u001b[0;34m(\u001b[0m\u001b[0mlabel\u001b[0m\u001b[0;34m)\u001b[0m\u001b[0;34m\u001b[0m\u001b[0m\n\u001b[1;32m    267\u001b[0m \u001b[0;34m\u001b[0m\u001b[0m\n",
      "\u001b[0;32m~/anaconda3/lib/python3.6/site-packages/xgboost/core.py\u001b[0m in \u001b[0;36m_maybe_pandas_data\u001b[0;34m(data, feature_names, feature_types)\u001b[0m\n\u001b[1;32m    184\u001b[0m         msg = \"\"\"DataFrame.dtypes for data must be int, float or bool.\n\u001b[1;32m    185\u001b[0m Did not expect the data types in fields \"\"\"\n\u001b[0;32m--> 186\u001b[0;31m         \u001b[0;32mraise\u001b[0m \u001b[0mValueError\u001b[0m\u001b[0;34m(\u001b[0m\u001b[0mmsg\u001b[0m \u001b[0;34m+\u001b[0m \u001b[0;34m', '\u001b[0m\u001b[0;34m.\u001b[0m\u001b[0mjoin\u001b[0m\u001b[0;34m(\u001b[0m\u001b[0mbad_fields\u001b[0m\u001b[0;34m)\u001b[0m\u001b[0;34m)\u001b[0m\u001b[0;34m\u001b[0m\u001b[0m\n\u001b[0m\u001b[1;32m    187\u001b[0m \u001b[0;34m\u001b[0m\u001b[0m\n\u001b[1;32m    188\u001b[0m     \u001b[0;32mif\u001b[0m \u001b[0mfeature_names\u001b[0m \u001b[0;32mis\u001b[0m \u001b[0;32mNone\u001b[0m\u001b[0;34m:\u001b[0m\u001b[0;34m\u001b[0m\u001b[0m\n",
      "\u001b[0;31mTypeError\u001b[0m: sequence item 0: expected str instance, tuple found"
     ]
    }
   ],
   "source": [
    "xgb_train = X1_train #train_df.iloc[:, 1:364].copy()\n",
    "xgb_train_y = y1_train #train_df.SalePrice\n",
    "xgb_test = X1_test #test_df.iloc[:, 1:364].copy()\n",
    "# X1_train,np.ravel(y1_train)\n",
    "\n",
    "import xgboost as xgb\n",
    "model = xgb.XGBRegressor()\n",
    "model.fit(xgb_train, xgb_train_y)\n",
    "\n",
    "# Allow the feature importances attribute to select the most important features\n",
    "xgb_feat_red = SelectFromModel(model, prefit = True)\n",
    "print(xgb_train.info())\n",
    "print(xgb_test.info())\n",
    "# Reduce estimation, validation and test datasets\n",
    "xgb_train = xgb_feat_red.transform(xgb_train)\n",
    "xgb_test = xgb_feat_red.transform(xgb_test)\n",
    "print(xgb_train.shape)\n",
    "print(xgb_test.shape)\n",
    "xgb_lasso = LassoCV(alphas = alpha_ridge1).fit(xgb_train, xgb_train_y)\n",
    "#np.sqrt(-cross_val_score(xgb_lasso, xgb_train, train_df.SalePrice, scoring=\"neg_mean_squared_error\", cv = 10)).mean()\n",
    "\n",
    "pred = np.expm1(xgb_lasso.predict(xgb_test))"
   ]
  },
  {
   "cell_type": "markdown",
   "metadata": {},
   "source": [
    "# Test Predictions"
   ]
  },
  {
   "cell_type": "code",
   "execution_count": 2422,
   "metadata": {},
   "outputs": [],
   "source": [
    "X2_train = pd.DataFrame(X)\n",
    "X2_train.columns = [list(train.columns)[1:]]\n",
    "\n",
    "y2_train = pd.Series(y)\n",
    "\n",
    "X2_test = test\n",
    "# X1_test.columns = [list(train.columns)[:-1]]"
   ]
  },
  {
   "cell_type": "code",
   "execution_count": 2423,
   "metadata": {},
   "outputs": [
    {
     "data": {
      "text/plain": [
       "1459"
      ]
     },
     "execution_count": 2423,
     "metadata": {},
     "output_type": "execute_result"
    }
   ],
   "source": [
    "len(X2_test)"
   ]
  },
  {
   "cell_type": "code",
   "execution_count": 2424,
   "metadata": {},
   "outputs": [],
   "source": [
    "elasticNet = linear_model.ElasticNetCV(l1_ratio=l1_ratio, n_alphas=100, alphas=alpha_lasso1, fit_intercept=True, normalize=True, precompute='auto', max_iter=500000, tol=0.0001, cv=20, copy_X=True, verbose=0, n_jobs=1, positive=False, random_state=0, selection = 'cyclic').fit(X2_train,np.ravel(y2_train))"
   ]
  },
  {
   "cell_type": "code",
   "execution_count": 2425,
   "metadata": {},
   "outputs": [],
   "source": [
    "lasso = linear_model.LassoCV(n_alphas=100, alphas=alphas_lasso, cv=20, random_state=0, max_iter=500000).fit(X2_train,np.ravel(y2_train))"
   ]
  },
  {
   "cell_type": "code",
   "execution_count": 2426,
   "metadata": {},
   "outputs": [
    {
     "data": {
      "text/plain": [
       "0.01"
      ]
     },
     "execution_count": 2426,
     "metadata": {},
     "output_type": "execute_result"
    }
   ],
   "source": [
    "lasso.alpha_"
   ]
  },
  {
   "cell_type": "code",
   "execution_count": 2427,
   "metadata": {},
   "outputs": [],
   "source": [
    "y_predE2 = elasticNet.predict(X2_test)"
   ]
  },
  {
   "cell_type": "code",
   "execution_count": 2428,
   "metadata": {},
   "outputs": [],
   "source": [
    "y_predL2 = lasso.predict(X2_test)"
   ]
  },
  {
   "cell_type": "code",
   "execution_count": 2438,
   "metadata": {},
   "outputs": [],
   "source": [
    "#y_predL2 = [math.exp(i) for i in y_predL2]"
   ]
  },
  {
   "cell_type": "code",
   "execution_count": 2433,
   "metadata": {},
   "outputs": [],
   "source": [
    "SalePrice = pd.DataFrame(y_predL2)\n",
    "SalePrice.columns = ['SalePrice']\n",
    "#SalePrice"
   ]
  },
  {
   "cell_type": "code",
   "execution_count": 2434,
   "metadata": {},
   "outputs": [],
   "source": [
    "path_to_file = \"../../data/test.csv\"\n",
    "testFinal = pd.read_csv(path_to_file)"
   ]
  },
  {
   "cell_type": "code",
   "execution_count": 2435,
   "metadata": {},
   "outputs": [],
   "source": [
    "testFinal = pd.concat([testFinal, SalePrice], axis =1)\n",
    "#testFinal.set_index(['Id'], inplace = True)"
   ]
  },
  {
   "cell_type": "code",
   "execution_count": 2436,
   "metadata": {},
   "outputs": [],
   "source": [
    "testResults = testFinal[['Id','SalePrice']]"
   ]
  },
  {
   "cell_type": "code",
   "execution_count": 2437,
   "metadata": {},
   "outputs": [],
   "source": [
    "testResults.to_csv('testResultsL.csv', index = False)"
   ]
  }
 ],
 "metadata": {
  "kernelspec": {
   "display_name": "Python 3",
   "language": "python",
   "name": "python3"
  },
  "language_info": {
   "codemirror_mode": {
    "name": "ipython",
    "version": 3
   },
   "file_extension": ".py",
   "mimetype": "text/x-python",
   "name": "python",
   "nbconvert_exporter": "python",
   "pygments_lexer": "ipython3",
   "version": "3.6.4"
  }
 },
 "nbformat": 4,
 "nbformat_minor": 2
}
